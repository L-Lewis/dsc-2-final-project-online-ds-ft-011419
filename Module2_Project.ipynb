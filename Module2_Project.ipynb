{
 "cells": [
  {
   "cell_type": "markdown",
   "metadata": {},
   "source": [
    "# Module 2 project\n",
    "*Laura Lewis, March 2019*"
   ]
  },
  {
   "cell_type": "markdown",
   "metadata": {},
   "source": [
    "Overall goal - use the Northwind database to extract useful insights for the company. Northwind database is... Microsoft... etc... Specifically, asking four questions:\n",
    "\n",
    "1. Do discounts have a statistically significant effect on the number of products customers order? If so, at what level(s) of discount?\n",
    "\n",
    "2. Do discounts result in customers spending more or less on their orders? If so, at what level(s) of discount, and do discounts earn more than they cost?\n",
    "\n",
    "3. Does the average amount spent per order vary between customers from different regions?\n",
    "\n",
    "4. Do customers order more products on particular days of the week?\n",
    "\n",
    "***"
   ]
  },
  {
   "cell_type": "markdown",
   "metadata": {},
   "source": [
    "## Question 1: Do discounts have a statistically significant effect on the number of products customers order? If so, at what level(s) of discount?"
   ]
  },
  {
   "cell_type": "markdown",
   "metadata": {},
   "source": [
    "### Obtaining and scrubbing the data"
   ]
  },
  {
   "cell_type": "markdown",
   "metadata": {},
   "source": [
    "In this section, the data required to answer the question will be imported using SQLAlchemy. Then the dataset will be cleaned so that exploratory analysis and statistical tests are able to be conducted in the following section."
   ]
  },
  {
   "cell_type": "code",
   "execution_count": 1,
   "metadata": {},
   "outputs": [],
   "source": [
    "# Importing required libraries\n",
    "import pandas as pd\n",
    "import numpy as np\n",
    "import matplotlib.pyplot as plt\n",
    "import seaborn as sns\n",
    "%matplotlib inline\n",
    "import sqlalchemy\n",
    "from sqlalchemy import create_engine\n",
    "from sqlalchemy.orm import Session, sessionmaker\n",
    "from sqlalchemy import inspect\n",
    "from scipy import stats\n",
    "import statsmodels.api as sm\n",
    "from statsmodels.formula.api import ols"
   ]
  },
  {
   "cell_type": "markdown",
   "metadata": {},
   "source": [
    "The database schema is illustrated below. This was used to determine what data was required and how to extract it."
   ]
  },
  {
   "cell_type": "markdown",
   "metadata": {},
   "source": [
    "![title](Northwind_ERD.png)"
   ]
  },
  {
   "cell_type": "code",
   "execution_count": 2,
   "metadata": {},
   "outputs": [
    {
     "name": "stdout",
     "output_type": "stream",
     "text": [
      "2019-03-08 10:34:57,841 INFO sqlalchemy.engine.base.Engine SELECT CAST('test plain returns' AS VARCHAR(60)) AS anon_1\n",
      "2019-03-08 10:34:57,850 INFO sqlalchemy.engine.base.Engine ()\n",
      "2019-03-08 10:34:57,852 INFO sqlalchemy.engine.base.Engine SELECT CAST('test unicode returns' AS VARCHAR(60)) AS anon_1\n",
      "2019-03-08 10:34:57,853 INFO sqlalchemy.engine.base.Engine ()\n"
     ]
    }
   ],
   "source": [
    "# Creating an engine and connecting to a database with SQLAlchemy\n",
    "engine = create_engine(\"sqlite:///Northwind_small.sqlite\", echo=True)\n",
    "Session = sessionmaker(bind=engine)\n",
    "session = Session()\n",
    "con = engine.connect()"
   ]
  },
  {
   "cell_type": "code",
   "execution_count": 3,
   "metadata": {
    "scrolled": true
   },
   "outputs": [
    {
     "name": "stdout",
     "output_type": "stream",
     "text": [
      "2019-03-08 10:34:58,535 INFO sqlalchemy.engine.base.Engine SELECT name FROM sqlite_master WHERE type='table' ORDER BY name\n",
      "2019-03-08 10:34:58,537 INFO sqlalchemy.engine.base.Engine ()\n"
     ]
    },
    {
     "data": {
      "text/plain": [
       "['Category',\n",
       " 'Customer',\n",
       " 'CustomerCustomerDemo',\n",
       " 'CustomerDemographic',\n",
       " 'Employee',\n",
       " 'EmployeeTerritory',\n",
       " 'Order',\n",
       " 'OrderDetail',\n",
       " 'Product',\n",
       " 'Region',\n",
       " 'Shipper',\n",
       " 'Supplier',\n",
       " 'Territory']"
      ]
     },
     "execution_count": 3,
     "metadata": {},
     "output_type": "execute_result"
    }
   ],
   "source": [
    "# Getting the table names\n",
    "inspector = inspect(engine)\n",
    "inspector.get_table_names()"
   ]
  },
  {
   "cell_type": "markdown",
   "metadata": {},
   "source": [
    "In this query, we want to extract the quantity of products ordered and the discount level for each order, so we need to group by OrderId. There is also a chance that different discount levels have been applied within the same order, so we also want to group by Discount so that each discount level for each order can be seen (otherwise the query may simply select and display the first Discount value that appears for that order). OrderId refers to the overall ID of the whole order (it is a foreign key, linking to the primary key of the Orders table), whereas Id in the OrderDetails table refers to a sub-order, where there is a separate Id for each individual product within the overall order. This is why we group by OrderId rather than Id."
   ]
  },
  {
   "cell_type": "code",
   "execution_count": 117,
   "metadata": {},
   "outputs": [
    {
     "name": "stdout",
     "output_type": "stream",
     "text": [
      "2019-03-08 14:02:21,999 INFO sqlalchemy.engine.base.Engine SELECT OrderId, SUM(Quantity) as Total_Quantity, Discount\n",
      "FROM OrderDetail\n",
      "GROUP BY OrderId, Discount\n",
      "2019-03-08 14:02:22,000 INFO sqlalchemy.engine.base.Engine ()\n"
     ]
    },
    {
     "data": {
      "text/html": [
       "<div>\n",
       "<style scoped>\n",
       "    .dataframe tbody tr th:only-of-type {\n",
       "        vertical-align: middle;\n",
       "    }\n",
       "\n",
       "    .dataframe tbody tr th {\n",
       "        vertical-align: top;\n",
       "    }\n",
       "\n",
       "    .dataframe thead th {\n",
       "        text-align: right;\n",
       "    }\n",
       "</style>\n",
       "<table border=\"1\" class=\"dataframe\">\n",
       "  <thead>\n",
       "    <tr style=\"text-align: right;\">\n",
       "      <th></th>\n",
       "      <th>OrderId</th>\n",
       "      <th>Total_Quantity</th>\n",
       "      <th>Discount</th>\n",
       "    </tr>\n",
       "  </thead>\n",
       "  <tbody>\n",
       "    <tr>\n",
       "      <th>0</th>\n",
       "      <td>10248</td>\n",
       "      <td>27</td>\n",
       "      <td>0.00</td>\n",
       "    </tr>\n",
       "    <tr>\n",
       "      <th>1</th>\n",
       "      <td>10249</td>\n",
       "      <td>49</td>\n",
       "      <td>0.00</td>\n",
       "    </tr>\n",
       "    <tr>\n",
       "      <th>2</th>\n",
       "      <td>10250</td>\n",
       "      <td>10</td>\n",
       "      <td>0.00</td>\n",
       "    </tr>\n",
       "    <tr>\n",
       "      <th>3</th>\n",
       "      <td>10250</td>\n",
       "      <td>50</td>\n",
       "      <td>0.15</td>\n",
       "    </tr>\n",
       "    <tr>\n",
       "      <th>4</th>\n",
       "      <td>10251</td>\n",
       "      <td>20</td>\n",
       "      <td>0.00</td>\n",
       "    </tr>\n",
       "  </tbody>\n",
       "</table>\n",
       "</div>"
      ],
      "text/plain": [
       "   OrderId  Total_Quantity  Discount\n",
       "0    10248              27      0.00\n",
       "1    10249              49      0.00\n",
       "2    10250              10      0.00\n",
       "3    10250              50      0.15\n",
       "4    10251              20      0.00"
      ]
     },
     "execution_count": 117,
     "metadata": {},
     "output_type": "execute_result"
    }
   ],
   "source": [
    "# Extracting the dataset for question 1 as a pandas dataframe\n",
    "df1 = pd.read_sql_query(\"\"\"SELECT OrderId, SUM(Quantity) as Total_Quantity, Discount\n",
    "FROM OrderDetail\n",
    "GROUP BY OrderId, Discount\"\"\", engine)\n",
    "df1.head()"
   ]
  },
  {
   "cell_type": "code",
   "execution_count": 118,
   "metadata": {},
   "outputs": [
    {
     "data": {
      "text/plain": [
       "830"
      ]
     },
     "execution_count": 118,
     "metadata": {},
     "output_type": "execute_result"
    }
   ],
   "source": [
    "# Number of unique OrderIds in the dataset\n",
    "df1.OrderId.nunique()"
   ]
  },
  {
   "cell_type": "code",
   "execution_count": 119,
   "metadata": {
    "scrolled": true
   },
   "outputs": [
    {
     "data": {
      "text/plain": [
       "1000"
      ]
     },
     "execution_count": 119,
     "metadata": {},
     "output_type": "execute_result"
    }
   ],
   "source": [
    "# Total number of rows in the dataset\n",
    "len(df1)"
   ]
  },
  {
   "cell_type": "markdown",
   "metadata": {},
   "source": [
    "There are 830 orders in the dataset, but 1000 rows. Because orders are grouped by discount as well as by order, this means that some orders contain products with different discounts applied (e.g. order 10250 contains 10 items with no discount, and 50 items with a 15% discount). There are multiple ways of dealing with this, e.g. in the case of order 10250 this could be counted as two separate orders, or the discount applied to the majority of items could be used. However, because the purpose of this analysis is to later be able to conduct statistical tests, it is preferable here to drop the rows that could confuse the analysis (e.g. because products are counted as being from separate orders when they were actually placed by the same person at the same time in the same order)."
   ]
  },
  {
   "cell_type": "code",
   "execution_count": 7,
   "metadata": {},
   "outputs": [],
   "source": [
    "# Dropping all rows containing duplicates of OrderId\n",
    "df1.drop_duplicates(subset=['OrderId'], keep=False, inplace=True)"
   ]
  },
  {
   "cell_type": "code",
   "execution_count": 8,
   "metadata": {},
   "outputs": [
    {
     "name": "stdout",
     "output_type": "stream",
     "text": [
      "667\n",
      "True\n"
     ]
    }
   ],
   "source": [
    "# Checking the new length of the dataset and whether duplicates have been dropped\n",
    "print(len(df1))\n",
    "print(df1.OrderId.nunique() == len(df1))"
   ]
  },
  {
   "cell_type": "markdown",
   "metadata": {},
   "source": [
    "The question refers to orders either with or without a discount. An additional column will be added to bin discount levels into orders where the discount is 0 (no discount) and orders with a discount greater than 0 (has a discount)."
   ]
  },
  {
   "cell_type": "code",
   "execution_count": 10,
   "metadata": {},
   "outputs": [],
   "source": [
    "# Binning discount levels into 1 (discount) and 0 (no discount)\n",
    "df1['Discount_bin'] = df1['Discount'].apply(lambda x: 1 if x > 0 else 0)"
   ]
  },
  {
   "cell_type": "markdown",
   "metadata": {},
   "source": [
    "The database can now be inspected for any further necessary cleaning."
   ]
  },
  {
   "cell_type": "code",
   "execution_count": 9,
   "metadata": {
    "scrolled": true
   },
   "outputs": [
    {
     "name": "stdout",
     "output_type": "stream",
     "text": [
      "<class 'pandas.core.frame.DataFrame'>\n",
      "Int64Index: 667 entries, 0 to 990\n",
      "Data columns (total 3 columns):\n",
      "OrderId           667 non-null int64\n",
      "Total_Quantity    667 non-null int64\n",
      "Discount          667 non-null float64\n",
      "dtypes: float64(1), int64(2)\n",
      "memory usage: 20.8 KB\n"
     ]
    }
   ],
   "source": [
    "df1.info()"
   ]
  },
  {
   "cell_type": "markdown",
   "metadata": {},
   "source": [
    "There are no null values, so there is no need to replace any values."
   ]
  },
  {
   "cell_type": "markdown",
   "metadata": {},
   "source": [
    "### Exploring the data and answering the question"
   ]
  },
  {
   "cell_type": "markdown",
   "metadata": {},
   "source": [
    "In this section, the dataset will be explored and the question will be answered by using statistical tests."
   ]
  },
  {
   "cell_type": "markdown",
   "metadata": {},
   "source": [
    "#### Do discounts have a statistically significant effect on the number of products customers order? If so, at what level(s) of discount?\n",
    "\n",
    "To answer the first part of this question, a null and alternate hypothesis first need to be created:\n",
    "\n",
    "**H<sub>0</sub>**: the average number of products ordered is the same with and without a discount\n",
    "\n",
    "**H<sub>a</sub>**: the average number of products ordered with a discount is either higher or lower than orders without a discount\n",
    "\n",
    "The alpha level (i.e. the probability of rejecting the null hypothesis when it is true) will be set at 0.05."
   ]
  },
  {
   "cell_type": "code",
   "execution_count": 11,
   "metadata": {},
   "outputs": [
    {
     "data": {
      "text/html": [
       "<div>\n",
       "<style scoped>\n",
       "    .dataframe tbody tr th:only-of-type {\n",
       "        vertical-align: middle;\n",
       "    }\n",
       "\n",
       "    .dataframe tbody tr th {\n",
       "        vertical-align: top;\n",
       "    }\n",
       "\n",
       "    .dataframe thead th {\n",
       "        text-align: right;\n",
       "    }\n",
       "</style>\n",
       "<table border=\"1\" class=\"dataframe\">\n",
       "  <thead>\n",
       "    <tr style=\"text-align: right;\">\n",
       "      <th></th>\n",
       "      <th>OrderId</th>\n",
       "      <th>Total_Quantity</th>\n",
       "      <th>Discount</th>\n",
       "      <th>Discount_bin</th>\n",
       "    </tr>\n",
       "  </thead>\n",
       "  <tbody>\n",
       "    <tr>\n",
       "      <th>count</th>\n",
       "      <td>667.000000</td>\n",
       "      <td>667.000000</td>\n",
       "      <td>667.000000</td>\n",
       "      <td>667.000000</td>\n",
       "    </tr>\n",
       "    <tr>\n",
       "      <th>mean</th>\n",
       "      <td>10666.509745</td>\n",
       "      <td>56.608696</td>\n",
       "      <td>0.046027</td>\n",
       "      <td>0.325337</td>\n",
       "    </tr>\n",
       "    <tr>\n",
       "      <th>std</th>\n",
       "      <td>238.826223</td>\n",
       "      <td>48.787196</td>\n",
       "      <td>0.078193</td>\n",
       "      <td>0.468852</td>\n",
       "    </tr>\n",
       "    <tr>\n",
       "      <th>min</th>\n",
       "      <td>10248.000000</td>\n",
       "      <td>1.000000</td>\n",
       "      <td>0.000000</td>\n",
       "      <td>0.000000</td>\n",
       "    </tr>\n",
       "    <tr>\n",
       "      <th>25%</th>\n",
       "      <td>10459.000000</td>\n",
       "      <td>22.000000</td>\n",
       "      <td>0.000000</td>\n",
       "      <td>0.000000</td>\n",
       "    </tr>\n",
       "    <tr>\n",
       "      <th>50%</th>\n",
       "      <td>10671.000000</td>\n",
       "      <td>42.000000</td>\n",
       "      <td>0.000000</td>\n",
       "      <td>0.000000</td>\n",
       "    </tr>\n",
       "    <tr>\n",
       "      <th>75%</th>\n",
       "      <td>10873.500000</td>\n",
       "      <td>77.500000</td>\n",
       "      <td>0.050000</td>\n",
       "      <td>1.000000</td>\n",
       "    </tr>\n",
       "    <tr>\n",
       "      <th>max</th>\n",
       "      <td>11076.000000</td>\n",
       "      <td>346.000000</td>\n",
       "      <td>0.250000</td>\n",
       "      <td>1.000000</td>\n",
       "    </tr>\n",
       "  </tbody>\n",
       "</table>\n",
       "</div>"
      ],
      "text/plain": [
       "            OrderId  Total_Quantity    Discount  Discount_bin\n",
       "count    667.000000      667.000000  667.000000    667.000000\n",
       "mean   10666.509745       56.608696    0.046027      0.325337\n",
       "std      238.826223       48.787196    0.078193      0.468852\n",
       "min    10248.000000        1.000000    0.000000      0.000000\n",
       "25%    10459.000000       22.000000    0.000000      0.000000\n",
       "50%    10671.000000       42.000000    0.000000      0.000000\n",
       "75%    10873.500000       77.500000    0.050000      1.000000\n",
       "max    11076.000000      346.000000    0.250000      1.000000"
      ]
     },
     "execution_count": 11,
     "metadata": {},
     "output_type": "execute_result"
    }
   ],
   "source": [
    "# Inspecting the summary statistics\n",
    "df1.describe()"
   ]
  },
  {
   "cell_type": "markdown",
   "metadata": {},
   "source": [
    "The graphs below show that discounts range from 5% off to 25% off. The vast majority of orders have no discount. However, the average number of items per order with any level of discount is higher than for orders with no discount, although this does not appear to be a consistently increasing pattern."
   ]
  },
  {
   "cell_type": "code",
   "execution_count": 12,
   "metadata": {},
   "outputs": [
    {
     "data": {
      "image/png": "[encoded data removed]",
      "text/plain": [
       "<Figure size 576x432 with 2 Axes>"
      ]
     },
     "metadata": {
      "needs_background": "light"
     },
     "output_type": "display_data"
    }
   ],
   "source": [
    "# Plotting the number of orders and average quantity of items per order for orders with different levels of discount\n",
    "fig, (ax1, ax2) = plt.subplots(2, 1, figsize=(8,6))\n",
    "df1.groupby(['Discount'])['Total_Quantity'].count().plot(kind='barh', ax=ax1)\n",
    "df1.groupby(['Discount'])['Total_Quantity'].mean().plot(kind='barh', ax=ax2)\n",
    "ax1.set_title('Total number of orders')\n",
    "ax1.set_ylabel('Discount')\n",
    "ax2.set_ylabel('Discount')\n",
    "ax2.set_title('Average number of items per order')\n",
    "ax1.set_yticklabels(['None', '5%', '10%', '15%', '20%', '25%'])\n",
    "ax2.set_yticklabels(['None', '5%', '10%', '15%', '20%', '25%'])\n",
    "fig.subplots_adjust(hspace=0.4);"
   ]
  },
  {
   "cell_type": "markdown",
   "metadata": {},
   "source": [
    "Another way of viewing this pattern, in a form that has more relevance for the particular null and alternate hypotheses under consideration, is to group orders by those with and without discounts. Although about twice as many orders have no discount compared to some level of discount, orders with a discount contain more items on average (65 items on average for orders with a discount, vs. 52 for orders with no discount). This lends support to the alternate hypothesis that the number of items per order is different for orders with discounts vs. no discounts. "
   ]
  },
  {
   "cell_type": "code",
   "execution_count": 13,
   "metadata": {
    "scrolled": false
   },
   "outputs": [
    {
     "data": {
      "image/png": "[encoded data removed]",
      "text/plain": [
       "<Figure size 576x432 with 2 Axes>"
      ]
     },
     "metadata": {
      "needs_background": "light"
     },
     "output_type": "display_data"
    }
   ],
   "source": [
    "# Plotting the number of orders and average quantity of items per order for orders with and without discounts\n",
    "fig, (ax1, ax2) = plt.subplots(2, 1, figsize=(8,6))\n",
    "df1.groupby(['Discount_bin'])['Total_Quantity'].count().plot(kind='barh', ax=ax1, color=['indianred', 'seagreen'])\n",
    "df1.groupby(['Discount_bin'])['Total_Quantity'].mean().plot(kind='barh', ax=ax2, color=['indianred', 'seagreen'])\n",
    "ax1.set_title('Total number of orders')\n",
    "ax1.set_ylabel('')\n",
    "ax2.set_ylabel('')\n",
    "ax2.set_title('Average number of items per order')\n",
    "ax1.set_yticklabels(['No discount', 'Discount'])\n",
    "ax2.set_yticklabels(['No discount', 'Discount'])\n",
    "fig.subplots_adjust(hspace=0.6);"
   ]
  },
  {
   "cell_type": "code",
   "execution_count": 14,
   "metadata": {
    "scrolled": false
   },
   "outputs": [
    {
     "data": {
      "text/plain": [
       "Discount_bin\n",
       "0    52.0\n",
       "1    65.0\n",
       "Name: Total_Quantity, dtype: float64"
      ]
     },
     "execution_count": 14,
     "metadata": {},
     "output_type": "execute_result"
    }
   ],
   "source": [
    "# Average number of items for orders with and without a discount\n",
    "round(df1.groupby(['Discount_bin'])['Total_Quantity'].mean(),0)"
   ]
  },
  {
   "cell_type": "markdown",
   "metadata": {},
   "source": [
    "In order to answer this question with a degree of rigour, we must use statistical tests rather than just descriptive statistics. The correct hypothesis test needs to be chosen. In this case, a two-tailed t-test will be used. This is because the data is continuous, and because we are looking for either a decrease _or_ an increase in the number of products ordered.\n",
    "\n",
    "A two-sample t-test assumes that the data is normally distributed, and that the samples have equal variances. This can be assessed with distribution plots:"
   ]
  },
  {
   "cell_type": "code",
   "execution_count": 15,
   "metadata": {},
   "outputs": [
    {
     "name": "stderr",
     "output_type": "stream",
     "text": [
      "C:\\Users\\Laura\\Anaconda3\\envs\\learn-env\\lib\\site-packages\\scipy\\stats\\stats.py:1713: FutureWarning: Using a non-tuple sequence for multidimensional indexing is deprecated; use `arr[tuple(seq)]` instead of `arr[seq]`. In the future this will be interpreted as an array index, `arr[np.array(seq)]`, which will result either in an error or a different result.\n",
      "  return np.add.reduce(sorted[indexer] * weights, axis=axis) / sumval\n"
     ]
    },
    {
     "data": {
      "image/png": "[encoded data removed]",
      "text/plain": [
       "<Figure size 432x288 with 1 Axes>"
      ]
     },
     "metadata": {
      "needs_background": "light"
     },
     "output_type": "display_data"
    }
   ],
   "source": [
    "# Separating the dataset into orders with and without discounts, and assessing their distributions.\n",
    "discount = df1[df1['Discount_bin'] == 1]\n",
    "no_discount = df1[df1['Discount_bin'] == 0]\n",
    "sns.distplot(discount.Total_Quantity, label='Discount')\n",
    "sns.distplot(no_discount.Total_Quantity, label='No discount')\n",
    "plt.title('Distribution plots of the number of items per order')\n",
    "plt.legend();"
   ]
  },
  {
   "cell_type": "markdown",
   "metadata": {},
   "source": [
    "The distribution plots above show that these assumptions hold true, and so a standard t-test can be used (as opposed to a Welch's t-test)."
   ]
  },
  {
   "cell_type": "code",
   "execution_count": 16,
   "metadata": {},
   "outputs": [
    {
     "data": {
      "text/plain": [
       "Ttest_indResult(statistic=3.1998176433298506, pvalue=0.0014405227760355727)"
      ]
     },
     "execution_count": 16,
     "metadata": {},
     "output_type": "execute_result"
    }
   ],
   "source": [
    "# Running a two-sided t-test to compare two independent samples\n",
    "stats.ttest_ind(discount.Total_Quantity, no_discount.Total_Quantity)"
   ]
  },
  {
   "cell_type": "code",
   "execution_count": 17,
   "metadata": {},
   "outputs": [
    {
     "name": "stdout",
     "output_type": "stream",
     "text": [
      "Average items per order for orders with no discounts:  52.4\n",
      "Average items per order for orders with discounts:  65.3\n",
      "Effect size:  12.8\n",
      "Relative effect size (increase from no discount to discount):  24.4\n"
     ]
    }
   ],
   "source": [
    "print(\"Average items per order for orders with no discounts: \", round(no_discount['Total_Quantity'].mean(),1))\n",
    "print(\"Average items per order for orders with discounts: \", round(discount['Total_Quantity'].mean(),1))\n",
    "print(\"Effect size: \", round(discount['Total_Quantity'].mean() - no_discount['Total_Quantity'].mean(),1))\n",
    "print(\"Relative effect size (increase from no discount to discount): \", round(((discount['Total_Quantity'].mean() - no_discount['Total_Quantity'].mean())/no_discount['Total_Quantity'].mean())*100,1))"
   ]
  },
  {
   "cell_type": "markdown",
   "metadata": {},
   "source": [
    "The p-value is 0.001, which is less than our alpha value of 0.05. Therefore we can reject the null hypothesis and accept the alternative hypothesis. We can conclude that there is a statistically significant difference between the average number of items per order for orders with and without discounts, i.e. offering a discount does change (in this case increase) the number of items that a customer orders.\n",
    "\n",
    "**On average:**\n",
    "\n",
    " - **There are 52 items per order with no discount, and 65 items per order with a discount**\n",
    "\n",
    " - **Orders with discounts contain 13 more items than orders with no discounts, which is a 24% increase.**\n",
    "\n",
    "**However, these correlations do not necessarily imply causation, and so it is not possible to categorically state that offering a discount will necessarily increase the order size by 24%.**"
   ]
  },
  {
   "cell_type": "markdown",
   "metadata": {},
   "source": [
    "The second part of the question asks at what level of discount the statistically significant effect occurs. To answer this part of this question, a new null and alternate hypothesis need to be created:\n",
    "\n",
    "**H<sub>0</sub>**: the average number of products ordered is the same at different levels of discount\n",
    "\n",
    "**H<sub>a</sub>**: the average number of products ordered is different between the different levels of discount\n",
    "\n",
    "The alpha level (i.e. the probability of rejecting the null hypothesis when it is true) will be set at 0.05."
   ]
  },
  {
   "cell_type": "markdown",
   "metadata": {},
   "source": [
    "To answer this question, ANOVA will be used in order to assess the degree of variation between multiple samples, where each sample is a different level of discount."
   ]
  },
  {
   "cell_type": "code",
   "execution_count": 18,
   "metadata": {},
   "outputs": [
    {
     "data": {
      "text/html": [
       "<div>\n",
       "<style scoped>\n",
       "    .dataframe tbody tr th:only-of-type {\n",
       "        vertical-align: middle;\n",
       "    }\n",
       "\n",
       "    .dataframe tbody tr th {\n",
       "        vertical-align: top;\n",
       "    }\n",
       "\n",
       "    .dataframe thead th {\n",
       "        text-align: right;\n",
       "    }\n",
       "</style>\n",
       "<table border=\"1\" class=\"dataframe\">\n",
       "  <thead>\n",
       "    <tr style=\"text-align: right;\">\n",
       "      <th></th>\n",
       "      <th>sum_sq</th>\n",
       "      <th>df</th>\n",
       "      <th>F</th>\n",
       "      <th>PR(&gt;F)</th>\n",
       "    </tr>\n",
       "  </thead>\n",
       "  <tbody>\n",
       "    <tr>\n",
       "      <th>C(Discount)</th>\n",
       "      <td>4673.859574</td>\n",
       "      <td>4.0</td>\n",
       "      <td>0.486108</td>\n",
       "      <td>0.745935</td>\n",
       "    </tr>\n",
       "    <tr>\n",
       "      <th>Residual</th>\n",
       "      <td>509587.200334</td>\n",
       "      <td>212.0</td>\n",
       "      <td>NaN</td>\n",
       "      <td>NaN</td>\n",
       "    </tr>\n",
       "  </tbody>\n",
       "</table>\n",
       "</div>"
      ],
      "text/plain": [
       "                    sum_sq     df         F    PR(>F)\n",
       "C(Discount)    4673.859574    4.0  0.486108  0.745935\n",
       "Residual     509587.200334  212.0       NaN       NaN"
      ]
     },
     "execution_count": 18,
     "metadata": {},
     "output_type": "execute_result"
    }
   ],
   "source": [
    "# Fitting a model of Total_Quantity on Discount categories, and using statsmodels to compute an ANOVA table\n",
    "lm = ols('Total_Quantity ~ C(Discount)', discount).fit()\n",
    "sm.stats.anova_lm(lm, typ=2)"
   ]
  },
  {
   "cell_type": "code",
   "execution_count": 19,
   "metadata": {
    "scrolled": true
   },
   "outputs": [
    {
     "data": {
      "text/html": [
       "<table class=\"simpletable\">\n",
       "<caption>OLS Regression Results</caption>\n",
       "<tr>\n",
       "  <th>Dep. Variable:</th>     <td>Total_Quantity</td>  <th>  R-squared:         </th> <td>   0.009</td>\n",
       "</tr>\n",
       "<tr>\n",
       "  <th>Model:</th>                   <td>OLS</td>       <th>  Adj. R-squared:    </th> <td>  -0.010</td>\n",
       "</tr>\n",
       "<tr>\n",
       "  <th>Method:</th>             <td>Least Squares</td>  <th>  F-statistic:       </th> <td>  0.4861</td>\n",
       "</tr>\n",
       "<tr>\n",
       "  <th>Date:</th>             <td>Thu, 07 Mar 2019</td> <th>  Prob (F-statistic):</th>  <td> 0.746</td> \n",
       "</tr>\n",
       "<tr>\n",
       "  <th>Time:</th>                 <td>18:03:49</td>     <th>  Log-Likelihood:    </th> <td> -1150.0</td>\n",
       "</tr>\n",
       "<tr>\n",
       "  <th>No. Observations:</th>      <td>   217</td>      <th>  AIC:               </th> <td>   2310.</td>\n",
       "</tr>\n",
       "<tr>\n",
       "  <th>Df Residuals:</th>          <td>   212</td>      <th>  BIC:               </th> <td>   2327.</td>\n",
       "</tr>\n",
       "<tr>\n",
       "  <th>Df Model:</th>              <td>     4</td>      <th>                     </th>     <td> </td>   \n",
       "</tr>\n",
       "<tr>\n",
       "  <th>Covariance Type:</th>      <td>nonrobust</td>    <th>                     </th>     <td> </td>   \n",
       "</tr>\n",
       "</table>\n",
       "<table class=\"simpletable\">\n",
       "<tr>\n",
       "           <td></td>              <th>coef</th>     <th>std err</th>      <th>t</th>      <th>P>|t|</th>  <th>[0.025</th>    <th>0.975]</th>  \n",
       "</tr>\n",
       "<tr>\n",
       "  <th>Intercept</th>           <td>   61.6379</td> <td>    6.438</td> <td>    9.575</td> <td> 0.000</td> <td>   48.948</td> <td>   74.328</td>\n",
       "</tr>\n",
       "<tr>\n",
       "  <th>C(Discount)[T.0.1]</th>  <td>   -2.3879</td> <td>   10.077</td> <td>   -0.237</td> <td> 0.813</td> <td>  -22.251</td> <td>   17.475</td>\n",
       "</tr>\n",
       "<tr>\n",
       "  <th>C(Discount)[T.0.15]</th> <td>    3.5565</td> <td>   10.403</td> <td>    0.342</td> <td> 0.733</td> <td>  -16.949</td> <td>   24.062</td>\n",
       "</tr>\n",
       "<tr>\n",
       "  <th>C(Discount)[T.0.2]</th>  <td>    9.4046</td> <td>    9.622</td> <td>    0.977</td> <td> 0.329</td> <td>   -9.563</td> <td>   28.372</td>\n",
       "</tr>\n",
       "<tr>\n",
       "  <th>C(Discount)[T.0.25]</th> <td>    8.6121</td> <td>   10.403</td> <td>    0.828</td> <td> 0.409</td> <td>  -11.894</td> <td>   29.118</td>\n",
       "</tr>\n",
       "</table>\n",
       "<table class=\"simpletable\">\n",
       "<tr>\n",
       "  <th>Omnibus:</th>       <td>64.115</td> <th>  Durbin-Watson:     </th> <td>   2.178</td>\n",
       "</tr>\n",
       "<tr>\n",
       "  <th>Prob(Omnibus):</th> <td> 0.000</td> <th>  Jarque-Bera (JB):  </th> <td> 131.741</td>\n",
       "</tr>\n",
       "<tr>\n",
       "  <th>Skew:</th>          <td> 1.433</td> <th>  Prob(JB):          </th> <td>2.47e-29</td>\n",
       "</tr>\n",
       "<tr>\n",
       "  <th>Kurtosis:</th>      <td> 5.520</td> <th>  Cond. No.          </th> <td>    5.17</td>\n",
       "</tr>\n",
       "</table><br/><br/>Warnings:<br/>[1] Standard Errors assume that the covariance matrix of the errors is correctly specified."
      ],
      "text/plain": [
       "<class 'statsmodels.iolib.summary.Summary'>\n",
       "\"\"\"\n",
       "                            OLS Regression Results                            \n",
       "==============================================================================\n",
       "Dep. Variable:         Total_Quantity   R-squared:                       0.009\n",
       "Model:                            OLS   Adj. R-squared:                 -0.010\n",
       "Method:                 Least Squares   F-statistic:                    0.4861\n",
       "Date:                Thu, 07 Mar 2019   Prob (F-statistic):              0.746\n",
       "Time:                        18:03:49   Log-Likelihood:                -1150.0\n",
       "No. Observations:                 217   AIC:                             2310.\n",
       "Df Residuals:                     212   BIC:                             2327.\n",
       "Df Model:                           4                                         \n",
       "Covariance Type:            nonrobust                                         \n",
       "=======================================================================================\n",
       "                          coef    std err          t      P>|t|      [0.025      0.975]\n",
       "---------------------------------------------------------------------------------------\n",
       "Intercept              61.6379      6.438      9.575      0.000      48.948      74.328\n",
       "C(Discount)[T.0.1]     -2.3879     10.077     -0.237      0.813     -22.251      17.475\n",
       "C(Discount)[T.0.15]     3.5565     10.403      0.342      0.733     -16.949      24.062\n",
       "C(Discount)[T.0.2]      9.4046      9.622      0.977      0.329      -9.563      28.372\n",
       "C(Discount)[T.0.25]     8.6121     10.403      0.828      0.409     -11.894      29.118\n",
       "==============================================================================\n",
       "Omnibus:                       64.115   Durbin-Watson:                   2.178\n",
       "Prob(Omnibus):                  0.000   Jarque-Bera (JB):              131.741\n",
       "Skew:                           1.433   Prob(JB):                     2.47e-29\n",
       "Kurtosis:                       5.520   Cond. No.                         5.17\n",
       "==============================================================================\n",
       "\n",
       "Warnings:\n",
       "[1] Standard Errors assume that the covariance matrix of the errors is correctly specified.\n",
       "\"\"\""
      ]
     },
     "execution_count": 19,
     "metadata": {},
     "output_type": "execute_result"
    }
   ],
   "source": [
    "# Summary of the model and its coefficients\n",
    "lm.summary()"
   ]
  },
  {
   "cell_type": "markdown",
   "metadata": {},
   "source": [
    "The ANOVA table above reveals that the p-value is 0.746, which is much higher than our alpha value of 0.05. Therefore we cannot reject the null hypothesis that there is no difference between the average number of items per order between different discount levels. The model summary table below that provides further evidence for this conclusion. The p-values for each pairwise comparison between the lowest level of discount (5%) and each other level of discount are all above the alpha value, indicating that no individual discount levels have a statistically significant effect. Additionally, the overall r/eta squared value for the model is negligible, confirming that the different discount levels do not explain the differences in the numbers of items per order in the different groups.\n",
    "\n",
    "**To conclude, although having a discount has a statistically significant effect on the number of items per order, there is no statistically significant effect from increasing the level of discount. A preliminary conclusion is that the impact of offering any discount at all (e.g. only 5%) on an order is greater than the impact of increasing the level of discount offered (a conclusion supported by the literature on behavioural economics). So an actionable insight for the business could be to offer more low-value discounts, and reduce the number of higher-level discounts. However, further analysis would be needed in order to provide further evidence that the differences in the number of items per order was due primarily to discount level rather than other factors (e.g. by ruling out the impacts of other features, such as different orders containing different types of products).**"
   ]
  },
  {
   "cell_type": "markdown",
   "metadata": {},
   "source": [
    "***"
   ]
  },
  {
   "cell_type": "markdown",
   "metadata": {},
   "source": [
    "## Question 2: Do discounts result in customers spending more or less on their orders? If so, at what level(s) of discount, and do discounts earn more than they cost?"
   ]
  },
  {
   "cell_type": "markdown",
   "metadata": {},
   "source": [
    "The analysis above suggested that offering discounts encourages customers to buy more items. However, there is also a very tangible cost to giving customers discounts. Therefore it is also worth investigating whether offering discounts also increases the average cost per order (because people are buying additional discounted products that they wouldn't have bought otherwise), or decreases the average cost per order (because people are buying a greater number of cheaper discounted products, but because of the discounts there is no net benefit to the company's bottom line)."
   ]
  },
  {
   "cell_type": "markdown",
   "metadata": {},
   "source": [
    "### Obtaining and scrubbing the data"
   ]
  },
  {
   "cell_type": "markdown",
   "metadata": {},
   "source": [
    "In this query, we want to extract for each order the number of each product ordered, the unit price and the discount level (for calculating the actual price paid), so we need to group by OrderId. There is also a chance that different discount levels have been applied within the same order, so we also want to group by Discount so that each discount level for each order can be seen (otherwise the query may simply select and display the first Discount value that appears for that order). OrderId refers to the overall ID of the whole order (it is a foreign key, linking to the primary key of the Orders table), whereas Id in the OrderDetails table refers to a sub-order, where there is a separate Id for each individual product within the overall order. This is why we group by OrderId rather than Id."
   ]
  },
  {
   "cell_type": "code",
   "execution_count": 60,
   "metadata": {},
   "outputs": [
    {
     "name": "stdout",
     "output_type": "stream",
     "text": [
      "2019-03-08 10:58:24,806 INFO sqlalchemy.engine.base.Engine SELECT OrderId, Quantity, UnitPrice, Discount\n",
      "FROM OrderDetail\n",
      "GROUP BY OrderId, Discount\n",
      "2019-03-08 10:58:24,807 INFO sqlalchemy.engine.base.Engine ()\n"
     ]
    },
    {
     "data": {
      "text/html": [
       "<div>\n",
       "<style scoped>\n",
       "    .dataframe tbody tr th:only-of-type {\n",
       "        vertical-align: middle;\n",
       "    }\n",
       "\n",
       "    .dataframe tbody tr th {\n",
       "        vertical-align: top;\n",
       "    }\n",
       "\n",
       "    .dataframe thead th {\n",
       "        text-align: right;\n",
       "    }\n",
       "</style>\n",
       "<table border=\"1\" class=\"dataframe\">\n",
       "  <thead>\n",
       "    <tr style=\"text-align: right;\">\n",
       "      <th></th>\n",
       "      <th>OrderId</th>\n",
       "      <th>Quantity</th>\n",
       "      <th>UnitPrice</th>\n",
       "      <th>Discount</th>\n",
       "    </tr>\n",
       "  </thead>\n",
       "  <tbody>\n",
       "    <tr>\n",
       "      <th>0</th>\n",
       "      <td>10248</td>\n",
       "      <td>5</td>\n",
       "      <td>34.8</td>\n",
       "      <td>0.00</td>\n",
       "    </tr>\n",
       "    <tr>\n",
       "      <th>1</th>\n",
       "      <td>10249</td>\n",
       "      <td>40</td>\n",
       "      <td>42.4</td>\n",
       "      <td>0.00</td>\n",
       "    </tr>\n",
       "    <tr>\n",
       "      <th>2</th>\n",
       "      <td>10250</td>\n",
       "      <td>10</td>\n",
       "      <td>7.7</td>\n",
       "      <td>0.00</td>\n",
       "    </tr>\n",
       "    <tr>\n",
       "      <th>3</th>\n",
       "      <td>10250</td>\n",
       "      <td>15</td>\n",
       "      <td>16.8</td>\n",
       "      <td>0.15</td>\n",
       "    </tr>\n",
       "    <tr>\n",
       "      <th>4</th>\n",
       "      <td>10251</td>\n",
       "      <td>20</td>\n",
       "      <td>16.8</td>\n",
       "      <td>0.00</td>\n",
       "    </tr>\n",
       "  </tbody>\n",
       "</table>\n",
       "</div>"
      ],
      "text/plain": [
       "   OrderId  Quantity  UnitPrice  Discount\n",
       "0    10248         5       34.8      0.00\n",
       "1    10249        40       42.4      0.00\n",
       "2    10250        10        7.7      0.00\n",
       "3    10250        15       16.8      0.15\n",
       "4    10251        20       16.8      0.00"
      ]
     },
     "execution_count": 60,
     "metadata": {},
     "output_type": "execute_result"
    }
   ],
   "source": [
    "# Extracting the dataset for question 2 as a pandas dataframe\n",
    "df2 = pd.read_sql_query(\"\"\"SELECT OrderId, Quantity, UnitPrice, Discount\n",
    "FROM OrderDetail\n",
    "GROUP BY OrderId, Discount\"\"\", engine)\n",
    "df2.head()"
   ]
  },
  {
   "cell_type": "code",
   "execution_count": 51,
   "metadata": {},
   "outputs": [
    {
     "data": {
      "text/plain": [
       "830"
      ]
     },
     "execution_count": 51,
     "metadata": {},
     "output_type": "execute_result"
    }
   ],
   "source": [
    "# Number of unique OrderIds in the dataset\n",
    "df2.OrderId.nunique()"
   ]
  },
  {
   "cell_type": "code",
   "execution_count": 52,
   "metadata": {},
   "outputs": [
    {
     "data": {
      "text/plain": [
       "1000"
      ]
     },
     "execution_count": 52,
     "metadata": {},
     "output_type": "execute_result"
    }
   ],
   "source": [
    "# Total number of rows in the dataset\n",
    "len(df2)"
   ]
  },
  {
   "cell_type": "markdown",
   "metadata": {},
   "source": [
    "There are 830 orders in the dataset, but 1000 rows. Because orders are grouped by discount as well as by order, this means that some orders contain products with different discounts applied (e.g. order 10250 contains 10 items with no discount, and 50 items with a 15% discount). There are multiple ways of dealing with this, e.g. in the case of order 10250 this could be counted as two separate orders, or the discount applied to the majority of items could be used. However, because the purpose of this analysis is to later be able to conduct statistical tests, it is preferable here to drop the rows that could confuse the analysis (e.g. because products are counted as being from separate orders when they were actually placed by the same person at the same time in the same order)."
   ]
  },
  {
   "cell_type": "code",
   "execution_count": 61,
   "metadata": {},
   "outputs": [],
   "source": [
    "# Dropping all rows containing duplicates of OrderId\n",
    "df2.drop_duplicates(subset=['OrderId'], keep=False, inplace=True)"
   ]
  },
  {
   "cell_type": "code",
   "execution_count": 54,
   "metadata": {
    "scrolled": true
   },
   "outputs": [
    {
     "name": "stdout",
     "output_type": "stream",
     "text": [
      "667\n",
      "True\n"
     ]
    }
   ],
   "source": [
    "# Checking the new length of the dataset and whether duplicates have been dropped\n",
    "print(len(df2))\n",
    "print(df2.OrderId.nunique() == len(df2))"
   ]
  },
  {
   "cell_type": "markdown",
   "metadata": {},
   "source": [
    "The database can now be inspected for any further necessary cleaning."
   ]
  },
  {
   "cell_type": "code",
   "execution_count": 55,
   "metadata": {},
   "outputs": [
    {
     "name": "stdout",
     "output_type": "stream",
     "text": [
      "<class 'pandas.core.frame.DataFrame'>\n",
      "Int64Index: 667 entries, 0 to 990\n",
      "Data columns (total 4 columns):\n",
      "OrderId      667 non-null int64\n",
      "Quantity     667 non-null int64\n",
      "UnitPrice    667 non-null float64\n",
      "Discount     667 non-null float64\n",
      "dtypes: float64(2), int64(2)\n",
      "memory usage: 26.1 KB\n"
     ]
    }
   ],
   "source": [
    "df2.info()"
   ]
  },
  {
   "cell_type": "markdown",
   "metadata": {},
   "source": [
    "There are no null values, so there is no need to replace any values."
   ]
  },
  {
   "cell_type": "markdown",
   "metadata": {},
   "source": [
    "The question refers to orders either with or without a discount. An additional column will be added to bin discount levels into orders where the discount is 0 (no discount) and orders with a discount greater than 0 (has a discount)."
   ]
  },
  {
   "cell_type": "code",
   "execution_count": 62,
   "metadata": {},
   "outputs": [],
   "source": [
    "# Binning discount levels into 1 (discount) and 0 (no discount)\n",
    "df2['Discount_bin'] = df2['Discount'].apply(lambda x: 1 if x > 0 else 0)"
   ]
  },
  {
   "cell_type": "markdown",
   "metadata": {},
   "source": [
    "An additional column will also be added to calculate the actual price per order, by applying the discount to the product of the unit price and the unit quantity:"
   ]
  },
  {
   "cell_type": "code",
   "execution_count": 63,
   "metadata": {},
   "outputs": [],
   "source": [
    "# Calculating the price per sub-order\n",
    "df2['price_per_order'] = df2.Quantity * df2.UnitPrice * (1 - df2.Discount)"
   ]
  },
  {
   "cell_type": "code",
   "execution_count": 64,
   "metadata": {},
   "outputs": [],
   "source": [
    "# Dropping the columns for quantity, unit price and discount now that we have the total price\n",
    "df2.drop(['Quantity', 'UnitPrice'], axis=1, inplace=True)"
   ]
  },
  {
   "cell_type": "code",
   "execution_count": 65,
   "metadata": {
    "scrolled": true
   },
   "outputs": [],
   "source": [
    "# Grouping the data by order and summing the price for each order\n",
    "df2 = df2.groupby(['Discount_bin', 'Discount', 'OrderId'])['price_per_order'].sum().reset_index()\n",
    "# Dropping the OrderId as we no longer need this\n",
    "df2.drop('OrderId', axis=1, inplace=True)"
   ]
  },
  {
   "cell_type": "code",
   "execution_count": 66,
   "metadata": {},
   "outputs": [
    {
     "data": {
      "text/html": [
       "<div>\n",
       "<style scoped>\n",
       "    .dataframe tbody tr th:only-of-type {\n",
       "        vertical-align: middle;\n",
       "    }\n",
       "\n",
       "    .dataframe tbody tr th {\n",
       "        vertical-align: top;\n",
       "    }\n",
       "\n",
       "    .dataframe thead th {\n",
       "        text-align: right;\n",
       "    }\n",
       "</style>\n",
       "<table border=\"1\" class=\"dataframe\">\n",
       "  <thead>\n",
       "    <tr style=\"text-align: right;\">\n",
       "      <th></th>\n",
       "      <th>Discount_bin</th>\n",
       "      <th>Discount</th>\n",
       "      <th>price_per_order</th>\n",
       "    </tr>\n",
       "  </thead>\n",
       "  <tbody>\n",
       "    <tr>\n",
       "      <th>0</th>\n",
       "      <td>0</td>\n",
       "      <td>0.0</td>\n",
       "      <td>174.0</td>\n",
       "    </tr>\n",
       "    <tr>\n",
       "      <th>1</th>\n",
       "      <td>0</td>\n",
       "      <td>0.0</td>\n",
       "      <td>1696.0</td>\n",
       "    </tr>\n",
       "    <tr>\n",
       "      <th>2</th>\n",
       "      <td>0</td>\n",
       "      <td>0.0</td>\n",
       "      <td>640.0</td>\n",
       "    </tr>\n",
       "    <tr>\n",
       "      <th>3</th>\n",
       "      <td>0</td>\n",
       "      <td>0.0</td>\n",
       "      <td>1320.0</td>\n",
       "    </tr>\n",
       "    <tr>\n",
       "      <th>4</th>\n",
       "      <td>0</td>\n",
       "      <td>0.0</td>\n",
       "      <td>124.8</td>\n",
       "    </tr>\n",
       "  </tbody>\n",
       "</table>\n",
       "</div>"
      ],
      "text/plain": [
       "   Discount_bin  Discount  price_per_order\n",
       "0             0       0.0            174.0\n",
       "1             0       0.0           1696.0\n",
       "2             0       0.0            640.0\n",
       "3             0       0.0           1320.0\n",
       "4             0       0.0            124.8"
      ]
     },
     "execution_count": 66,
     "metadata": {},
     "output_type": "execute_result"
    }
   ],
   "source": [
    "df2.head()"
   ]
  },
  {
   "cell_type": "markdown",
   "metadata": {},
   "source": [
    "### Exploring the data and answering the question"
   ]
  },
  {
   "cell_type": "markdown",
   "metadata": {},
   "source": [
    "#### Do discounts result in customers spending more or less on their orders? If so, at what level(s) of discount, and do discounts earn more than they cost?\n",
    "\n",
    "To answer the first part of this question, a null and alternate hypothesis first need to be created:\n",
    "\n",
    "**H<sub>0</sub>**: the average price per order is the same with and without a discount\n",
    "\n",
    "**H<sub>a</sub>**: the average price per order with a discount is either higher or lower than orders without a discount\n",
    "\n",
    "The alpha level (i.e. the probability of rejecting the null hypothesis when it is true) will be set at 0.05."
   ]
  },
  {
   "cell_type": "code",
   "execution_count": 67,
   "metadata": {
    "scrolled": true
   },
   "outputs": [
    {
     "data": {
      "text/html": [
       "<div>\n",
       "<style scoped>\n",
       "    .dataframe tbody tr th:only-of-type {\n",
       "        vertical-align: middle;\n",
       "    }\n",
       "\n",
       "    .dataframe tbody tr th {\n",
       "        vertical-align: top;\n",
       "    }\n",
       "\n",
       "    .dataframe thead th {\n",
       "        text-align: right;\n",
       "    }\n",
       "</style>\n",
       "<table border=\"1\" class=\"dataframe\">\n",
       "  <thead>\n",
       "    <tr style=\"text-align: right;\">\n",
       "      <th></th>\n",
       "      <th>Discount_bin</th>\n",
       "      <th>Discount</th>\n",
       "      <th>price_per_order</th>\n",
       "    </tr>\n",
       "  </thead>\n",
       "  <tbody>\n",
       "    <tr>\n",
       "      <th>count</th>\n",
       "      <td>667.000000</td>\n",
       "      <td>667.000000</td>\n",
       "      <td>667.000000</td>\n",
       "    </tr>\n",
       "    <tr>\n",
       "      <th>mean</th>\n",
       "      <td>0.325337</td>\n",
       "      <td>0.046027</td>\n",
       "      <td>540.568351</td>\n",
       "    </tr>\n",
       "    <tr>\n",
       "      <th>std</th>\n",
       "      <td>0.468852</td>\n",
       "      <td>0.078193</td>\n",
       "      <td>992.933175</td>\n",
       "    </tr>\n",
       "    <tr>\n",
       "      <th>min</th>\n",
       "      <td>0.000000</td>\n",
       "      <td>0.000000</td>\n",
       "      <td>12.500000</td>\n",
       "    </tr>\n",
       "    <tr>\n",
       "      <th>25%</th>\n",
       "      <td>0.000000</td>\n",
       "      <td>0.000000</td>\n",
       "      <td>135.050000</td>\n",
       "    </tr>\n",
       "    <tr>\n",
       "      <th>50%</th>\n",
       "      <td>0.000000</td>\n",
       "      <td>0.000000</td>\n",
       "      <td>294.000000</td>\n",
       "    </tr>\n",
       "    <tr>\n",
       "      <th>75%</th>\n",
       "      <td>1.000000</td>\n",
       "      <td>0.050000</td>\n",
       "      <td>579.900000</td>\n",
       "    </tr>\n",
       "    <tr>\n",
       "      <th>max</th>\n",
       "      <td>1.000000</td>\n",
       "      <td>0.250000</td>\n",
       "      <td>15810.000000</td>\n",
       "    </tr>\n",
       "  </tbody>\n",
       "</table>\n",
       "</div>"
      ],
      "text/plain": [
       "       Discount_bin    Discount  price_per_order\n",
       "count    667.000000  667.000000       667.000000\n",
       "mean       0.325337    0.046027       540.568351\n",
       "std        0.468852    0.078193       992.933175\n",
       "min        0.000000    0.000000        12.500000\n",
       "25%        0.000000    0.000000       135.050000\n",
       "50%        0.000000    0.000000       294.000000\n",
       "75%        1.000000    0.050000       579.900000\n",
       "max        1.000000    0.250000     15810.000000"
      ]
     },
     "execution_count": 67,
     "metadata": {},
     "output_type": "execute_result"
    }
   ],
   "source": [
    "# Inspecting the summary statistics\n",
    "df2.describe()"
   ]
  },
  {
   "cell_type": "markdown",
   "metadata": {},
   "source": [
    "The graphs below show that the average price per order is higher for orders with a discount than those without. However, the bottom graph shows that the average price per order is highest for orders with a 5% discount, but then drops off substantially for orders with a 10% discount, before rising again gradually up to 25%."
   ]
  },
  {
   "cell_type": "code",
   "execution_count": 72,
   "metadata": {},
   "outputs": [
    {
     "data": {
      "image/png": "[encoded data removed]",
      "text/plain": [
       "<Figure size 576x432 with 2 Axes>"
      ]
     },
     "metadata": {
      "needs_background": "light"
     },
     "output_type": "display_data"
    }
   ],
   "source": [
    "# Plotting the number of orders and average price per order for orders with and without discounts\n",
    "fig, (ax1, ax2) = plt.subplots(2, 1, figsize=(8,6))\n",
    "df2.groupby(['Discount_bin'])['price_per_order'].count().plot(kind='barh', ax=ax1, color=['indianred', 'seagreen'])\n",
    "df2.groupby(['Discount_bin'])['price_per_order'].mean().plot(kind='barh', ax=ax2, color=['indianred', 'seagreen'])\n",
    "ax1.set_title('Total number of orders')\n",
    "ax1.set_ylabel('')\n",
    "ax2.set_ylabel('')\n",
    "ax2.set_title('Average price per order')\n",
    "ax1.set_yticklabels(['No discount', 'Discount'])\n",
    "ax2.set_yticklabels(['No discount', 'Discount'])\n",
    "fig.subplots_adjust(hspace=0.6);"
   ]
  },
  {
   "cell_type": "code",
   "execution_count": 71,
   "metadata": {},
   "outputs": [
    {
     "data": {
      "image/png": "[encoded data removed]",
      "text/plain": [
       "<Figure size 576x432 with 2 Axes>"
      ]
     },
     "metadata": {
      "needs_background": "light"
     },
     "output_type": "display_data"
    }
   ],
   "source": [
    "# Plotting the number of orders and average price per order for orders with different levels of discount\n",
    "fig, (ax1, ax2) = plt.subplots(2, 1, figsize=(8,6))\n",
    "df2.groupby(['Discount'])['price_per_order'].count().plot(kind='barh', ax=ax1)\n",
    "df2.groupby(['Discount'])['price_per_order'].mean().plot(kind='barh', ax=ax2)\n",
    "ax1.set_title('Total number of orders')\n",
    "ax1.set_ylabel('Discount')\n",
    "ax2.set_ylabel('Discount')\n",
    "ax2.set_title('Average price per order')\n",
    "ax1.set_yticklabels(['None', '5%', '10%', '15%', '20%', '25%'])\n",
    "ax2.set_yticklabels(['None', '5%', '10%', '15%', '20%', '25%'])\n",
    "fig.subplots_adjust(hspace=0.4);"
   ]
  },
  {
   "cell_type": "code",
   "execution_count": 100,
   "metadata": {},
   "outputs": [
    {
     "data": {
      "text/plain": [
       "Discount\n",
       "0.00    513.91\n",
       "0.05    750.59\n",
       "0.10    450.47\n",
       "0.15    547.65\n",
       "0.20    571.89\n",
       "0.25    587.61\n",
       "Name: price_per_order, dtype: float64"
      ]
     },
     "execution_count": 100,
     "metadata": {},
     "output_type": "execute_result"
    }
   ],
   "source": [
    "# Average order prices for each discount level\n",
    "round(df2.groupby(['Discount'])['price_per_order'].mean(),2)"
   ]
  },
  {
   "cell_type": "markdown",
   "metadata": {},
   "source": [
    "In order to test whether there is a statistically significant difference between orders with and without a discount, a two-sample t-test will be used. This test assumes that the data is normally distributed, and that the samples have equal variances. This can be assessed with distribution plots:"
   ]
  },
  {
   "cell_type": "code",
   "execution_count": 86,
   "metadata": {},
   "outputs": [
    {
     "name": "stderr",
     "output_type": "stream",
     "text": [
      "C:\\Users\\Laura\\Anaconda3\\envs\\learn-env\\lib\\site-packages\\scipy\\stats\\stats.py:1713: FutureWarning: Using a non-tuple sequence for multidimensional indexing is deprecated; use `arr[tuple(seq)]` instead of `arr[seq]`. In the future this will be interpreted as an array index, `arr[np.array(seq)]`, which will result either in an error or a different result.\n",
      "  return np.add.reduce(sorted[indexer] * weights, axis=axis) / sumval\n"
     ]
    },
    {
     "data": {
      "image/png": "[encoded data removed]",
      "text/plain": [
       "<Figure size 864x288 with 2 Axes>"
      ]
     },
     "metadata": {
      "needs_background": "light"
     },
     "output_type": "display_data"
    }
   ],
   "source": [
    "# Separating the dataset into orders with and without discounts, and assessing their distributions\n",
    "discount = df2[df2['Discount_bin'] == 1]\n",
    "no_discount = df2[df2['Discount_bin'] == 0]\n",
    "\n",
    "fig, (ax1, ax2) = plt.subplots(1, 2, figsize=(12,4))\n",
    "sns.distplot(discount.price_per_order, color='seagreen', ax=ax1)\n",
    "sns.distplot(no_discount.price_per_order, color='indianred', ax=ax2)\n",
    "plt.title('Distribution plots of the average price per order')\n",
    "ax1.set_title('Orders with discount')\n",
    "ax2.set_title('Orders without discount')\n",
    "ax1.set_xlabel('Price per order ($)')\n",
    "ax2.set_xlabel('Price per order ($)');"
   ]
  },
  {
   "cell_type": "markdown",
   "metadata": {},
   "source": [
    "The distribution plots above show that the data is heavily positively skewed, with long tails. Log-transforming the data is likely to make it better fit the t-test assumptions."
   ]
  },
  {
   "cell_type": "code",
   "execution_count": 87,
   "metadata": {},
   "outputs": [],
   "source": [
    "# Log-transforming price_per_order\n",
    "df2_log = df2.copy()\n",
    "df2_log['price_per_order'] = np.log(df2['price_per_order'])"
   ]
  },
  {
   "cell_type": "code",
   "execution_count": 88,
   "metadata": {},
   "outputs": [
    {
     "name": "stderr",
     "output_type": "stream",
     "text": [
      "C:\\Users\\Laura\\Anaconda3\\envs\\learn-env\\lib\\site-packages\\scipy\\stats\\stats.py:1713: FutureWarning: Using a non-tuple sequence for multidimensional indexing is deprecated; use `arr[tuple(seq)]` instead of `arr[seq]`. In the future this will be interpreted as an array index, `arr[np.array(seq)]`, which will result either in an error or a different result.\n",
      "  return np.add.reduce(sorted[indexer] * weights, axis=axis) / sumval\n"
     ]
    },
    {
     "data": {
      "image/png": "[encoded data removed]",
      "text/plain": [
       "<Figure size 864x288 with 2 Axes>"
      ]
     },
     "metadata": {
      "needs_background": "light"
     },
     "output_type": "display_data"
    }
   ],
   "source": [
    "# Re-plotting the distributions for the log-transformed data\n",
    "discount_log = df2_log[df2_log['Discount_bin'] == 1]\n",
    "no_discount_log = df2_log[df2_log['Discount_bin'] == 0]\n",
    "\n",
    "fig, (ax1, ax2) = plt.subplots(1, 2, figsize=(12,4))\n",
    "sns.distplot(discount_log.price_per_order, color='seagreen', ax=ax1)\n",
    "sns.distplot(no_discount_log.price_per_order, color='indianred', ax=ax2)\n",
    "plt.title('Distribution plots of the average price per order')\n",
    "ax1.set_title('Orders with discount')\n",
    "ax2.set_title('Orders without discount')\n",
    "ax1.set_xlabel('Price per order (log-transformed)')\n",
    "ax2.set_xlabel('Price per order (log-transformed)');"
   ]
  },
  {
   "cell_type": "markdown",
   "metadata": {},
   "source": [
    "The data is now more normally distributed, and the variances from the mean are more similar."
   ]
  },
  {
   "cell_type": "code",
   "execution_count": 89,
   "metadata": {},
   "outputs": [
    {
     "data": {
      "text/plain": [
       "Ttest_indResult(statistic=2.173240470129464, pvalue=0.030114462592937513)"
      ]
     },
     "execution_count": 89,
     "metadata": {},
     "output_type": "execute_result"
    }
   ],
   "source": [
    "# Running a two-sided t-test to compare two independent samples\n",
    "stats.ttest_ind(discount_log.price_per_order, no_discount_log.price_per_order)"
   ]
  },
  {
   "cell_type": "code",
   "execution_count": 92,
   "metadata": {},
   "outputs": [
    {
     "name": "stdout",
     "output_type": "stream",
     "text": [
      "Average price per order for orders with no discounts:  513.91\n",
      "Average price per order for orders with discounts:  595.86\n",
      "Effect size:  81.95\n",
      "Relative effect size (increase from no discount to discount):  15.9\n"
     ]
    }
   ],
   "source": [
    "print(\"Average price per order for orders with no discounts: \", round(no_discount['price_per_order'].mean(),2))\n",
    "print(\"Average price per order for orders with discounts: \", round(discount['price_per_order'].mean(),2))\n",
    "print(\"Effect size: \", round(discount['price_per_order'].mean() - no_discount['price_per_order'].mean(),2))\n",
    "print(\"Relative effect size (increase from no discount to discount): \", round(((discount['price_per_order'].mean() - no_discount['price_per_order'].mean())/no_discount['price_per_order'].mean())*100,1))"
   ]
  },
  {
   "cell_type": "markdown",
   "metadata": {},
   "source": [
    "The p-value is 0.030, which is less than our alpha value of 0.05. Therefore we can reject the null hypothesis and accept the alternative hypothesis. We can conclude that there is a statistically significant difference between the average price per order for orders with and without discounts, i.e. offering a discount does change (in this case increase) the number of items that a customer orders.\n",
    "\n",
    "**On average:**\n",
    "\n",
    "**The average cost per order with no discount is \\\\$513.91, and the avverage cost per order with a discount is \\\\$595.86.**\n",
    "\n",
    "**On average, customers spend $81.95 more on orders with discounts than without discounts, which is a 16% increase.**\n",
    "\n",
    "**However, these correlations do not necessarily imply causation, and so it is not possible to categorically state that offering a discount will necessarily increase the amount that customers spend on an order by 16%.**"
   ]
  },
  {
   "cell_type": "markdown",
   "metadata": {},
   "source": [
    "The second part of the question asks at what level of discount the statistically significant effect occurs. To answer this part of this question, a new null and alternate hypothesis need to be created:\n",
    "\n",
    "**H<sub>0</sub>**: the average price per order is the same at different levels of discount\n",
    "\n",
    "**H<sub>a</sub>**: the average price per order is different between the different levels of discount\n",
    "\n",
    "The alpha level (i.e. the probability of rejecting the null hypothesis when it is true) will be set at 0.05.\n",
    "\n",
    "To answer this question, ANOVA will be used in order to assess the degree of variation between multiple samples, where each sample is a different level of discount."
   ]
  },
  {
   "cell_type": "code",
   "execution_count": 97,
   "metadata": {},
   "outputs": [
    {
     "data": {
      "text/html": [
       "<div>\n",
       "<style scoped>\n",
       "    .dataframe tbody tr th:only-of-type {\n",
       "        vertical-align: middle;\n",
       "    }\n",
       "\n",
       "    .dataframe tbody tr th {\n",
       "        vertical-align: top;\n",
       "    }\n",
       "\n",
       "    .dataframe thead th {\n",
       "        text-align: right;\n",
       "    }\n",
       "</style>\n",
       "<table border=\"1\" class=\"dataframe\">\n",
       "  <thead>\n",
       "    <tr style=\"text-align: right;\">\n",
       "      <th></th>\n",
       "      <th>sum_sq</th>\n",
       "      <th>df</th>\n",
       "      <th>F</th>\n",
       "      <th>PR(&gt;F)</th>\n",
       "    </tr>\n",
       "  </thead>\n",
       "  <tbody>\n",
       "    <tr>\n",
       "      <th>C(Discount)</th>\n",
       "      <td>12.467334</td>\n",
       "      <td>4.0</td>\n",
       "      <td>2.446268</td>\n",
       "      <td>0.047519</td>\n",
       "    </tr>\n",
       "    <tr>\n",
       "      <th>Residual</th>\n",
       "      <td>270.112989</td>\n",
       "      <td>212.0</td>\n",
       "      <td>NaN</td>\n",
       "      <td>NaN</td>\n",
       "    </tr>\n",
       "  </tbody>\n",
       "</table>\n",
       "</div>"
      ],
      "text/plain": [
       "                 sum_sq     df         F    PR(>F)\n",
       "C(Discount)   12.467334    4.0  2.446268  0.047519\n",
       "Residual     270.112989  212.0       NaN       NaN"
      ]
     },
     "execution_count": 97,
     "metadata": {},
     "output_type": "execute_result"
    }
   ],
   "source": [
    "# Fitting a model of price_per_order on Discount categories, and using statsmodels to compute an ANOVA table\n",
    "lm = ols('price_per_order ~ C(Discount)', discount_log).fit()\n",
    "sm.stats.anova_lm(lm, typ=2)"
   ]
  },
  {
   "cell_type": "code",
   "execution_count": 98,
   "metadata": {
    "scrolled": true
   },
   "outputs": [
    {
     "data": {
      "text/html": [
       "<table class=\"simpletable\">\n",
       "<caption>OLS Regression Results</caption>\n",
       "<tr>\n",
       "  <th>Dep. Variable:</th>     <td>price_per_order</td> <th>  R-squared:         </th> <td>   0.044</td>\n",
       "</tr>\n",
       "<tr>\n",
       "  <th>Model:</th>                   <td>OLS</td>       <th>  Adj. R-squared:    </th> <td>   0.026</td>\n",
       "</tr>\n",
       "<tr>\n",
       "  <th>Method:</th>             <td>Least Squares</td>  <th>  F-statistic:       </th> <td>   2.446</td>\n",
       "</tr>\n",
       "<tr>\n",
       "  <th>Date:</th>             <td>Fri, 08 Mar 2019</td> <th>  Prob (F-statistic):</th>  <td>0.0475</td> \n",
       "</tr>\n",
       "<tr>\n",
       "  <th>Time:</th>                 <td>13:38:05</td>     <th>  Log-Likelihood:    </th> <td> -331.66</td>\n",
       "</tr>\n",
       "<tr>\n",
       "  <th>No. Observations:</th>      <td>   217</td>      <th>  AIC:               </th> <td>   673.3</td>\n",
       "</tr>\n",
       "<tr>\n",
       "  <th>Df Residuals:</th>          <td>   212</td>      <th>  BIC:               </th> <td>   690.2</td>\n",
       "</tr>\n",
       "<tr>\n",
       "  <th>Df Model:</th>              <td>     4</td>      <th>                     </th>     <td> </td>   \n",
       "</tr>\n",
       "<tr>\n",
       "  <th>Covariance Type:</th>      <td>nonrobust</td>    <th>                     </th>     <td> </td>   \n",
       "</tr>\n",
       "</table>\n",
       "<table class=\"simpletable\">\n",
       "<tr>\n",
       "           <td></td>              <th>coef</th>     <th>std err</th>      <th>t</th>      <th>P>|t|</th>  <th>[0.025</th>    <th>0.975]</th>  \n",
       "</tr>\n",
       "<tr>\n",
       "  <th>Intercept</th>           <td>    6.1692</td> <td>    0.148</td> <td>   41.624</td> <td> 0.000</td> <td>    5.877</td> <td>    6.461</td>\n",
       "</tr>\n",
       "<tr>\n",
       "  <th>C(Discount)[T.0.1]</th>  <td>   -0.5990</td> <td>    0.232</td> <td>   -2.582</td> <td> 0.010</td> <td>   -1.056</td> <td>   -0.142</td>\n",
       "</tr>\n",
       "<tr>\n",
       "  <th>C(Discount)[T.0.15]</th> <td>   -0.5179</td> <td>    0.239</td> <td>   -2.163</td> <td> 0.032</td> <td>   -0.990</td> <td>   -0.046</td>\n",
       "</tr>\n",
       "<tr>\n",
       "  <th>C(Discount)[T.0.2]</th>  <td>   -0.5426</td> <td>    0.222</td> <td>   -2.449</td> <td> 0.015</td> <td>   -0.979</td> <td>   -0.106</td>\n",
       "</tr>\n",
       "<tr>\n",
       "  <th>C(Discount)[T.0.25]</th> <td>   -0.4671</td> <td>    0.239</td> <td>   -1.950</td> <td> 0.052</td> <td>   -0.939</td> <td>    0.005</td>\n",
       "</tr>\n",
       "</table>\n",
       "<table class=\"simpletable\">\n",
       "<tr>\n",
       "  <th>Omnibus:</th>       <td> 1.871</td> <th>  Durbin-Watson:     </th> <td>   1.953</td>\n",
       "</tr>\n",
       "<tr>\n",
       "  <th>Prob(Omnibus):</th> <td> 0.392</td> <th>  Jarque-Bera (JB):  </th> <td>   1.534</td>\n",
       "</tr>\n",
       "<tr>\n",
       "  <th>Skew:</th>          <td>-0.185</td> <th>  Prob(JB):          </th> <td>   0.464</td>\n",
       "</tr>\n",
       "<tr>\n",
       "  <th>Kurtosis:</th>      <td> 3.182</td> <th>  Cond. No.          </th> <td>    5.17</td>\n",
       "</tr>\n",
       "</table><br/><br/>Warnings:<br/>[1] Standard Errors assume that the covariance matrix of the errors is correctly specified."
      ],
      "text/plain": [
       "<class 'statsmodels.iolib.summary.Summary'>\n",
       "\"\"\"\n",
       "                            OLS Regression Results                            \n",
       "==============================================================================\n",
       "Dep. Variable:        price_per_order   R-squared:                       0.044\n",
       "Model:                            OLS   Adj. R-squared:                  0.026\n",
       "Method:                 Least Squares   F-statistic:                     2.446\n",
       "Date:                Fri, 08 Mar 2019   Prob (F-statistic):             0.0475\n",
       "Time:                        13:38:05   Log-Likelihood:                -331.66\n",
       "No. Observations:                 217   AIC:                             673.3\n",
       "Df Residuals:                     212   BIC:                             690.2\n",
       "Df Model:                           4                                         \n",
       "Covariance Type:            nonrobust                                         \n",
       "=======================================================================================\n",
       "                          coef    std err          t      P>|t|      [0.025      0.975]\n",
       "---------------------------------------------------------------------------------------\n",
       "Intercept               6.1692      0.148     41.624      0.000       5.877       6.461\n",
       "C(Discount)[T.0.1]     -0.5990      0.232     -2.582      0.010      -1.056      -0.142\n",
       "C(Discount)[T.0.15]    -0.5179      0.239     -2.163      0.032      -0.990      -0.046\n",
       "C(Discount)[T.0.2]     -0.5426      0.222     -2.449      0.015      -0.979      -0.106\n",
       "C(Discount)[T.0.25]    -0.4671      0.239     -1.950      0.052      -0.939       0.005\n",
       "==============================================================================\n",
       "Omnibus:                        1.871   Durbin-Watson:                   1.953\n",
       "Prob(Omnibus):                  0.392   Jarque-Bera (JB):                1.534\n",
       "Skew:                          -0.185   Prob(JB):                        0.464\n",
       "Kurtosis:                       3.182   Cond. No.                         5.17\n",
       "==============================================================================\n",
       "\n",
       "Warnings:\n",
       "[1] Standard Errors assume that the covariance matrix of the errors is correctly specified.\n",
       "\"\"\""
      ]
     },
     "execution_count": 98,
     "metadata": {},
     "output_type": "execute_result"
    }
   ],
   "source": [
    "# Summary of the model and its coefficients\n",
    "lm.summary()"
   ]
  },
  {
   "cell_type": "code",
   "execution_count": 110,
   "metadata": {
    "scrolled": true
   },
   "outputs": [
    {
     "name": "stdout",
     "output_type": "stream",
     "text": [
      "Absolute difference from no discount to 5% discount:  236.69\n",
      "Proportional difference from no discount to 5% discount:  0.46\n",
      "Proportional difference from no discount to 10% discount:  -0.12\n",
      "Proportional difference from no discount to 15% discount:  0.07\n",
      "Proportional difference from no discount to 20% discount:  0.11\n",
      "Proportional difference from no discount to 25% discount:  0.14\n"
     ]
    }
   ],
   "source": [
    "# Difference between the average price of orders with no discount and with different levels of discount\n",
    "print(\"Absolute difference from no discount to 5% discount: \", float(round((df2.loc[df2.Discount == 0.05]).price_per_order.mean() - (df2.loc[df2.Discount == 0]).price_per_order.mean(),2)))\n",
    "print(\"Proportional difference from no discount to 5% discount: \", float(round(((df2.loc[df2.Discount == 0.05]).price_per_order.mean() - (df2.loc[df2.Discount == 0]).price_per_order.mean()) / ((df2.loc[df2.Discount == 0]).price_per_order.mean()),2)))\n",
    "print(\"Proportional difference from no discount to 10% discount: \", float(round(((df2.loc[df2.Discount == 0.10]).price_per_order.mean() - (df2.loc[df2.Discount == 0]).price_per_order.mean()) / ((df2.loc[df2.Discount == 0]).price_per_order.mean()),2)))\n",
    "print(\"Proportional difference from no discount to 15% discount: \", float(round(((df2.loc[df2.Discount == 0.15]).price_per_order.mean() - (df2.loc[df2.Discount == 0]).price_per_order.mean()) / ((df2.loc[df2.Discount == 0]).price_per_order.mean()),2)))\n",
    "print(\"Proportional difference from no discount to 20% discount: \", float(round(((df2.loc[df2.Discount == 0.20]).price_per_order.mean() - (df2.loc[df2.Discount == 0]).price_per_order.mean()) / ((df2.loc[df2.Discount == 0]).price_per_order.mean()),2)))\n",
    "print(\"Proportional difference from no discount to 25% discount: \", float(round(((df2.loc[df2.Discount == 0.25]).price_per_order.mean() - (df2.loc[df2.Discount == 0]).price_per_order.mean()) / ((df2.loc[df2.Discount == 0]).price_per_order.mean()),2)))"
   ]
  },
  {
   "cell_type": "markdown",
   "metadata": {},
   "source": [
    "The ANOVA table above reveals that the p-value is 0.048, which is just below our alpha value of 0.05. Therefore we can reject the null hypothesis and accept the alternate hypothesis. **We can conclude that there are significant differences in average order value between different discount levels, i.e. offering different levels of discount has a significant effect on the price per order.**\n",
    "\n",
    "The model summary also shows that there is a statistically significant difference between a discount level of 5% and discount levels of 10%, 15% and 20%. The p-value for the difference between discount rates of 5% and 25% is borderline (p = 0.052, similar to but slightly above the alpha level of 0.05). This means that the decreases in average order value between orders with a discount of 5% and those with other discount levels are statistically significant. However, the overall r/eta squared value for the model is very low, implying that discount level only explains a small amount of the variation in price per order.\n",
    "\n",
    "**Business insights:**\n",
    " - There are statistically significant differences in the average price per order with different discount levels.\n",
    " - The biggest difference is between orders with no discount (average price \\\\$513.91) and orders with a 5% discount (average price \\\\$750.59). The difference is \\\\$236.69, meaning that the average price of an order with a 5% discount is 46% higher than an order with no discount.\n",
    " - However, there are diminishing returns from offering higher levels of discount. For example, the average price of an order with a 10% discount (on all products) is actually 12% lower than an order with no discount.\n",
    " - The only discount level that earns more than it costs, i.e. results in an average price per order that is higher than the amount of the discount, is 5%.\n",
    " - This analysis accords with the results of the answers to the previous question, that 5% is the optimum discount rate.\n",
    " \n",
    "**Potential business actions:**\n",
    "\n",
    "To increase revenue, one option worth considering would be to offer more 5% discounts, and fewer discounts of higher value. However, further analysis would be needed to confirm that this is the best option, e.g. analysis of the different types of products that make up the different orders, what the existing levels of discount are that are offered on different products, and investigating what other factors influence the average price of an order."
   ]
  },
  {
   "cell_type": "markdown",
   "metadata": {},
   "source": [
    "***"
   ]
  },
  {
   "cell_type": "markdown",
   "metadata": {},
   "source": [
    "## Question 3: Does the average amount spent per order vary between customers from different regions?"
   ]
  },
  {
   "cell_type": "markdown",
   "metadata": {},
   "source": [
    "### Obtaining and scrubbing the data"
   ]
  },
  {
   "cell_type": "markdown",
   "metadata": {},
   "source": [
    "In this query, we want to extract for each order the customer region, the number of each product ordered, the unit price and the discount level (for calculating the actual price paid). To do this we need to join the Customer and OrderDetail tables using the Order table. As with question 1, we need to group by OrderId and Discount to allow us to calculate the total cost per order."
   ]
  },
  {
   "cell_type": "code",
   "execution_count": 20,
   "metadata": {
    "scrolled": false
   },
   "outputs": [
    {
     "name": "stdout",
     "output_type": "stream",
     "text": [
      "2019-03-07 18:03:49,082 INFO sqlalchemy.engine.base.Engine SELECT c.Region, od.OrderId, od.Quantity, od.UnitPrice, od.Discount\n",
      "    FROM Customer c\n",
      "    JOIN [Order] o ON c.Id = o.CustomerId\n",
      "    JOIN OrderDetail od ON od.OrderId = o.Id\n",
      "    GROUP BY od.OrderId, od.Discount\n",
      "    \n",
      "2019-03-07 18:03:49,084 INFO sqlalchemy.engine.base.Engine ()\n"
     ]
    },
    {
     "data": {
      "text/html": [
       "<div>\n",
       "<style scoped>\n",
       "    .dataframe tbody tr th:only-of-type {\n",
       "        vertical-align: middle;\n",
       "    }\n",
       "\n",
       "    .dataframe tbody tr th {\n",
       "        vertical-align: top;\n",
       "    }\n",
       "\n",
       "    .dataframe thead th {\n",
       "        text-align: right;\n",
       "    }\n",
       "</style>\n",
       "<table border=\"1\" class=\"dataframe\">\n",
       "  <thead>\n",
       "    <tr style=\"text-align: right;\">\n",
       "      <th></th>\n",
       "      <th>Region</th>\n",
       "      <th>OrderId</th>\n",
       "      <th>Quantity</th>\n",
       "      <th>UnitPrice</th>\n",
       "      <th>Discount</th>\n",
       "    </tr>\n",
       "  </thead>\n",
       "  <tbody>\n",
       "    <tr>\n",
       "      <th>0</th>\n",
       "      <td>Western Europe</td>\n",
       "      <td>10248</td>\n",
       "      <td>5</td>\n",
       "      <td>34.8</td>\n",
       "      <td>0.00</td>\n",
       "    </tr>\n",
       "    <tr>\n",
       "      <th>1</th>\n",
       "      <td>Western Europe</td>\n",
       "      <td>10249</td>\n",
       "      <td>40</td>\n",
       "      <td>42.4</td>\n",
       "      <td>0.00</td>\n",
       "    </tr>\n",
       "    <tr>\n",
       "      <th>2</th>\n",
       "      <td>South America</td>\n",
       "      <td>10250</td>\n",
       "      <td>10</td>\n",
       "      <td>7.7</td>\n",
       "      <td>0.00</td>\n",
       "    </tr>\n",
       "    <tr>\n",
       "      <th>3</th>\n",
       "      <td>South America</td>\n",
       "      <td>10250</td>\n",
       "      <td>15</td>\n",
       "      <td>16.8</td>\n",
       "      <td>0.15</td>\n",
       "    </tr>\n",
       "    <tr>\n",
       "      <th>4</th>\n",
       "      <td>Western Europe</td>\n",
       "      <td>10251</td>\n",
       "      <td>20</td>\n",
       "      <td>16.8</td>\n",
       "      <td>0.00</td>\n",
       "    </tr>\n",
       "  </tbody>\n",
       "</table>\n",
       "</div>"
      ],
      "text/plain": [
       "           Region  OrderId  Quantity  UnitPrice  Discount\n",
       "0  Western Europe    10248         5       34.8      0.00\n",
       "1  Western Europe    10249        40       42.4      0.00\n",
       "2   South America    10250        10        7.7      0.00\n",
       "3   South America    10250        15       16.8      0.15\n",
       "4  Western Europe    10251        20       16.8      0.00"
      ]
     },
     "execution_count": 20,
     "metadata": {},
     "output_type": "execute_result"
    }
   ],
   "source": [
    "# Extracting the dataset for question 2 as a pandas dataframe\n",
    "df2 = pd.read_sql_query(\"\"\"SELECT c.Region, od.OrderId, od.Quantity, od.UnitPrice, od.Discount\n",
    "    FROM Customer c\n",
    "    JOIN [Order] o ON c.Id = o.CustomerId\n",
    "    JOIN OrderDetail od ON od.OrderId = o.Id\n",
    "    GROUP BY od.OrderId, od.Discount\n",
    "    \"\"\", engine)\n",
    "df2.head()"
   ]
  },
  {
   "cell_type": "code",
   "execution_count": 21,
   "metadata": {
    "scrolled": true
   },
   "outputs": [
    {
     "data": {
      "text/plain": [
       "965"
      ]
     },
     "execution_count": 21,
     "metadata": {},
     "output_type": "execute_result"
    }
   ],
   "source": [
    "len(df2)"
   ]
  },
  {
   "cell_type": "code",
   "execution_count": 22,
   "metadata": {
    "scrolled": false
   },
   "outputs": [
    {
     "name": "stdout",
     "output_type": "stream",
     "text": [
      "<class 'pandas.core.frame.DataFrame'>\n",
      "RangeIndex: 965 entries, 0 to 964\n",
      "Data columns (total 5 columns):\n",
      "Region       965 non-null object\n",
      "OrderId      965 non-null int64\n",
      "Quantity     965 non-null int64\n",
      "UnitPrice    965 non-null float64\n",
      "Discount     965 non-null float64\n",
      "dtypes: float64(2), int64(2), object(1)\n",
      "memory usage: 37.8+ KB\n"
     ]
    }
   ],
   "source": [
    "df2.info()"
   ]
  },
  {
   "cell_type": "markdown",
   "metadata": {},
   "source": [
    "There are no null values, so no need to replace any values."
   ]
  },
  {
   "cell_type": "markdown",
   "metadata": {},
   "source": [
    "An additional column will be added to calculate the actual price per order, by applying the discount to the product of the unit price and the unit quantity:"
   ]
  },
  {
   "cell_type": "code",
   "execution_count": 23,
   "metadata": {},
   "outputs": [],
   "source": [
    "# Calculating the price per sub-order\n",
    "df2['price_per_order'] = df2.Quantity * df2.UnitPrice * (1 - df2.Discount)"
   ]
  },
  {
   "cell_type": "code",
   "execution_count": 24,
   "metadata": {
    "scrolled": true
   },
   "outputs": [],
   "source": [
    "# Dropping the columns for quantity, unit price and discount now that we have the total price\n",
    "df2.drop(['Quantity', 'UnitPrice', 'Discount'], axis=1, inplace=True)"
   ]
  },
  {
   "cell_type": "code",
   "execution_count": 25,
   "metadata": {
    "scrolled": true
   },
   "outputs": [],
   "source": [
    "# Grouping the data by order and summing the price for each order\n",
    "df2 = df2.groupby(['Region', 'OrderId'])['price_per_order'].sum().reset_index()\n",
    "# Dropping the OrderId as we no longer need this\n",
    "df2.drop('OrderId', axis=1, inplace=True)"
   ]
  },
  {
   "cell_type": "code",
   "execution_count": 26,
   "metadata": {},
   "outputs": [
    {
     "data": {
      "text/html": [
       "<div>\n",
       "<style scoped>\n",
       "    .dataframe tbody tr th:only-of-type {\n",
       "        vertical-align: middle;\n",
       "    }\n",
       "\n",
       "    .dataframe tbody tr th {\n",
       "        vertical-align: top;\n",
       "    }\n",
       "\n",
       "    .dataframe thead th {\n",
       "        text-align: right;\n",
       "    }\n",
       "</style>\n",
       "<table border=\"1\" class=\"dataframe\">\n",
       "  <thead>\n",
       "    <tr style=\"text-align: right;\">\n",
       "      <th></th>\n",
       "      <th>Region</th>\n",
       "      <th>price_per_order</th>\n",
       "    </tr>\n",
       "  </thead>\n",
       "  <tbody>\n",
       "    <tr>\n",
       "      <th>0</th>\n",
       "      <td>British Isles</td>\n",
       "      <td>239.4</td>\n",
       "    </tr>\n",
       "    <tr>\n",
       "      <th>1</th>\n",
       "      <td>British Isles</td>\n",
       "      <td>1581.0</td>\n",
       "    </tr>\n",
       "    <tr>\n",
       "      <th>2</th>\n",
       "      <td>British Isles</td>\n",
       "      <td>51.6</td>\n",
       "    </tr>\n",
       "    <tr>\n",
       "      <th>3</th>\n",
       "      <td>British Isles</td>\n",
       "      <td>360.0</td>\n",
       "    </tr>\n",
       "    <tr>\n",
       "      <th>4</th>\n",
       "      <td>British Isles</td>\n",
       "      <td>86.4</td>\n",
       "    </tr>\n",
       "  </tbody>\n",
       "</table>\n",
       "</div>"
      ],
      "text/plain": [
       "          Region  price_per_order\n",
       "0  British Isles            239.4\n",
       "1  British Isles           1581.0\n",
       "2  British Isles             51.6\n",
       "3  British Isles            360.0\n",
       "4  British Isles             86.4"
      ]
     },
     "execution_count": 26,
     "metadata": {},
     "output_type": "execute_result"
    }
   ],
   "source": [
    "df2.head()"
   ]
  },
  {
   "cell_type": "code",
   "execution_count": 27,
   "metadata": {},
   "outputs": [
    {
     "data": {
      "text/plain": [
       "801"
      ]
     },
     "execution_count": 27,
     "metadata": {},
     "output_type": "execute_result"
    }
   ],
   "source": [
    "len(df2)"
   ]
  },
  {
   "cell_type": "markdown",
   "metadata": {},
   "source": [
    "### Exploring the data and answering the question"
   ]
  },
  {
   "cell_type": "markdown",
   "metadata": {},
   "source": [
    "#### Does the average amount spent per order vary between customers from different regions?\n",
    "\n",
    "To answer this question, a null and alternate hypothesis first need to be created:\n",
    "\n",
    "**H<sub>0</sub>**: the average amount spent per order is the same between different customer regions\n",
    "\n",
    "**H<sub>a</sub>**: the average amount spent per order is different (either higher or lower) between different customer regions\n",
    "\n",
    "The alpha level (i.e. the probability of rejecting the null hypothesis when it is true) will be set at 0.05."
   ]
  },
  {
   "cell_type": "markdown",
   "metadata": {},
   "source": [
    "The table below shows the number of orders per region in the dataset:"
   ]
  },
  {
   "cell_type": "code",
   "execution_count": 28,
   "metadata": {},
   "outputs": [
    {
     "data": {
      "text/html": [
       "<div>\n",
       "<style scoped>\n",
       "    .dataframe tbody tr th:only-of-type {\n",
       "        vertical-align: middle;\n",
       "    }\n",
       "\n",
       "    .dataframe tbody tr th {\n",
       "        vertical-align: top;\n",
       "    }\n",
       "\n",
       "    .dataframe thead th {\n",
       "        text-align: right;\n",
       "    }\n",
       "</style>\n",
       "<table border=\"1\" class=\"dataframe\">\n",
       "  <thead>\n",
       "    <tr style=\"text-align: right;\">\n",
       "      <th></th>\n",
       "      <th>price_per_order</th>\n",
       "    </tr>\n",
       "    <tr>\n",
       "      <th>Region</th>\n",
       "      <th></th>\n",
       "    </tr>\n",
       "  </thead>\n",
       "  <tbody>\n",
       "    <tr>\n",
       "      <th>British Isles</th>\n",
       "      <td>75</td>\n",
       "    </tr>\n",
       "    <tr>\n",
       "      <th>Central America</th>\n",
       "      <td>21</td>\n",
       "    </tr>\n",
       "    <tr>\n",
       "      <th>Eastern Europe</th>\n",
       "      <td>7</td>\n",
       "    </tr>\n",
       "    <tr>\n",
       "      <th>North America</th>\n",
       "      <td>152</td>\n",
       "    </tr>\n",
       "    <tr>\n",
       "      <th>Northern Europe</th>\n",
       "      <td>55</td>\n",
       "    </tr>\n",
       "    <tr>\n",
       "      <th>Scandinavia</th>\n",
       "      <td>28</td>\n",
       "    </tr>\n",
       "    <tr>\n",
       "      <th>South America</th>\n",
       "      <td>127</td>\n",
       "    </tr>\n",
       "    <tr>\n",
       "      <th>Southern Europe</th>\n",
       "      <td>64</td>\n",
       "    </tr>\n",
       "    <tr>\n",
       "      <th>Western Europe</th>\n",
       "      <td>272</td>\n",
       "    </tr>\n",
       "  </tbody>\n",
       "</table>\n",
       "</div>"
      ],
      "text/plain": [
       "                 price_per_order\n",
       "Region                          \n",
       "British Isles                 75\n",
       "Central America               21\n",
       "Eastern Europe                 7\n",
       "North America                152\n",
       "Northern Europe               55\n",
       "Scandinavia                   28\n",
       "South America                127\n",
       "Southern Europe               64\n",
       "Western Europe               272"
      ]
     },
     "execution_count": 28,
     "metadata": {},
     "output_type": "execute_result"
    }
   ],
   "source": [
    "df2.groupby('Region').count()"
   ]
  },
  {
   "cell_type": "markdown",
   "metadata": {},
   "source": [
    "Some regions only have a small number of orders, so it is worth combining them with other groups so that the groups are not of extremely unequal sizes (and therefore potentially also variances, which is relevant for the statistical tests that will be conducted later). A minimum group size of 30 will be used, so that t-tests can be used robustly."
   ]
  },
  {
   "cell_type": "code",
   "execution_count": 29,
   "metadata": {},
   "outputs": [],
   "source": [
    "# Combining Eastern and Southern Europe\n",
    "df2.loc[(df2.Region == 'Eastern Europe') | (df2.Region == 'Southern Europe'),'Region'] = 'Southern and Eastern Europe'\n",
    "# Combining Scandinavia and Northern Europe\n",
    "df2.loc[(df2.Region == 'Scandinavia') | (df2.Region == 'Northern Europe'),'Region'] = 'Northern Europe and Scandinavia'\n",
    "# Combining Central and South America\n",
    "df2.loc[(df2.Region == 'Central America') | (df2.Region == 'South America'),'Region'] = 'South and Central America'"
   ]
  },
  {
   "cell_type": "code",
   "execution_count": 30,
   "metadata": {
    "scrolled": true
   },
   "outputs": [
    {
     "data": {
      "text/html": [
       "<div>\n",
       "<style scoped>\n",
       "    .dataframe tbody tr th:only-of-type {\n",
       "        vertical-align: middle;\n",
       "    }\n",
       "\n",
       "    .dataframe tbody tr th {\n",
       "        vertical-align: top;\n",
       "    }\n",
       "\n",
       "    .dataframe thead th {\n",
       "        text-align: right;\n",
       "    }\n",
       "</style>\n",
       "<table border=\"1\" class=\"dataframe\">\n",
       "  <thead>\n",
       "    <tr style=\"text-align: right;\">\n",
       "      <th></th>\n",
       "      <th>price_per_order</th>\n",
       "    </tr>\n",
       "    <tr>\n",
       "      <th>Region</th>\n",
       "      <th></th>\n",
       "    </tr>\n",
       "  </thead>\n",
       "  <tbody>\n",
       "    <tr>\n",
       "      <th>British Isles</th>\n",
       "      <td>75</td>\n",
       "    </tr>\n",
       "    <tr>\n",
       "      <th>North America</th>\n",
       "      <td>152</td>\n",
       "    </tr>\n",
       "    <tr>\n",
       "      <th>Northern Europe and Scandinavia</th>\n",
       "      <td>83</td>\n",
       "    </tr>\n",
       "    <tr>\n",
       "      <th>South and Central America</th>\n",
       "      <td>148</td>\n",
       "    </tr>\n",
       "    <tr>\n",
       "      <th>Southern and Eastern Europe</th>\n",
       "      <td>71</td>\n",
       "    </tr>\n",
       "    <tr>\n",
       "      <th>Western Europe</th>\n",
       "      <td>272</td>\n",
       "    </tr>\n",
       "  </tbody>\n",
       "</table>\n",
       "</div>"
      ],
      "text/plain": [
       "                                 price_per_order\n",
       "Region                                          \n",
       "British Isles                                 75\n",
       "North America                                152\n",
       "Northern Europe and Scandinavia               83\n",
       "South and Central America                    148\n",
       "Southern and Eastern Europe                   71\n",
       "Western Europe                               272"
      ]
     },
     "execution_count": 30,
     "metadata": {},
     "output_type": "execute_result"
    }
   ],
   "source": [
    "# Confirming no groups are smaller than 30\n",
    "df2.groupby('Region').count()"
   ]
  },
  {
   "cell_type": "code",
   "execution_count": 31,
   "metadata": {},
   "outputs": [
    {
     "data": {
      "text/html": [
       "<div>\n",
       "<style scoped>\n",
       "    .dataframe tbody tr th:only-of-type {\n",
       "        vertical-align: middle;\n",
       "    }\n",
       "\n",
       "    .dataframe tbody tr th {\n",
       "        vertical-align: top;\n",
       "    }\n",
       "\n",
       "    .dataframe thead th {\n",
       "        text-align: right;\n",
       "    }\n",
       "</style>\n",
       "<table border=\"1\" class=\"dataframe\">\n",
       "  <thead>\n",
       "    <tr style=\"text-align: right;\">\n",
       "      <th></th>\n",
       "      <th>price_per_order</th>\n",
       "    </tr>\n",
       "  </thead>\n",
       "  <tbody>\n",
       "    <tr>\n",
       "      <th>count</th>\n",
       "      <td>801.000000</td>\n",
       "    </tr>\n",
       "    <tr>\n",
       "      <th>mean</th>\n",
       "      <td>676.557321</td>\n",
       "    </tr>\n",
       "    <tr>\n",
       "      <th>std</th>\n",
       "      <td>1076.465511</td>\n",
       "    </tr>\n",
       "    <tr>\n",
       "      <th>min</th>\n",
       "      <td>12.500000</td>\n",
       "    </tr>\n",
       "    <tr>\n",
       "      <th>25%</th>\n",
       "      <td>165.200000</td>\n",
       "    </tr>\n",
       "    <tr>\n",
       "      <th>50%</th>\n",
       "      <td>368.000000</td>\n",
       "    </tr>\n",
       "    <tr>\n",
       "      <th>75%</th>\n",
       "      <td>818.400000</td>\n",
       "    </tr>\n",
       "    <tr>\n",
       "      <th>max</th>\n",
       "      <td>15810.000000</td>\n",
       "    </tr>\n",
       "  </tbody>\n",
       "</table>\n",
       "</div>"
      ],
      "text/plain": [
       "       price_per_order\n",
       "count       801.000000\n",
       "mean        676.557321\n",
       "std        1076.465511\n",
       "min          12.500000\n",
       "25%         165.200000\n",
       "50%         368.000000\n",
       "75%         818.400000\n",
       "max       15810.000000"
      ]
     },
     "execution_count": 31,
     "metadata": {},
     "output_type": "execute_result"
    }
   ],
   "source": [
    "# Inspecting the summary statistics\n",
    "df2.describe()"
   ]
  },
  {
   "cell_type": "code",
   "execution_count": 32,
   "metadata": {
    "scrolled": false
   },
   "outputs": [
    {
     "data": {
      "image/png": "[encoded data removed]",
      "text/plain": [
       "<Figure size 576x576 with 3 Axes>"
      ]
     },
     "metadata": {
      "needs_background": "light"
     },
     "output_type": "display_data"
    }
   ],
   "source": [
    "# Plotting the number of orders, total price per order and average price per order for each region\n",
    "fig, (ax1, ax2, ax3) = plt.subplots(3, 1, figsize=(8,8))\n",
    "df2.groupby(['Region'])['Region'].count().plot(kind='barh', ax=ax1)\n",
    "df2.groupby(['Region'])['price_per_order'].sum().plot(kind='barh', ax=ax2)\n",
    "df2.groupby(['Region'])['price_per_order'].mean().plot(kind='barh', ax=ax3)\n",
    "ax1.set_title('Total number of orders')\n",
    "ax1.set_ylabel('')\n",
    "ax2.set_title('Total price of orders ($)')\n",
    "ax2.set_ylabel('')\n",
    "ax3.set_ylabel('')\n",
    "ax3.set_title('Average price per order ($)')\n",
    "fig.subplots_adjust(hspace=0.4);"
   ]
  },
  {
   "cell_type": "code",
   "execution_count": 33,
   "metadata": {
    "scrolled": false
   },
   "outputs": [
    {
     "data": {
      "text/plain": [
       "Region\n",
       "British Isles                       75\n",
       "North America                      152\n",
       "Northern Europe and Scandinavia     83\n",
       "South and Central America          148\n",
       "Southern and Eastern Europe         71\n",
       "Western Europe                     272\n",
       "Name: Region, dtype: int64"
      ]
     },
     "execution_count": 33,
     "metadata": {},
     "output_type": "execute_result"
    }
   ],
   "source": [
    "# Total number of orders\n",
    "df2.groupby(['Region'])['Region'].count()"
   ]
  },
  {
   "cell_type": "code",
   "execution_count": 34,
   "metadata": {
    "scrolled": true
   },
   "outputs": [
    {
     "data": {
      "text/plain": [
       "Region\n",
       "British Isles                       46884.86\n",
       "North America                      129700.16\n",
       "Northern Europe and Scandinavia     48310.29\n",
       "South and Central America           77367.82\n",
       "Southern and Eastern Europe         23387.12\n",
       "Western Europe                     216272.18\n",
       "Name: price_per_order, dtype: float64"
      ]
     },
     "execution_count": 34,
     "metadata": {},
     "output_type": "execute_result"
    }
   ],
   "source": [
    "# Total price of orders\n",
    "round(df2.groupby(['Region'])['price_per_order'].sum(),2)"
   ]
  },
  {
   "cell_type": "code",
   "execution_count": 35,
   "metadata": {
    "scrolled": true
   },
   "outputs": [
    {
     "data": {
      "text/plain": [
       "Region\n",
       "British Isles                      625.13\n",
       "North America                      853.29\n",
       "Northern Europe and Scandinavia    582.05\n",
       "South and Central America          522.76\n",
       "Southern and Eastern Europe        329.40\n",
       "Western Europe                     795.12\n",
       "Name: price_per_order, dtype: float64"
      ]
     },
     "execution_count": 35,
     "metadata": {},
     "output_type": "execute_result"
    }
   ],
   "source": [
    "# Average price of orders\n",
    "round(df2.groupby(['Region'])['price_per_order'].mean(),2)"
   ]
  },
  {
   "cell_type": "markdown",
   "metadata": {},
   "source": [
    "The graphs and tables above show that Western Europe is the region with the greatest number of orders, and also has the greatest total price of orders. However, North America has the most expensive order on average, followed by Western Europe. Southern and Eastern Europe has the smallest number of orders, lowest total price of orders, and cheapest order on average. The third graph lends support to the alternate hypothesis that there are significant differences in average order price between regions. This can be further investigated with statistical hypothesis testing.\n",
    "\n",
    "In this case, ANOVA will be used to test whether the differences between multiple samples (each region) are statistically significant.\n",
    "\n",
    "ANOVA assumes that the data is normally distributed, and that the samples have similar variances. This can be assessed with distribution plots:"
   ]
  },
  {
   "cell_type": "code",
   "execution_count": 36,
   "metadata": {
    "scrolled": true
   },
   "outputs": [
    {
     "name": "stderr",
     "output_type": "stream",
     "text": [
      "C:\\Users\\Laura\\Anaconda3\\envs\\learn-env\\lib\\site-packages\\scipy\\stats\\stats.py:1713: FutureWarning: Using a non-tuple sequence for multidimensional indexing is deprecated; use `arr[tuple(seq)]` instead of `arr[seq]`. In the future this will be interpreted as an array index, `arr[np.array(seq)]`, which will result either in an error or a different result.\n",
      "  return np.add.reduce(sorted[indexer] * weights, axis=axis) / sumval\n"
     ]
    },
    {
     "data": {
      "image/png": "[encoded data removed]",
      "text/plain": [
       "<Figure size 432x288 with 1 Axes>"
      ]
     },
     "metadata": {
      "needs_background": "light"
     },
     "output_type": "display_data"
    },
    {
     "data": {
      "image/png": "[encoded data removed]",
      "text/plain": [
       "<Figure size 432x288 with 1 Axes>"
      ]
     },
     "metadata": {
      "needs_background": "light"
     },
     "output_type": "display_data"
    },
    {
     "data": {
      "image/png": "[encoded data removed]",
      "text/plain": [
       "<Figure size 432x288 with 1 Axes>"
      ]
     },
     "metadata": {
      "needs_background": "light"
     },
     "output_type": "display_data"
    },
    {
     "data": {
      "image/png": "[encoded data removed]",
      "text/plain": [
       "<Figure size 432x288 with 1 Axes>"
      ]
     },
     "metadata": {
      "needs_background": "light"
     },
     "output_type": "display_data"
    },
    {
     "data": {
      "image/png": "[encoded data removed]",
      "text/plain": [
       "<Figure size 432x288 with 1 Axes>"
      ]
     },
     "metadata": {
      "needs_background": "light"
     },
     "output_type": "display_data"
    },
    {
     "data": {
      "image/png": "[encoded data removed]",
      "text/plain": [
       "<Figure size 432x288 with 1 Axes>"
      ]
     },
     "metadata": {
      "needs_background": "light"
     },
     "output_type": "display_data"
    }
   ],
   "source": [
    "# Separating the dataset into orders from different regions, and assessing their distributions\n",
    "for region in set(df2.Region):\n",
    "    region_group = df2.loc[df2['Region'] == region]\n",
    "    sns.distplot(region_group['price_per_order'])\n",
    "    plt.title(region)\n",
    "    plt.xlabel('Price per order ($)')\n",
    "    plt.show()"
   ]
  },
  {
   "cell_type": "markdown",
   "metadata": {},
   "source": [
    "The distribution plots above show that the data is heavily positively skewed, with very long tails (of different lengths for different regions). Although ANOVA is relatively robust to non-normal distributions, log-transforming the data is likely to make it better fit the ANOVA assumptions."
   ]
  },
  {
   "cell_type": "code",
   "execution_count": 37,
   "metadata": {},
   "outputs": [],
   "source": [
    "# Log-transforming price_per_order\n",
    "df2_log = df2.copy()\n",
    "df2_log['price_per_order'] = np.log(df2['price_per_order'])"
   ]
  },
  {
   "cell_type": "code",
   "execution_count": 38,
   "metadata": {},
   "outputs": [
    {
     "name": "stderr",
     "output_type": "stream",
     "text": [
      "C:\\Users\\Laura\\Anaconda3\\envs\\learn-env\\lib\\site-packages\\scipy\\stats\\stats.py:1713: FutureWarning: Using a non-tuple sequence for multidimensional indexing is deprecated; use `arr[tuple(seq)]` instead of `arr[seq]`. In the future this will be interpreted as an array index, `arr[np.array(seq)]`, which will result either in an error or a different result.\n",
      "  return np.add.reduce(sorted[indexer] * weights, axis=axis) / sumval\n"
     ]
    },
    {
     "data": {
      "image/png": "[encoded data removed]",
      "text/plain": [
       "<Figure size 432x288 with 1 Axes>"
      ]
     },
     "metadata": {
      "needs_background": "light"
     },
     "output_type": "display_data"
    },
    {
     "data": {
      "image/png": "[encoded data removed]",
      "text/plain": [
       "<Figure size 432x288 with 1 Axes>"
      ]
     },
     "metadata": {
      "needs_background": "light"
     },
     "output_type": "display_data"
    },
    {
     "data": {
      "image/png": "[encoded data removed]",
      "text/plain": [
       "<Figure size 432x288 with 1 Axes>"
      ]
     },
     "metadata": {
      "needs_background": "light"
     },
     "output_type": "display_data"
    },
    {
     "data": {
      "image/png": "[encoded data removed]",
      "text/plain": [
       "<Figure size 432x288 with 1 Axes>"
      ]
     },
     "metadata": {
      "needs_background": "light"
     },
     "output_type": "display_data"
    },
    {
     "data": {
      "image/png": "[encoded data removed]",
      "text/plain": [
       "<Figure size 432x288 with 1 Axes>"
      ]
     },
     "metadata": {
      "needs_background": "light"
     },
     "output_type": "display_data"
    },
    {
     "data": {
      "image/png": "[encoded data removed]",
      "text/plain": [
       "<Figure size 432x288 with 1 Axes>"
      ]
     },
     "metadata": {
      "needs_background": "light"
     },
     "output_type": "display_data"
    }
   ],
   "source": [
    "# Re-plotting the distributions for the log-transformed data\n",
    "for region in set(df2_log.Region):\n",
    "    region_group = df2_log.loc[df2_log['Region'] == region]\n",
    "    sns.distplot(region_group['price_per_order'])\n",
    "    plt.title(region)\n",
    "    plt.xlabel('Price per order ($)')\n",
    "    plt.show()"
   ]
  },
  {
   "cell_type": "markdown",
   "metadata": {},
   "source": [
    "The data is now more normally distributed, and the variances from the mean are more similar. It is now possible to run an ANOVA test."
   ]
  },
  {
   "cell_type": "code",
   "execution_count": 39,
   "metadata": {},
   "outputs": [
    {
     "data": {
      "text/html": [
       "<div>\n",
       "<style scoped>\n",
       "    .dataframe tbody tr th:only-of-type {\n",
       "        vertical-align: middle;\n",
       "    }\n",
       "\n",
       "    .dataframe tbody tr th {\n",
       "        vertical-align: top;\n",
       "    }\n",
       "\n",
       "    .dataframe thead th {\n",
       "        text-align: right;\n",
       "    }\n",
       "</style>\n",
       "<table border=\"1\" class=\"dataframe\">\n",
       "  <thead>\n",
       "    <tr style=\"text-align: right;\">\n",
       "      <th></th>\n",
       "      <th>sum_sq</th>\n",
       "      <th>df</th>\n",
       "      <th>F</th>\n",
       "      <th>PR(&gt;F)</th>\n",
       "    </tr>\n",
       "  </thead>\n",
       "  <tbody>\n",
       "    <tr>\n",
       "      <th>C(Region)</th>\n",
       "      <td>56.792498</td>\n",
       "      <td>5.0</td>\n",
       "      <td>8.831864</td>\n",
       "      <td>3.597830e-08</td>\n",
       "    </tr>\n",
       "    <tr>\n",
       "      <th>Residual</th>\n",
       "      <td>1022.435026</td>\n",
       "      <td>795.0</td>\n",
       "      <td>NaN</td>\n",
       "      <td>NaN</td>\n",
       "    </tr>\n",
       "  </tbody>\n",
       "</table>\n",
       "</div>"
      ],
      "text/plain": [
       "                sum_sq     df         F        PR(>F)\n",
       "C(Region)    56.792498    5.0  8.831864  3.597830e-08\n",
       "Residual   1022.435026  795.0       NaN           NaN"
      ]
     },
     "execution_count": 39,
     "metadata": {},
     "output_type": "execute_result"
    }
   ],
   "source": [
    "# Fitting a model of price_per_order on Region categories, and using statsmodels to compute an ANOVA table\n",
    "lm = ols('price_per_order ~ C(Region)', df2_log).fit()\n",
    "sm.stats.anova_lm(lm, typ=2)"
   ]
  },
  {
   "cell_type": "code",
   "execution_count": 40,
   "metadata": {
    "scrolled": true
   },
   "outputs": [
    {
     "data": {
      "text/html": [
       "<table class=\"simpletable\">\n",
       "<caption>OLS Regression Results</caption>\n",
       "<tr>\n",
       "  <th>Dep. Variable:</th>     <td>price_per_order</td> <th>  R-squared:         </th> <td>   0.053</td>\n",
       "</tr>\n",
       "<tr>\n",
       "  <th>Model:</th>                   <td>OLS</td>       <th>  Adj. R-squared:    </th> <td>   0.047</td>\n",
       "</tr>\n",
       "<tr>\n",
       "  <th>Method:</th>             <td>Least Squares</td>  <th>  F-statistic:       </th> <td>   8.832</td>\n",
       "</tr>\n",
       "<tr>\n",
       "  <th>Date:</th>             <td>Thu, 07 Mar 2019</td> <th>  Prob (F-statistic):</th> <td>3.60e-08</td>\n",
       "</tr>\n",
       "<tr>\n",
       "  <th>Time:</th>                 <td>18:03:53</td>     <th>  Log-Likelihood:    </th> <td> -1234.3</td>\n",
       "</tr>\n",
       "<tr>\n",
       "  <th>No. Observations:</th>      <td>   801</td>      <th>  AIC:               </th> <td>   2481.</td>\n",
       "</tr>\n",
       "<tr>\n",
       "  <th>Df Residuals:</th>          <td>   795</td>      <th>  BIC:               </th> <td>   2509.</td>\n",
       "</tr>\n",
       "<tr>\n",
       "  <th>Df Model:</th>              <td>     5</td>      <th>                     </th>     <td> </td>   \n",
       "</tr>\n",
       "<tr>\n",
       "  <th>Covariance Type:</th>      <td>nonrobust</td>    <th>                     </th>     <td> </td>   \n",
       "</tr>\n",
       "</table>\n",
       "<table class=\"simpletable\">\n",
       "<tr>\n",
       "                        <td></td>                          <th>coef</th>     <th>std err</th>      <th>t</th>      <th>P>|t|</th>  <th>[0.025</th>    <th>0.975]</th>  \n",
       "</tr>\n",
       "<tr>\n",
       "  <th>Intercept</th>                                    <td>    5.8670</td> <td>    0.131</td> <td>   44.803</td> <td> 0.000</td> <td>    5.610</td> <td>    6.124</td>\n",
       "</tr>\n",
       "<tr>\n",
       "  <th>C(Region)[T.North America]</th>                   <td>    0.1774</td> <td>    0.160</td> <td>    1.108</td> <td> 0.268</td> <td>   -0.137</td> <td>    0.491</td>\n",
       "</tr>\n",
       "<tr>\n",
       "  <th>C(Region)[T.Northern Europe and Scandinavia]</th> <td>    0.0010</td> <td>    0.181</td> <td>    0.006</td> <td> 0.995</td> <td>   -0.354</td> <td>    0.356</td>\n",
       "</tr>\n",
       "<tr>\n",
       "  <th>C(Region)[T.South and Central America]</th>       <td>   -0.2621</td> <td>    0.161</td> <td>   -1.631</td> <td> 0.103</td> <td>   -0.578</td> <td>    0.053</td>\n",
       "</tr>\n",
       "<tr>\n",
       "  <th>C(Region)[T.Southern and Eastern Europe]</th>     <td>   -0.6311</td> <td>    0.188</td> <td>   -3.361</td> <td> 0.001</td> <td>   -1.000</td> <td>   -0.262</td>\n",
       "</tr>\n",
       "<tr>\n",
       "  <th>C(Region)[T.Western Europe]</th>                  <td>    0.2235</td> <td>    0.148</td> <td>    1.511</td> <td> 0.131</td> <td>   -0.067</td> <td>    0.514</td>\n",
       "</tr>\n",
       "</table>\n",
       "<table class=\"simpletable\">\n",
       "<tr>\n",
       "  <th>Omnibus:</th>       <td> 3.771</td> <th>  Durbin-Watson:     </th> <td>   2.010</td>\n",
       "</tr>\n",
       "<tr>\n",
       "  <th>Prob(Omnibus):</th> <td> 0.152</td> <th>  Jarque-Bera (JB):  </th> <td>   3.755</td>\n",
       "</tr>\n",
       "<tr>\n",
       "  <th>Skew:</th>          <td>-0.168</td> <th>  Prob(JB):          </th> <td>   0.153</td>\n",
       "</tr>\n",
       "<tr>\n",
       "  <th>Kurtosis:</th>      <td> 2.988</td> <th>  Cond. No.          </th> <td>    9.23</td>\n",
       "</tr>\n",
       "</table><br/><br/>Warnings:<br/>[1] Standard Errors assume that the covariance matrix of the errors is correctly specified."
      ],
      "text/plain": [
       "<class 'statsmodels.iolib.summary.Summary'>\n",
       "\"\"\"\n",
       "                            OLS Regression Results                            \n",
       "==============================================================================\n",
       "Dep. Variable:        price_per_order   R-squared:                       0.053\n",
       "Model:                            OLS   Adj. R-squared:                  0.047\n",
       "Method:                 Least Squares   F-statistic:                     8.832\n",
       "Date:                Thu, 07 Mar 2019   Prob (F-statistic):           3.60e-08\n",
       "Time:                        18:03:53   Log-Likelihood:                -1234.3\n",
       "No. Observations:                 801   AIC:                             2481.\n",
       "Df Residuals:                     795   BIC:                             2509.\n",
       "Df Model:                           5                                         \n",
       "Covariance Type:            nonrobust                                         \n",
       "================================================================================================================\n",
       "                                                   coef    std err          t      P>|t|      [0.025      0.975]\n",
       "----------------------------------------------------------------------------------------------------------------\n",
       "Intercept                                        5.8670      0.131     44.803      0.000       5.610       6.124\n",
       "C(Region)[T.North America]                       0.1774      0.160      1.108      0.268      -0.137       0.491\n",
       "C(Region)[T.Northern Europe and Scandinavia]     0.0010      0.181      0.006      0.995      -0.354       0.356\n",
       "C(Region)[T.South and Central America]          -0.2621      0.161     -1.631      0.103      -0.578       0.053\n",
       "C(Region)[T.Southern and Eastern Europe]        -0.6311      0.188     -3.361      0.001      -1.000      -0.262\n",
       "C(Region)[T.Western Europe]                      0.2235      0.148      1.511      0.131      -0.067       0.514\n",
       "==============================================================================\n",
       "Omnibus:                        3.771   Durbin-Watson:                   2.010\n",
       "Prob(Omnibus):                  0.152   Jarque-Bera (JB):                3.755\n",
       "Skew:                          -0.168   Prob(JB):                        0.153\n",
       "Kurtosis:                       2.988   Cond. No.                         9.23\n",
       "==============================================================================\n",
       "\n",
       "Warnings:\n",
       "[1] Standard Errors assume that the covariance matrix of the errors is correctly specified.\n",
       "\"\"\""
      ]
     },
     "execution_count": 40,
     "metadata": {},
     "output_type": "execute_result"
    }
   ],
   "source": [
    "lm.summary()"
   ]
  },
  {
   "cell_type": "code",
   "execution_count": 41,
   "metadata": {
    "scrolled": false
   },
   "outputs": [
    {
     "name": "stdout",
     "output_type": "stream",
     "text": [
      "Absolute difference:  523.89\n",
      "Proportional difference:  2.59\n"
     ]
    }
   ],
   "source": [
    "# Difference between the average price of orders from Southern and Eastern European customers to those from North American customers\n",
    "print(\"Absolute difference: \", float(round((df2.loc[df2.Region == 'North America']).mean() - (df2.loc[df2.Region == 'Southern and Eastern Europe']).mean(),2)))\n",
    "print(\"Proportional difference: \", float(round(1 + ((df2.loc[df2.Region == 'North America']).mean() - (df2.loc[df2.Region == 'Southern and Eastern Europe']).mean()) / ((df2.loc[df2.Region == 'Southern and Eastern Europe']).mean()),2)))"
   ]
  },
  {
   "cell_type": "code",
   "execution_count": 42,
   "metadata": {},
   "outputs": [
    {
     "data": {
      "text/plain": [
       "price_per_order    1.632294\n",
       "dtype: float64"
      ]
     },
     "execution_count": 42,
     "metadata": {},
     "output_type": "execute_result"
    }
   ],
   "source": [
    "# Increase from the average price of orders from South and Central American customers to those from North American customers\n",
    "1 + ((df2.loc[df2.Region == 'North America']).mean() - (df2.loc[df2.Region == 'South and Central America']).mean()) / ((df2.loc[df2.Region == 'South and Central America']).mean())"
   ]
  },
  {
   "cell_type": "markdown",
   "metadata": {},
   "source": [
    "The ANOVA table above reveals that the p-value is  lower than the alpha value of 0.05. Therefore we can reject the null hypothesis and accept the alternate hypothesis. **We can conclude that there are significant differences in average order value between different regions, i.e. customers from different parts of the world spend different amounts of money on their orders, on average.**\n",
    "\n",
    "**Business insights:** \n",
    " - There are statistically significant differences in the average price per order from customers from different regions.\n",
    " - Western Eurpean customers place the most orders, and are the single biggest contributors to Northwind's bottom line. However, although North American customers have placed roughly half as many orders as those from Western Europe, they spend more per order, on average.\n",
    "  - The difference between the region with the most expensive orders on average (North America, \\\\$853.29) and the region with the least expensive orders (Southern and Eastern Europe, \\\\$329.40) is \\\\$523.89, or 2.6 times more.\n",
    "  - Southern and Eastern Europe has the smallest number of orders, the lowest total price of orders, and the lowest average price per order.\n",
    " - North American customers have placed a similar number of orders to those from South and Central America, but their average expenditure per order is 1.6 times higher.\n",
    "\n",
    "\n",
    "**Potential business actions:**\n",
    "\n",
    "If Northwind was looking to focus on more profitable customers, a potential action would be to stop serving customers in Southern and Eastern Europe, and to focus more on customers in Western Europe and North America. However, further analysis would be needed to confirm these findings (for example, it might be the case that some more expensive products are only available in certain regions)."
   ]
  },
  {
   "cell_type": "markdown",
   "metadata": {},
   "source": [
    "***"
   ]
  },
  {
   "cell_type": "markdown",
   "metadata": {},
   "source": [
    "## Question 3: Are differences in the numbers of different types of product that customers order statistically significant? If so, what is the most popular product category?"
   ]
  },
  {
   "cell_type": "markdown",
   "metadata": {},
   "source": [
    "### Obtaining and scrubbing the data"
   ]
  },
  {
   "cell_type": "markdown",
   "metadata": {},
   "source": [
    "In this query, we want to extract the number of products in each order that fall into each product category. To do this we need to join the Category and Order tables via the Product table. We need to group by OrderId because we are interested in the number of products of each category per order."
   ]
  },
  {
   "cell_type": "code",
   "execution_count": 43,
   "metadata": {},
   "outputs": [
    {
     "name": "stdout",
     "output_type": "stream",
     "text": [
      "2019-03-07 18:03:53,861 INFO sqlalchemy.engine.base.Engine SELECT c.CategoryName, od.Quantity\n",
      "    FROM Category c\n",
      "    JOIN Product p on p.CategoryId = c.Id\n",
      "    JOIN OrderDetail od on od.ProductId = p.Id\n",
      "    GROUP BY od.OrderId\n",
      "    \n",
      "2019-03-07 18:03:53,864 INFO sqlalchemy.engine.base.Engine ()\n"
     ]
    },
    {
     "data": {
      "text/html": [
       "<div>\n",
       "<style scoped>\n",
       "    .dataframe tbody tr th:only-of-type {\n",
       "        vertical-align: middle;\n",
       "    }\n",
       "\n",
       "    .dataframe tbody tr th {\n",
       "        vertical-align: top;\n",
       "    }\n",
       "\n",
       "    .dataframe thead th {\n",
       "        text-align: right;\n",
       "    }\n",
       "</style>\n",
       "<table border=\"1\" class=\"dataframe\">\n",
       "  <thead>\n",
       "    <tr style=\"text-align: right;\">\n",
       "      <th></th>\n",
       "      <th>CategoryName</th>\n",
       "      <th>Quantity</th>\n",
       "    </tr>\n",
       "  </thead>\n",
       "  <tbody>\n",
       "    <tr>\n",
       "      <th>0</th>\n",
       "      <td>Dairy Products</td>\n",
       "      <td>5</td>\n",
       "    </tr>\n",
       "    <tr>\n",
       "      <th>1</th>\n",
       "      <td>Produce</td>\n",
       "      <td>40</td>\n",
       "    </tr>\n",
       "    <tr>\n",
       "      <th>2</th>\n",
       "      <td>Condiments</td>\n",
       "      <td>15</td>\n",
       "    </tr>\n",
       "    <tr>\n",
       "      <th>3</th>\n",
       "      <td>Condiments</td>\n",
       "      <td>20</td>\n",
       "    </tr>\n",
       "    <tr>\n",
       "      <th>4</th>\n",
       "      <td>Dairy Products</td>\n",
       "      <td>40</td>\n",
       "    </tr>\n",
       "  </tbody>\n",
       "</table>\n",
       "</div>"
      ],
      "text/plain": [
       "     CategoryName  Quantity\n",
       "0  Dairy Products         5\n",
       "1         Produce        40\n",
       "2      Condiments        15\n",
       "3      Condiments        20\n",
       "4  Dairy Products        40"
      ]
     },
     "execution_count": 43,
     "metadata": {},
     "output_type": "execute_result"
    }
   ],
   "source": [
    "df3 = pd.read_sql_query(\"\"\"SELECT c.CategoryName, od.Quantity\n",
    "    FROM Category c\n",
    "    JOIN Product p on p.CategoryId = c.Id\n",
    "    JOIN OrderDetail od on od.ProductId = p.Id\n",
    "    GROUP BY od.OrderId\n",
    "    \"\"\", engine)\n",
    "df3.head()"
   ]
  },
  {
   "cell_type": "code",
   "execution_count": 44,
   "metadata": {
    "scrolled": true
   },
   "outputs": [
    {
     "data": {
      "text/plain": [
       "830"
      ]
     },
     "execution_count": 44,
     "metadata": {},
     "output_type": "execute_result"
    }
   ],
   "source": [
    "len(df3)"
   ]
  },
  {
   "cell_type": "code",
   "execution_count": 45,
   "metadata": {},
   "outputs": [
    {
     "name": "stdout",
     "output_type": "stream",
     "text": [
      "<class 'pandas.core.frame.DataFrame'>\n",
      "RangeIndex: 830 entries, 0 to 829\n",
      "Data columns (total 2 columns):\n",
      "CategoryName    830 non-null object\n",
      "Quantity        830 non-null int64\n",
      "dtypes: int64(1), object(1)\n",
      "memory usage: 13.0+ KB\n"
     ]
    }
   ],
   "source": [
    "df3.info()"
   ]
  },
  {
   "cell_type": "markdown",
   "metadata": {},
   "source": [
    "There are no null values, so no need to replace any values."
   ]
  },
  {
   "cell_type": "markdown",
   "metadata": {},
   "source": [
    "### Exploring the data and answering the question"
   ]
  },
  {
   "cell_type": "markdown",
   "metadata": {},
   "source": [
    "#### Are differences in the numbers of different types of product that customers order statistically significant? If so, what is the most popular product category?\n",
    "\n",
    "To answer the first part of question, a null and alternate hypothesis first need to be created:\n",
    "\n",
    "**H<sub>0</sub>**: the \n",
    "\n",
    "**H<sub>a</sub>**: the \n",
    "\n",
    "This question will be answered using data from the Customers and OrderDetail tables, which includes data on [...], and is stored in df2.\n",
    "\n",
    "The alpha level (i.e. the probability of rejecting the null hypothesis when it is true) will be set at 0.05."
   ]
  },
  {
   "cell_type": "code",
   "execution_count": 46,
   "metadata": {},
   "outputs": [
    {
     "data": {
      "text/html": [
       "<div>\n",
       "<style scoped>\n",
       "    .dataframe tbody tr th:only-of-type {\n",
       "        vertical-align: middle;\n",
       "    }\n",
       "\n",
       "    .dataframe tbody tr th {\n",
       "        vertical-align: top;\n",
       "    }\n",
       "\n",
       "    .dataframe thead th {\n",
       "        text-align: right;\n",
       "    }\n",
       "</style>\n",
       "<table border=\"1\" class=\"dataframe\">\n",
       "  <thead>\n",
       "    <tr style=\"text-align: right;\">\n",
       "      <th></th>\n",
       "      <th>Quantity</th>\n",
       "    </tr>\n",
       "    <tr>\n",
       "      <th>CategoryName</th>\n",
       "      <th></th>\n",
       "    </tr>\n",
       "  </thead>\n",
       "  <tbody>\n",
       "    <tr>\n",
       "      <th>Beverages</th>\n",
       "      <td>171</td>\n",
       "    </tr>\n",
       "    <tr>\n",
       "      <th>Condiments</th>\n",
       "      <td>98</td>\n",
       "    </tr>\n",
       "    <tr>\n",
       "      <th>Confections</th>\n",
       "      <td>100</td>\n",
       "    </tr>\n",
       "    <tr>\n",
       "      <th>Dairy Products</th>\n",
       "      <td>176</td>\n",
       "    </tr>\n",
       "    <tr>\n",
       "      <th>Grains/Cereals</th>\n",
       "      <td>94</td>\n",
       "    </tr>\n",
       "    <tr>\n",
       "      <th>Meat/Poultry</th>\n",
       "      <td>56</td>\n",
       "    </tr>\n",
       "    <tr>\n",
       "      <th>Produce</th>\n",
       "      <td>38</td>\n",
       "    </tr>\n",
       "    <tr>\n",
       "      <th>Seafood</th>\n",
       "      <td>97</td>\n",
       "    </tr>\n",
       "  </tbody>\n",
       "</table>\n",
       "</div>"
      ],
      "text/plain": [
       "                Quantity\n",
       "CategoryName            \n",
       "Beverages            171\n",
       "Condiments            98\n",
       "Confections          100\n",
       "Dairy Products       176\n",
       "Grains/Cereals        94\n",
       "Meat/Poultry          56\n",
       "Produce               38\n",
       "Seafood               97"
      ]
     },
     "execution_count": 46,
     "metadata": {},
     "output_type": "execute_result"
    }
   ],
   "source": [
    "df3.groupby('CategoryName').count()"
   ]
  },
  {
   "cell_type": "code",
   "execution_count": 47,
   "metadata": {},
   "outputs": [
    {
     "data": {
      "text/html": [
       "<div>\n",
       "<style scoped>\n",
       "    .dataframe tbody tr th:only-of-type {\n",
       "        vertical-align: middle;\n",
       "    }\n",
       "\n",
       "    .dataframe tbody tr th {\n",
       "        vertical-align: top;\n",
       "    }\n",
       "\n",
       "    .dataframe thead th {\n",
       "        text-align: right;\n",
       "    }\n",
       "</style>\n",
       "<table border=\"1\" class=\"dataframe\">\n",
       "  <thead>\n",
       "    <tr style=\"text-align: right;\">\n",
       "      <th></th>\n",
       "      <th>Quantity</th>\n",
       "    </tr>\n",
       "  </thead>\n",
       "  <tbody>\n",
       "    <tr>\n",
       "      <th>count</th>\n",
       "      <td>830.000000</td>\n",
       "    </tr>\n",
       "    <tr>\n",
       "      <th>mean</th>\n",
       "      <td>22.883133</td>\n",
       "    </tr>\n",
       "    <tr>\n",
       "      <th>std</th>\n",
       "      <td>18.952727</td>\n",
       "    </tr>\n",
       "    <tr>\n",
       "      <th>min</th>\n",
       "      <td>1.000000</td>\n",
       "    </tr>\n",
       "    <tr>\n",
       "      <th>25%</th>\n",
       "      <td>10.000000</td>\n",
       "    </tr>\n",
       "    <tr>\n",
       "      <th>50%</th>\n",
       "      <td>20.000000</td>\n",
       "    </tr>\n",
       "    <tr>\n",
       "      <th>75%</th>\n",
       "      <td>30.000000</td>\n",
       "    </tr>\n",
       "    <tr>\n",
       "      <th>max</th>\n",
       "      <td>130.000000</td>\n",
       "    </tr>\n",
       "  </tbody>\n",
       "</table>\n",
       "</div>"
      ],
      "text/plain": [
       "         Quantity\n",
       "count  830.000000\n",
       "mean    22.883133\n",
       "std     18.952727\n",
       "min      1.000000\n",
       "25%     10.000000\n",
       "50%     20.000000\n",
       "75%     30.000000\n",
       "max    130.000000"
      ]
     },
     "execution_count": 47,
     "metadata": {},
     "output_type": "execute_result"
    }
   ],
   "source": [
    "# Inspecting the summary statistics\n",
    "df3.describe()"
   ]
  },
  {
   "cell_type": "code",
   "execution_count": null,
   "metadata": {},
   "outputs": [],
   "source": []
  },
  {
   "cell_type": "markdown",
   "metadata": {},
   "source": [
    "***"
   ]
  },
  {
   "cell_type": "markdown",
   "metadata": {},
   "source": [
    "## Question 4: Do customers order more products on particular days of the week?"
   ]
  },
  {
   "cell_type": "markdown",
   "metadata": {},
   "source": [
    "### Obtaining and scrubbing the data"
   ]
  },
  {
   "cell_type": "markdown",
   "metadata": {},
   "source": [
    "In this query, we want to extract the date that each order was placed on, the number of each product ordered, the unit price and the discount level (for calculating the actual price paid). To do this we need to join the Order and OrderDetail tables. As with question 1, we need to group by OrderId and Discount to allow us to calculate the total cost per order."
   ]
  },
  {
   "cell_type": "code",
   "execution_count": 48,
   "metadata": {},
   "outputs": [
    {
     "name": "stdout",
     "output_type": "stream",
     "text": [
      "2019-03-07 18:03:53,945 INFO sqlalchemy.engine.base.Engine SELECT o.OrderDate, od.OrderId, od.Quantity, od.UnitPrice, od.Discount\n",
      "    FROM [Order] o\n",
      "    JOIN OrderDetail od ON od.OrderId = o.Id\n",
      "    GROUP BY od.OrderId, od.Discount\n",
      "    \n",
      "2019-03-07 18:03:53,946 INFO sqlalchemy.engine.base.Engine ()\n"
     ]
    },
    {
     "data": {
      "text/html": [
       "<div>\n",
       "<style scoped>\n",
       "    .dataframe tbody tr th:only-of-type {\n",
       "        vertical-align: middle;\n",
       "    }\n",
       "\n",
       "    .dataframe tbody tr th {\n",
       "        vertical-align: top;\n",
       "    }\n",
       "\n",
       "    .dataframe thead th {\n",
       "        text-align: right;\n",
       "    }\n",
       "</style>\n",
       "<table border=\"1\" class=\"dataframe\">\n",
       "  <thead>\n",
       "    <tr style=\"text-align: right;\">\n",
       "      <th></th>\n",
       "      <th>OrderDate</th>\n",
       "      <th>OrderId</th>\n",
       "      <th>Quantity</th>\n",
       "      <th>UnitPrice</th>\n",
       "      <th>Discount</th>\n",
       "    </tr>\n",
       "  </thead>\n",
       "  <tbody>\n",
       "    <tr>\n",
       "      <th>0</th>\n",
       "      <td>2012-07-04</td>\n",
       "      <td>10248</td>\n",
       "      <td>5</td>\n",
       "      <td>34.8</td>\n",
       "      <td>0.00</td>\n",
       "    </tr>\n",
       "    <tr>\n",
       "      <th>1</th>\n",
       "      <td>2012-07-05</td>\n",
       "      <td>10249</td>\n",
       "      <td>40</td>\n",
       "      <td>42.4</td>\n",
       "      <td>0.00</td>\n",
       "    </tr>\n",
       "    <tr>\n",
       "      <th>2</th>\n",
       "      <td>2012-07-08</td>\n",
       "      <td>10250</td>\n",
       "      <td>10</td>\n",
       "      <td>7.7</td>\n",
       "      <td>0.00</td>\n",
       "    </tr>\n",
       "    <tr>\n",
       "      <th>3</th>\n",
       "      <td>2012-07-08</td>\n",
       "      <td>10250</td>\n",
       "      <td>15</td>\n",
       "      <td>16.8</td>\n",
       "      <td>0.15</td>\n",
       "    </tr>\n",
       "    <tr>\n",
       "      <th>4</th>\n",
       "      <td>2012-07-08</td>\n",
       "      <td>10251</td>\n",
       "      <td>20</td>\n",
       "      <td>16.8</td>\n",
       "      <td>0.00</td>\n",
       "    </tr>\n",
       "  </tbody>\n",
       "</table>\n",
       "</div>"
      ],
      "text/plain": [
       "    OrderDate  OrderId  Quantity  UnitPrice  Discount\n",
       "0  2012-07-04    10248         5       34.8      0.00\n",
       "1  2012-07-05    10249        40       42.4      0.00\n",
       "2  2012-07-08    10250        10        7.7      0.00\n",
       "3  2012-07-08    10250        15       16.8      0.15\n",
       "4  2012-07-08    10251        20       16.8      0.00"
      ]
     },
     "execution_count": 48,
     "metadata": {},
     "output_type": "execute_result"
    }
   ],
   "source": [
    "# Extracting the dataset for question 4 as a pandas dataframe\n",
    "df4 = pd.read_sql_query(\"\"\"SELECT o.OrderDate, od.OrderId, od.Quantity, od.UnitPrice, od.Discount\n",
    "    FROM [Order] o\n",
    "    JOIN OrderDetail od ON od.OrderId = o.Id\n",
    "    GROUP BY od.OrderId, od.Discount\n",
    "    \"\"\", engine)\n",
    "df4.head()"
   ]
  },
  {
   "cell_type": "code",
   "execution_count": 49,
   "metadata": {
    "scrolled": true
   },
   "outputs": [
    {
     "data": {
      "text/plain": [
       "1000"
      ]
     },
     "execution_count": 49,
     "metadata": {},
     "output_type": "execute_result"
    }
   ],
   "source": [
    "len(df4)"
   ]
  },
  {
   "cell_type": "markdown",
   "metadata": {},
   "source": [
    "An additional column will be added to calculate the actual price per order, by applying the discount to the product of the unit price and the unit quantity:"
   ]
  },
  {
   "cell_type": "code",
   "execution_count": 50,
   "metadata": {},
   "outputs": [],
   "source": [
    "# Calculating the price per sub-order\n",
    "df4['price_per_order'] = df4.Quantity * df4.UnitPrice * (1 - df4.Discount)"
   ]
  },
  {
   "cell_type": "code",
   "execution_count": 51,
   "metadata": {},
   "outputs": [],
   "source": [
    "# Dropping the columns for quantity, unit price and discount now that we have the total price\n",
    "df4.drop(['Quantity', 'UnitPrice', 'Discount'], axis=1, inplace=True)"
   ]
  },
  {
   "cell_type": "code",
   "execution_count": 52,
   "metadata": {
    "scrolled": true
   },
   "outputs": [],
   "source": [
    "# Grouping the data by date and summing the price for each order\n",
    "df4 = df4.groupby(['OrderDate', 'OrderId'])['price_per_order'].sum().reset_index()\n",
    "# Dropping the OrderId as we no longer need this\n",
    "df4.drop('OrderId', axis=1, inplace=True)"
   ]
  },
  {
   "cell_type": "code",
   "execution_count": 53,
   "metadata": {},
   "outputs": [
    {
     "name": "stdout",
     "output_type": "stream",
     "text": [
      "<class 'pandas.core.frame.DataFrame'>\n",
      "RangeIndex: 830 entries, 0 to 829\n",
      "Data columns (total 2 columns):\n",
      "OrderDate          830 non-null object\n",
      "price_per_order    830 non-null float64\n",
      "dtypes: float64(1), object(1)\n",
      "memory usage: 13.0+ KB\n"
     ]
    }
   ],
   "source": [
    "df4.info()"
   ]
  },
  {
   "cell_type": "markdown",
   "metadata": {},
   "source": [
    "Now we need to convert OrderDate to the day of the week."
   ]
  },
  {
   "cell_type": "code",
   "execution_count": 54,
   "metadata": {
    "scrolled": true
   },
   "outputs": [],
   "source": [
    "# Converting to datetime\n",
    "df4['OrderDate'] = pd.to_datetime(df4['OrderDate'])\n",
    "# Adding a column for the day of the week\n",
    "df4['day_of_week'] = df4['OrderDate'].dt.weekday_name\n",
    "# Adding a column for the number of the day of the week (to help with visualising in the correct order)\n",
    "df4['int_day_of_week'] = df4['OrderDate'].dt.dayofweek"
   ]
  },
  {
   "cell_type": "code",
   "execution_count": 55,
   "metadata": {},
   "outputs": [
    {
     "data": {
      "text/html": [
       "<div>\n",
       "<style scoped>\n",
       "    .dataframe tbody tr th:only-of-type {\n",
       "        vertical-align: middle;\n",
       "    }\n",
       "\n",
       "    .dataframe tbody tr th {\n",
       "        vertical-align: top;\n",
       "    }\n",
       "\n",
       "    .dataframe thead th {\n",
       "        text-align: right;\n",
       "    }\n",
       "</style>\n",
       "<table border=\"1\" class=\"dataframe\">\n",
       "  <thead>\n",
       "    <tr style=\"text-align: right;\">\n",
       "      <th></th>\n",
       "      <th>OrderDate</th>\n",
       "      <th>price_per_order</th>\n",
       "      <th>day_of_week</th>\n",
       "      <th>int_day_of_week</th>\n",
       "    </tr>\n",
       "  </thead>\n",
       "  <tbody>\n",
       "    <tr>\n",
       "      <th>0</th>\n",
       "      <td>2012-07-04</td>\n",
       "      <td>174.0</td>\n",
       "      <td>Wednesday</td>\n",
       "      <td>2</td>\n",
       "    </tr>\n",
       "    <tr>\n",
       "      <th>1</th>\n",
       "      <td>2012-07-05</td>\n",
       "      <td>1696.0</td>\n",
       "      <td>Thursday</td>\n",
       "      <td>3</td>\n",
       "    </tr>\n",
       "    <tr>\n",
       "      <th>2</th>\n",
       "      <td>2012-07-08</td>\n",
       "      <td>291.2</td>\n",
       "      <td>Sunday</td>\n",
       "      <td>6</td>\n",
       "    </tr>\n",
       "    <tr>\n",
       "      <th>3</th>\n",
       "      <td>2012-07-08</td>\n",
       "      <td>558.3</td>\n",
       "      <td>Sunday</td>\n",
       "      <td>6</td>\n",
       "    </tr>\n",
       "    <tr>\n",
       "      <th>4</th>\n",
       "      <td>2012-07-09</td>\n",
       "      <td>1135.5</td>\n",
       "      <td>Monday</td>\n",
       "      <td>0</td>\n",
       "    </tr>\n",
       "  </tbody>\n",
       "</table>\n",
       "</div>"
      ],
      "text/plain": [
       "   OrderDate  price_per_order day_of_week  int_day_of_week\n",
       "0 2012-07-04            174.0   Wednesday                2\n",
       "1 2012-07-05           1696.0    Thursday                3\n",
       "2 2012-07-08            291.2      Sunday                6\n",
       "3 2012-07-08            558.3      Sunday                6\n",
       "4 2012-07-09           1135.5      Monday                0"
      ]
     },
     "execution_count": 55,
     "metadata": {},
     "output_type": "execute_result"
    }
   ],
   "source": [
    "df4.head()"
   ]
  },
  {
   "cell_type": "markdown",
   "metadata": {},
   "source": [
    "### Exploring the data and answering the question"
   ]
  },
  {
   "cell_type": "markdown",
   "metadata": {},
   "source": [
    "#### Do customers order more products on particular days of the week?\n",
    "\n",
    "To answer this question, a null and alternate hypothesis first need to be created:\n",
    "\n",
    "**H<sub>0</sub>**: the average amount spent on each day of the week is the same for each day\n",
    "\n",
    "**H<sub>a</sub>**: the average amount spent on each day of the week is different (either higher or lower) for each day\n",
    "\n",
    "The alpha level (i.e. the probability of rejecting the null hypothesis when it is true) will be set at 0.05."
   ]
  },
  {
   "cell_type": "code",
   "execution_count": 56,
   "metadata": {
    "scrolled": true
   },
   "outputs": [
    {
     "name": "stdout",
     "output_type": "stream",
     "text": [
      "The dates range from 2012-07-04 to 2014-05-06\n"
     ]
    }
   ],
   "source": [
    "# Investigating date range\n",
    "print(f\"The dates range from {df4.OrderDate.min().date()} to {df4.OrderDate.max().date()}\")"
   ]
  },
  {
   "cell_type": "code",
   "execution_count": null,
   "metadata": {},
   "outputs": [],
   "source": []
  },
  {
   "cell_type": "code",
   "execution_count": 57,
   "metadata": {},
   "outputs": [],
   "source": [
    "# Plotting the number of orders per month\n"
   ]
  },
  {
   "cell_type": "code",
   "execution_count": 58,
   "metadata": {},
   "outputs": [
    {
     "data": {
      "text/plain": [
       "day_of_week\n",
       "Monday       168\n",
       "Sunday       165\n",
       "Thursday     164\n",
       "Tuesday      165\n",
       "Wednesday    168\n",
       "Name: day_of_week, dtype: int64"
      ]
     },
     "execution_count": 58,
     "metadata": {},
     "output_type": "execute_result"
    }
   ],
   "source": [
    "df4.groupby(['day_of_week'])['day_of_week'].count()"
   ]
  },
  {
   "cell_type": "code",
   "execution_count": 59,
   "metadata": {
    "scrolled": false
   },
   "outputs": [
    {
     "data": {
      "image/png": "[encoded data removed]",
      "text/plain": [
       "<Figure size 576x432 with 2 Axes>"
      ]
     },
     "metadata": {
      "needs_background": "light"
     },
     "output_type": "display_data"
    }
   ],
   "source": [
    "# Plotting the number of orders average price per order by day of the week\n",
    "fig, (ax1, ax2) = plt.subplots(2, 1, figsize=(8,6))\n",
    "df4.sort_values(['int_day_of_week'], ascending=False).groupby(['day_of_week'], sort=False)['day_of_week'].count().plot(kind='barh', ax=ax1)\n",
    "df4.sort_values(['int_day_of_week'], ascending=False).groupby(['day_of_week'], sort=False)['price_per_order'].mean().plot(kind='barh', ax=ax2)\n",
    "ax1.set_title('Total number of orders')\n",
    "ax1.set_ylabel('')\n",
    "ax2.set_title('Average price of orders ($)')\n",
    "ax2.set_ylabel('')\n",
    "fig.subplots_adjust(hspace=0.4);"
   ]
  },
  {
   "cell_type": "markdown",
   "metadata": {},
   "source": [
    "The graphs above demonstrate that there are almost identical numbers of orders made on each day of the week (Sunday-Thursday, as there are no orders made on Friday or Saturday in the dataset). However, there are differences in the average price of orders made on each day. Whether or not these differences are statistically signicant will be tested below, using ANOVA.\n",
    "\n",
    "ANOVA assumes that the data is normally distributed, and that the samples have similar variances. This can be assessed with distribution plots:"
   ]
  },
  {
   "cell_type": "code",
   "execution_count": 63,
   "metadata": {
    "scrolled": true
   },
   "outputs": [
    {
     "name": "stderr",
     "output_type": "stream",
     "text": [
      "C:\\Users\\Laura\\Anaconda3\\envs\\learn-env\\lib\\site-packages\\scipy\\stats\\stats.py:1713: FutureWarning: Using a non-tuple sequence for multidimensional indexing is deprecated; use `arr[tuple(seq)]` instead of `arr[seq]`. In the future this will be interpreted as an array index, `arr[np.array(seq)]`, which will result either in an error or a different result.\n",
      "  return np.add.reduce(sorted[indexer] * weights, axis=axis) / sumval\n"
     ]
    },
    {
     "data": {
      "image/png": "[encoded data removed]",
      "text/plain": [
       "<Figure size 432x288 with 1 Axes>"
      ]
     },
     "metadata": {
      "needs_background": "light"
     },
     "output_type": "display_data"
    },
    {
     "data": {
      "image/png": "[encoded data removed]",
      "text/plain": [
       "<Figure size 432x288 with 1 Axes>"
      ]
     },
     "metadata": {
      "needs_background": "light"
     },
     "output_type": "display_data"
    },
    {
     "data": {
      "image/png": "[encoded data removed]",
      "text/plain": [
       "<Figure size 432x288 with 1 Axes>"
      ]
     },
     "metadata": {
      "needs_background": "light"
     },
     "output_type": "display_data"
    },
    {
     "data": {
      "image/png": "[encoded data removed]",
      "text/plain": [
       "<Figure size 432x288 with 1 Axes>"
      ]
     },
     "metadata": {
      "needs_background": "light"
     },
     "output_type": "display_data"
    },
    {
     "data": {
      "image/png": "[encoded data removed]",
      "text/plain": [
       "<Figure size 432x288 with 1 Axes>"
      ]
     },
     "metadata": {
      "needs_background": "light"
     },
     "output_type": "display_data"
    }
   ],
   "source": [
    "# Separating the dataset into orders from different days, and assessing their distributions\n",
    "for day in set(df4['day_of_week']):\n",
    "    day_group = df4.loc[df4['day_of_week'] == day]\n",
    "    sns.distplot(day_group['price_per_order'])\n",
    "    plt.title(day)\n",
    "    plt.xlabel('Price per order ($)')\n",
    "    plt.show()"
   ]
  },
  {
   "cell_type": "markdown",
   "metadata": {},
   "source": [
    "Log-transform"
   ]
  },
  {
   "cell_type": "code",
   "execution_count": null,
   "metadata": {},
   "outputs": [],
   "source": []
  },
  {
   "cell_type": "code",
   "execution_count": null,
   "metadata": {},
   "outputs": [],
   "source": []
  },
  {
   "cell_type": "code",
   "execution_count": null,
   "metadata": {},
   "outputs": [],
   "source": []
  }
 ],
 "metadata": {
  "kernelspec": {
   "display_name": "learn-env",
   "language": "python",
   "name": "learn-env"
  },
  "language_info": {
   "codemirror_mode": {
    "name": "ipython",
    "version": 3
   },
   "file_extension": ".py",
   "mimetype": "text/x-python",
   "name": "python",
   "nbconvert_exporter": "python",
   "pygments_lexer": "ipython3",
   "version": "3.6.6"
  }
 },
 "nbformat": 4,
 "nbformat_minor": 2
}
