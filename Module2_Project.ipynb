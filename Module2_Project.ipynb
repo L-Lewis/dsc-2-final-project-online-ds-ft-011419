{
 "cells": [
  {
   "cell_type": "markdown",
   "metadata": {},
   "source": [
    "# Module 2 project\n",
    "*Laura Lewis, March 2019*"
   ]
  },
  {
   "cell_type": "markdown",
   "metadata": {},
   "source": [
    "The goal of this project is to extract useful insights from the Northwind database. This is a sample database from Microsoft for a fictitious company called Northwind Traders, which imports and exports specialty foods from around the world. The database contains a range of information on the company's activities.\n",
    "\n",
    "Four questions will be addressed in this project:\n",
    "\n",
    "1. Do discounts have a statistically significant effect on the number of products customers order? If so, at what level(s) of discount?\n",
    "\n",
    "2. Do discounts affect the amount that a customer spends on their order? If so, at what level(s) of discount, and does offering discounts make back more than they cost?\n",
    "\n",
    "3. Does the average amount spent per order vary between customers from different regions?\n",
    "\n",
    "4. Do customers order more products on particular days of the week?\n",
    "\n",
    "***"
   ]
  },
  {
   "cell_type": "markdown",
   "metadata": {},
   "source": [
    "## Question 1: Do discounts have a statistically significant effect on the number of products customers order? If so, at what level(s) of discount?"
   ]
  },
  {
   "cell_type": "markdown",
   "metadata": {},
   "source": [
    "### Obtaining and scrubbing the data"
   ]
  },
  {
   "cell_type": "markdown",
   "metadata": {},
   "source": [
    "In this section, the data required to answer the question will be imported using SQLAlchemy. Then the dataset will be cleaned so that exploratory analysis and statistical tests are able to be conducted in the following section."
   ]
  },
  {
   "cell_type": "code",
   "execution_count": 1,
   "metadata": {},
   "outputs": [],
   "source": [
    "# Importing required libraries\n",
    "import pandas as pd\n",
    "import numpy as np\n",
    "import matplotlib.pyplot as plt\n",
    "import seaborn as sns\n",
    "%matplotlib inline\n",
    "import sqlalchemy\n",
    "from sqlalchemy import create_engine\n",
    "from sqlalchemy.orm import Session, sessionmaker\n",
    "from sqlalchemy import inspect\n",
    "from scipy import stats\n",
    "import statsmodels.api as sm\n",
    "from statsmodels.formula.api import ols\n",
    "from matplotlib.dates import DateFormatter\n",
    "import matplotlib.dates as mdates"
   ]
  },
  {
   "cell_type": "markdown",
   "metadata": {},
   "source": [
    "The database schema is illustrated below. This was used to determine what data was required and how to extract it."
   ]
  },
  {
   "cell_type": "markdown",
   "metadata": {},
   "source": [
    "![title](Northwind_ERD.png)"
   ]
  },
  {
   "cell_type": "code",
   "execution_count": 2,
   "metadata": {},
   "outputs": [
    {
     "name": "stdout",
     "output_type": "stream",
     "text": [
      "2019-03-08 18:38:10,859 INFO sqlalchemy.engine.base.Engine SELECT CAST('test plain returns' AS VARCHAR(60)) AS anon_1\n",
      "2019-03-08 18:38:10,864 INFO sqlalchemy.engine.base.Engine ()\n",
      "2019-03-08 18:38:10,866 INFO sqlalchemy.engine.base.Engine SELECT CAST('test unicode returns' AS VARCHAR(60)) AS anon_1\n",
      "2019-03-08 18:38:10,867 INFO sqlalchemy.engine.base.Engine ()\n"
     ]
    }
   ],
   "source": [
    "# Creating an engine and connecting to a database with SQLAlchemy\n",
    "engine = create_engine(\"sqlite:///Northwind_small.sqlite\", echo=True)\n",
    "Session = sessionmaker(bind=engine)\n",
    "session = Session()\n",
    "con = engine.connect()"
   ]
  },
  {
   "cell_type": "code",
   "execution_count": 76,
   "metadata": {
    "scrolled": true
   },
   "outputs": [
    {
     "name": "stdout",
     "output_type": "stream",
     "text": [
      "2019-03-08 18:58:22,148 INFO sqlalchemy.engine.base.Engine SELECT name FROM sqlite_master WHERE type='table' ORDER BY name\n",
      "2019-03-08 18:58:22,149 INFO sqlalchemy.engine.base.Engine ()\n"
     ]
    },
    {
     "data": {
      "text/plain": [
       "['Category',\n",
       " 'Customer',\n",
       " 'CustomerCustomerDemo',\n",
       " 'CustomerDemographic',\n",
       " 'Employee',\n",
       " 'EmployeeTerritory',\n",
       " 'Order',\n",
       " 'OrderDetail',\n",
       " 'Product',\n",
       " 'Region',\n",
       " 'Shipper',\n",
       " 'Supplier',\n",
       " 'Territory']"
      ]
     },
     "execution_count": 76,
     "metadata": {},
     "output_type": "execute_result"
    }
   ],
   "source": [
    "# Getting the table names - which differ slightly from the schema\n",
    "inspector = inspect(engine)\n",
    "inspector.get_table_names()"
   ]
  },
  {
   "cell_type": "markdown",
   "metadata": {},
   "source": [
    "In this query we want to extract the quantity of products ordered and the discount level for each part of each order, from the OrderDetail table."
   ]
  },
  {
   "cell_type": "code",
   "execution_count": 4,
   "metadata": {},
   "outputs": [
    {
     "name": "stdout",
     "output_type": "stream",
     "text": [
      "2019-03-08 18:38:10,889 INFO sqlalchemy.engine.base.Engine SELECT Quantity, Discount\n",
      "FROM OrderDetail\n",
      "2019-03-08 18:38:10,890 INFO sqlalchemy.engine.base.Engine ()\n"
     ]
    },
    {
     "data": {
      "text/html": [
       "<div>\n",
       "<style scoped>\n",
       "    .dataframe tbody tr th:only-of-type {\n",
       "        vertical-align: middle;\n",
       "    }\n",
       "\n",
       "    .dataframe tbody tr th {\n",
       "        vertical-align: top;\n",
       "    }\n",
       "\n",
       "    .dataframe thead th {\n",
       "        text-align: right;\n",
       "    }\n",
       "</style>\n",
       "<table border=\"1\" class=\"dataframe\">\n",
       "  <thead>\n",
       "    <tr style=\"text-align: right;\">\n",
       "      <th></th>\n",
       "      <th>Quantity</th>\n",
       "      <th>Discount</th>\n",
       "    </tr>\n",
       "  </thead>\n",
       "  <tbody>\n",
       "    <tr>\n",
       "      <th>0</th>\n",
       "      <td>12</td>\n",
       "      <td>0.0</td>\n",
       "    </tr>\n",
       "    <tr>\n",
       "      <th>1</th>\n",
       "      <td>10</td>\n",
       "      <td>0.0</td>\n",
       "    </tr>\n",
       "    <tr>\n",
       "      <th>2</th>\n",
       "      <td>5</td>\n",
       "      <td>0.0</td>\n",
       "    </tr>\n",
       "    <tr>\n",
       "      <th>3</th>\n",
       "      <td>9</td>\n",
       "      <td>0.0</td>\n",
       "    </tr>\n",
       "    <tr>\n",
       "      <th>4</th>\n",
       "      <td>40</td>\n",
       "      <td>0.0</td>\n",
       "    </tr>\n",
       "  </tbody>\n",
       "</table>\n",
       "</div>"
      ],
      "text/plain": [
       "   Quantity  Discount\n",
       "0        12       0.0\n",
       "1        10       0.0\n",
       "2         5       0.0\n",
       "3         9       0.0\n",
       "4        40       0.0"
      ]
     },
     "execution_count": 4,
     "metadata": {},
     "output_type": "execute_result"
    }
   ],
   "source": [
    "# Extracting the dataset for question 1 as a pandas dataframe\n",
    "df1 = pd.read_sql_query(\"\"\"SELECT Quantity, Discount FROM OrderDetail\"\"\", engine)\n",
    "df1.head()"
   ]
  },
  {
   "cell_type": "code",
   "execution_count": 5,
   "metadata": {
    "scrolled": true
   },
   "outputs": [
    {
     "data": {
      "text/plain": [
       "2155"
      ]
     },
     "execution_count": 5,
     "metadata": {},
     "output_type": "execute_result"
    }
   ],
   "source": [
    "# Total number of rows in the dataset\n",
    "len(df1)"
   ]
  },
  {
   "cell_type": "markdown",
   "metadata": {},
   "source": [
    "Inspecting the discount levels reveals that most fall into the categories of either no discount or 5%, 10%, 15%, 20% or 25% off:"
   ]
  },
  {
   "cell_type": "code",
   "execution_count": 6,
   "metadata": {
    "scrolled": false
   },
   "outputs": [
    {
     "data": {
      "text/plain": [
       "0.00    1317\n",
       "0.05     185\n",
       "0.10     173\n",
       "0.20     161\n",
       "0.15     157\n",
       "0.25     154\n",
       "0.03       3\n",
       "0.02       2\n",
       "0.01       1\n",
       "0.04       1\n",
       "0.06       1\n",
       "Name: Discount, dtype: int64"
      ]
     },
     "execution_count": 6,
     "metadata": {},
     "output_type": "execute_result"
    }
   ],
   "source": [
    "df1.Discount.value_counts()"
   ]
  },
  {
   "cell_type": "markdown",
   "metadata": {},
   "source": [
    "The remaining discount levels are all recorded as between 0.01 and 0.06, but the numbers of orders in each of these categories is so small that they should be combined into other groups for analysis. One option would be to include each of them in the nearest category, i.e. either 0.00 or 0.05. However, it is also possible that some of these are data entry issues, e.g. 0.01 could be 0.10 written incorrectly. Therefore these rows can be dropped as they make up a very small proportion of the dataset."
   ]
  },
  {
   "cell_type": "code",
   "execution_count": 7,
   "metadata": {},
   "outputs": [],
   "source": [
    "# Dropping all rows where the discount level is not 5%, 10%, 15%, 20% or 25%\n",
    "df1 = df1[df1.Discount.isin(['0.00', '0.05', '0.10', '0.15', '0.20', '0.25'])]"
   ]
  },
  {
   "cell_type": "markdown",
   "metadata": {},
   "source": [
    "The question refers to orders either with or without a discount. An additional column will be added to bin discount levels into orders where the discount is 0 (no discount) and orders with a discount greater than 0 (has a discount)."
   ]
  },
  {
   "cell_type": "code",
   "execution_count": 8,
   "metadata": {},
   "outputs": [],
   "source": [
    "# Binning discount levels into 1 (discount) and 0 (no discount)\n",
    "df1['Discount_bin'] = df1['Discount'].apply(lambda x: 1 if x > 0 else 0)"
   ]
  },
  {
   "cell_type": "markdown",
   "metadata": {},
   "source": [
    "The database can now be inspected for any further necessary cleaning."
   ]
  },
  {
   "cell_type": "code",
   "execution_count": 9,
   "metadata": {
    "scrolled": true
   },
   "outputs": [
    {
     "name": "stdout",
     "output_type": "stream",
     "text": [
      "<class 'pandas.core.frame.DataFrame'>\n",
      "Int64Index: 2147 entries, 0 to 2154\n",
      "Data columns (total 3 columns):\n",
      "Quantity        2147 non-null int64\n",
      "Discount        2147 non-null float64\n",
      "Discount_bin    2147 non-null int64\n",
      "dtypes: float64(1), int64(2)\n",
      "memory usage: 67.1 KB\n"
     ]
    }
   ],
   "source": [
    "df1.info()"
   ]
  },
  {
   "cell_type": "markdown",
   "metadata": {},
   "source": [
    "There are no null values to replace."
   ]
  },
  {
   "cell_type": "markdown",
   "metadata": {},
   "source": [
    "### Exploring the data and answering the question"
   ]
  },
  {
   "cell_type": "markdown",
   "metadata": {},
   "source": [
    "#### Do discounts have a statistically significant effect on the number of products customers order? If so, at what level(s) of discount?\n",
    "\n",
    "To answer the first part of this question, a null and alternate hypothesis first need to be created:\n",
    "\n",
    "**H<sub>0</sub>**: the average number of products ordered is the same with and without a discount\n",
    "\n",
    "**H<sub>a</sub>**: the average number of products ordered with a discount is either higher or lower than orders without a discount\n",
    "\n",
    "The alpha level (i.e. the probability of rejecting the null hypothesis when it is true) will be set at 0.05."
   ]
  },
  {
   "cell_type": "code",
   "execution_count": 10,
   "metadata": {},
   "outputs": [
    {
     "data": {
      "text/html": [
       "<div>\n",
       "<style scoped>\n",
       "    .dataframe tbody tr th:only-of-type {\n",
       "        vertical-align: middle;\n",
       "    }\n",
       "\n",
       "    .dataframe tbody tr th {\n",
       "        vertical-align: top;\n",
       "    }\n",
       "\n",
       "    .dataframe thead th {\n",
       "        text-align: right;\n",
       "    }\n",
       "</style>\n",
       "<table border=\"1\" class=\"dataframe\">\n",
       "  <thead>\n",
       "    <tr style=\"text-align: right;\">\n",
       "      <th></th>\n",
       "      <th>Quantity</th>\n",
       "      <th>Discount</th>\n",
       "      <th>Discount_bin</th>\n",
       "    </tr>\n",
       "  </thead>\n",
       "  <tbody>\n",
       "    <tr>\n",
       "      <th>count</th>\n",
       "      <td>2147.000000</td>\n",
       "      <td>2147.000000</td>\n",
       "      <td>2147.000000</td>\n",
       "    </tr>\n",
       "    <tr>\n",
       "      <th>mean</th>\n",
       "      <td>23.895203</td>\n",
       "      <td>0.056265</td>\n",
       "      <td>0.386586</td>\n",
       "    </tr>\n",
       "    <tr>\n",
       "      <th>std</th>\n",
       "      <td>19.009580</td>\n",
       "      <td>0.083586</td>\n",
       "      <td>0.487081</td>\n",
       "    </tr>\n",
       "    <tr>\n",
       "      <th>min</th>\n",
       "      <td>1.000000</td>\n",
       "      <td>0.000000</td>\n",
       "      <td>0.000000</td>\n",
       "    </tr>\n",
       "    <tr>\n",
       "      <th>25%</th>\n",
       "      <td>10.000000</td>\n",
       "      <td>0.000000</td>\n",
       "      <td>0.000000</td>\n",
       "    </tr>\n",
       "    <tr>\n",
       "      <th>50%</th>\n",
       "      <td>20.000000</td>\n",
       "      <td>0.000000</td>\n",
       "      <td>0.000000</td>\n",
       "    </tr>\n",
       "    <tr>\n",
       "      <th>75%</th>\n",
       "      <td>30.000000</td>\n",
       "      <td>0.100000</td>\n",
       "      <td>1.000000</td>\n",
       "    </tr>\n",
       "    <tr>\n",
       "      <th>max</th>\n",
       "      <td>130.000000</td>\n",
       "      <td>0.250000</td>\n",
       "      <td>1.000000</td>\n",
       "    </tr>\n",
       "  </tbody>\n",
       "</table>\n",
       "</div>"
      ],
      "text/plain": [
       "          Quantity     Discount  Discount_bin\n",
       "count  2147.000000  2147.000000   2147.000000\n",
       "mean     23.895203     0.056265      0.386586\n",
       "std      19.009580     0.083586      0.487081\n",
       "min       1.000000     0.000000      0.000000\n",
       "25%      10.000000     0.000000      0.000000\n",
       "50%      20.000000     0.000000      0.000000\n",
       "75%      30.000000     0.100000      1.000000\n",
       "max     130.000000     0.250000      1.000000"
      ]
     },
     "execution_count": 10,
     "metadata": {},
     "output_type": "execute_result"
    }
   ],
   "source": [
    "# Inspecting the summary statistics\n",
    "df1.describe()"
   ]
  },
  {
   "cell_type": "markdown",
   "metadata": {},
   "source": [
    "The graphs below show that the majority of items ordered have no discount, but the average number of items ordered with any level of discount is higher than for products with no discount (27 vs 22). This lends support to the alternate hypothesis that the number of items ordered is different for products with discounts vs. no discounts. However, there does not appear to be a consistently increasing trend in the number of items ordered as the discount level rises from 5% to 25%."
   ]
  },
  {
   "cell_type": "code",
   "execution_count": 11,
   "metadata": {
    "scrolled": false
   },
   "outputs": [
    {
     "data": {
      "text/plain": [
       "Discount_bin\n",
       "0    22.0\n",
       "1    27.0\n",
       "Name: Quantity, dtype: float64"
      ]
     },
     "execution_count": 11,
     "metadata": {},
     "output_type": "execute_result"
    }
   ],
   "source": [
    "# Average number of items ordered with and without a discount\n",
    "round(df1.groupby(['Discount_bin'])['Quantity'].mean(),0)"
   ]
  },
  {
   "cell_type": "code",
   "execution_count": 12,
   "metadata": {
    "scrolled": false
   },
   "outputs": [
    {
     "data": {
      "image/png": "[encoded data removed]",
      "text/plain": [
       "<Figure size 576x432 with 2 Axes>"
      ]
     },
     "metadata": {
      "needs_background": "light"
     },
     "output_type": "display_data"
    }
   ],
   "source": [
    "# Plotting the number of orders and average quantity of items ordered with and without discounts\n",
    "fig, (ax1, ax2) = plt.subplots(2, 1, figsize=(8,6))\n",
    "df1.groupby(['Discount_bin'])['Quantity'].count().plot(kind='barh', ax=ax1, color=['indianred', 'seagreen'])\n",
    "df1.groupby(['Discount_bin'])['Quantity'].mean().plot(kind='barh', ax=ax2, color=['indianred', 'seagreen'])\n",
    "ax1.set_title('Total number of orders')\n",
    "ax1.set_ylabel('')\n",
    "ax2.set_ylabel('')\n",
    "ax2.set_title('Average number of items ordered')\n",
    "ax1.set_yticklabels(['No discount', 'Discount'])\n",
    "ax2.set_yticklabels(['No discount', 'Discount'])\n",
    "fig.subplots_adjust(hspace=0.6);"
   ]
  },
  {
   "cell_type": "code",
   "execution_count": 165,
   "metadata": {},
   "outputs": [
    {
     "name": "stderr",
     "output_type": "stream",
     "text": [
      "C:\\Users\\Laura\\Anaconda3\\envs\\learn-env\\lib\\site-packages\\pandas\\plotting\\_core.py:194: UserWarning: 'colors' is being deprecated. Please use 'color'instead of 'colors'\n",
      "  warnings.warn((\"'colors' is being deprecated. Please use 'color'\"\n",
      "C:\\Users\\Laura\\Anaconda3\\envs\\learn-env\\lib\\site-packages\\pandas\\plotting\\_core.py:194: UserWarning: 'colors' is being deprecated. Please use 'color'instead of 'colors'\n",
      "  warnings.warn((\"'colors' is being deprecated. Please use 'color'\"\n"
     ]
    },
    {
     "data": {
      "image/png": "[encoded data removed]",
      "text/plain": [
       "<Figure size 576x432 with 2 Axes>"
      ]
     },
     "metadata": {
      "needs_background": "light"
     },
     "output_type": "display_data"
    }
   ],
   "source": [
    "# Plotting the number of orders and average quantity of items ordered with different levels of discount\n",
    "fig, (ax1, ax2) = plt.subplots(2, 1, figsize=(8,6))\n",
    "df1.groupby(['Discount'])['Quantity'].count().plot(kind='barh', ax=ax1, colors=['indianred', '#A0CAB2', '#67AA84', '#2A7F50', '#1A4C30', '#0D2618'])\n",
    "df1.groupby(['Discount'])['Quantity'].mean().plot(kind='barh', ax=ax2, colors=['indianred', '#A0CAB2', '#67AA84', '#2A7F50', '#1A4C30', '#0D2618'])\n",
    "ax1.set_title('Total number of items ordered')\n",
    "ax1.set_ylabel('Discount')\n",
    "ax2.set_ylabel('Discount')\n",
    "ax2.set_title('Average number of items ordered')\n",
    "ax1.set_yticklabels(['None', '5%', '10%', '15%', '20%', '25%'])\n",
    "ax2.set_yticklabels(['None', '5%', '10%', '15%', '20%', '25%'])\n",
    "fig.subplots_adjust(hspace=0.4);"
   ]
  },
  {
   "cell_type": "markdown",
   "metadata": {},
   "source": [
    "In order to properly answer this question, we must use statistical tests rather than just descriptive statistics. The correct hypothesis test needs to be chosen. In this case, a two-tailed t-test will be used. This is because the data is continuous, and because we are looking for either a decrease _or_ an increase in the number of products ordered.\n",
    "\n",
    "A two-sample t-test assumes that the data is normally distributed, and that the samples have equal variances. This can be assessed with distribution plots:"
   ]
  },
  {
   "cell_type": "code",
   "execution_count": 102,
   "metadata": {},
   "outputs": [
    {
     "name": "stderr",
     "output_type": "stream",
     "text": [
      "C:\\Users\\Laura\\Anaconda3\\envs\\learn-env\\lib\\site-packages\\scipy\\stats\\stats.py:1713: FutureWarning: Using a non-tuple sequence for multidimensional indexing is deprecated; use `arr[tuple(seq)]` instead of `arr[seq]`. In the future this will be interpreted as an array index, `arr[np.array(seq)]`, which will result either in an error or a different result.\n",
      "  return np.add.reduce(sorted[indexer] * weights, axis=axis) / sumval\n"
     ]
    },
    {
     "data": {
      "image/png": "[encoded data removed]",
      "text/plain": [
       "<Figure size 432x288 with 1 Axes>"
      ]
     },
     "metadata": {
      "needs_background": "light"
     },
     "output_type": "display_data"
    }
   ],
   "source": [
    "# Separating the dataset into orders with and without discounts, and assessing their distributions\n",
    "discount = df1[df1['Discount_bin'] == 1]\n",
    "no_discount = df1[df1['Discount_bin'] == 0]\n",
    "sns.distplot(discount.Quantity, label='Discount', color='seagreen')\n",
    "sns.distplot(no_discount.Quantity, label='No discount', color='indianred')\n",
    "plt.title('Distribution plots of the number of items per order')\n",
    "plt.legend();"
   ]
  },
  {
   "cell_type": "markdown",
   "metadata": {},
   "source": [
    "The distribution plots above show that these assumptions hold true, although the distributions are positively skewed. A standard t-test can therefore be used (as opposed to a Welch's t-test)."
   ]
  },
  {
   "cell_type": "code",
   "execution_count": 15,
   "metadata": {},
   "outputs": [
    {
     "data": {
      "text/plain": [
       "Ttest_indResult(statistic=6.7627297036707565, pvalue=1.7401995278127614e-11)"
      ]
     },
     "execution_count": 15,
     "metadata": {},
     "output_type": "execute_result"
    }
   ],
   "source": [
    "# Running a two-sided t-test to compare two independent samples\n",
    "stats.ttest_ind(discount.Quantity, no_discount.Quantity)"
   ]
  },
  {
   "cell_type": "code",
   "execution_count": 16,
   "metadata": {},
   "outputs": [
    {
     "name": "stdout",
     "output_type": "stream",
     "text": [
      "Average number of products ordered with no discounts:  21.7\n",
      "Average number of products ordered with discounts:  27.4\n",
      "Effect size:  5.6\n",
      "Relative effect size (increase from no discount to discount):  0.26\n"
     ]
    }
   ],
   "source": [
    "print(\"Average number of products ordered with no discounts: \", round(no_discount['Quantity'].mean(),1))\n",
    "print(\"Average number of products ordered with discounts: \", round(discount['Quantity'].mean(),1))\n",
    "print(\"Effect size: \", round(discount['Quantity'].mean() - no_discount['Quantity'].mean(),1))\n",
    "print(\"Relative effect size (increase from no discount to discount): \", round((discount['Quantity'].mean() - no_discount['Quantity'].mean())/no_discount['Quantity'].mean(),2))"
   ]
  },
  {
   "cell_type": "markdown",
   "metadata": {},
   "source": [
    "The p-value is <0.001, which is less than the alpha value of 0.05. Therefore we can reject the null hypothesis and accept the alternative hypothesis. We can conclude that there is a statistically significant difference between the average number of items ordered with and without discounts.\n",
    "\n",
    " - **On average, 22 items are ordered for products without a discount, and 27 for items with a discount**\n",
    "\n",
    " - **Orders with discounts contain 6 more items on average than orders with no discounts, which is a 26% increase.**\n",
    "\n",
    "**However, these correlations do not necessarily imply causation, and so it is not possible to categorically state that offering a discount will necessarily increase the order size by 26%.**"
   ]
  },
  {
   "cell_type": "markdown",
   "metadata": {},
   "source": [
    "The second part of the question asks at what level of discount the statistically significant effect occurs. To answer this part of this question, a new null and alternate hypothesis need to be created:\n",
    "\n",
    "**H<sub>0</sub>**: the average number of products ordered is the same at different levels of discount\n",
    "\n",
    "**H<sub>a</sub>**: the average number of products ordered is different between the different levels of discount\n",
    "\n",
    "The alpha level (i.e. the probability of rejecting the null hypothesis when it is true) will be set at 0.05."
   ]
  },
  {
   "cell_type": "markdown",
   "metadata": {},
   "source": [
    "To answer this question, ANOVA will be used in order to assess the degree of variation between multiple samples, where each sample is a different level of discount."
   ]
  },
  {
   "cell_type": "code",
   "execution_count": 17,
   "metadata": {},
   "outputs": [
    {
     "data": {
      "text/html": [
       "<div>\n",
       "<style scoped>\n",
       "    .dataframe tbody tr th:only-of-type {\n",
       "        vertical-align: middle;\n",
       "    }\n",
       "\n",
       "    .dataframe tbody tr th {\n",
       "        vertical-align: top;\n",
       "    }\n",
       "\n",
       "    .dataframe thead th {\n",
       "        text-align: right;\n",
       "    }\n",
       "</style>\n",
       "<table border=\"1\" class=\"dataframe\">\n",
       "  <thead>\n",
       "    <tr style=\"text-align: right;\">\n",
       "      <th></th>\n",
       "      <th>sum_sq</th>\n",
       "      <th>df</th>\n",
       "      <th>F</th>\n",
       "      <th>PR(&gt;F)</th>\n",
       "    </tr>\n",
       "  </thead>\n",
       "  <tbody>\n",
       "    <tr>\n",
       "      <th>C(Discount)</th>\n",
       "      <td>1159.517551</td>\n",
       "      <td>4.0</td>\n",
       "      <td>0.674103</td>\n",
       "      <td>0.610041</td>\n",
       "    </tr>\n",
       "    <tr>\n",
       "      <th>Residual</th>\n",
       "      <td>354768.342690</td>\n",
       "      <td>825.0</td>\n",
       "      <td>NaN</td>\n",
       "      <td>NaN</td>\n",
       "    </tr>\n",
       "  </tbody>\n",
       "</table>\n",
       "</div>"
      ],
      "text/plain": [
       "                    sum_sq     df         F    PR(>F)\n",
       "C(Discount)    1159.517551    4.0  0.674103  0.610041\n",
       "Residual     354768.342690  825.0       NaN       NaN"
      ]
     },
     "execution_count": 17,
     "metadata": {},
     "output_type": "execute_result"
    }
   ],
   "source": [
    "# Fitting a model of Total_Quantity on Discount categories, and using statsmodels to compute an ANOVA table\n",
    "lm = ols('Quantity ~ C(Discount)', discount).fit()\n",
    "sm.stats.anova_lm(lm, typ=2)"
   ]
  },
  {
   "cell_type": "code",
   "execution_count": 18,
   "metadata": {
    "scrolled": true
   },
   "outputs": [
    {
     "data": {
      "text/html": [
       "<table class=\"simpletable\">\n",
       "<caption>OLS Regression Results</caption>\n",
       "<tr>\n",
       "  <th>Dep. Variable:</th>        <td>Quantity</td>     <th>  R-squared:         </th> <td>   0.003</td>\n",
       "</tr>\n",
       "<tr>\n",
       "  <th>Model:</th>                   <td>OLS</td>       <th>  Adj. R-squared:    </th> <td>  -0.002</td>\n",
       "</tr>\n",
       "<tr>\n",
       "  <th>Method:</th>             <td>Least Squares</td>  <th>  F-statistic:       </th> <td>  0.6741</td>\n",
       "</tr>\n",
       "<tr>\n",
       "  <th>Date:</th>             <td>Fri, 08 Mar 2019</td> <th>  Prob (F-statistic):</th>  <td> 0.610</td> \n",
       "</tr>\n",
       "<tr>\n",
       "  <th>Time:</th>                 <td>18:38:12</td>     <th>  Log-Likelihood:    </th> <td> -3691.7</td>\n",
       "</tr>\n",
       "<tr>\n",
       "  <th>No. Observations:</th>      <td>   830</td>      <th>  AIC:               </th> <td>   7393.</td>\n",
       "</tr>\n",
       "<tr>\n",
       "  <th>Df Residuals:</th>          <td>   825</td>      <th>  BIC:               </th> <td>   7417.</td>\n",
       "</tr>\n",
       "<tr>\n",
       "  <th>Df Model:</th>              <td>     4</td>      <th>                     </th>     <td> </td>   \n",
       "</tr>\n",
       "<tr>\n",
       "  <th>Covariance Type:</th>      <td>nonrobust</td>    <th>                     </th>     <td> </td>   \n",
       "</tr>\n",
       "</table>\n",
       "<table class=\"simpletable\">\n",
       "<tr>\n",
       "           <td></td>              <th>coef</th>     <th>std err</th>      <th>t</th>      <th>P>|t|</th>  <th>[0.025</th>    <th>0.975]</th>  \n",
       "</tr>\n",
       "<tr>\n",
       "  <th>Intercept</th>           <td>   28.0108</td> <td>    1.525</td> <td>   18.372</td> <td> 0.000</td> <td>   25.018</td> <td>   31.003</td>\n",
       "</tr>\n",
       "<tr>\n",
       "  <th>C(Discount)[T.0.1]</th>  <td>   -2.7738</td> <td>    2.193</td> <td>   -1.265</td> <td> 0.206</td> <td>   -7.079</td> <td>    1.531</td>\n",
       "</tr>\n",
       "<tr>\n",
       "  <th>C(Discount)[T.0.15]</th> <td>    0.3714</td> <td>    2.250</td> <td>    0.165</td> <td> 0.869</td> <td>   -4.045</td> <td>    4.788</td>\n",
       "</tr>\n",
       "<tr>\n",
       "  <th>C(Discount)[T.0.2]</th>  <td>   -0.9860</td> <td>    2.235</td> <td>   -0.441</td> <td> 0.659</td> <td>   -5.373</td> <td>    3.401</td>\n",
       "</tr>\n",
       "<tr>\n",
       "  <th>C(Discount)[T.0.25]</th> <td>    0.2294</td> <td>    2.262</td> <td>    0.101</td> <td> 0.919</td> <td>   -4.211</td> <td>    4.669</td>\n",
       "</tr>\n",
       "</table>\n",
       "<table class=\"simpletable\">\n",
       "<tr>\n",
       "  <th>Omnibus:</th>       <td>263.705</td> <th>  Durbin-Watson:     </th> <td>   1.667</td> \n",
       "</tr>\n",
       "<tr>\n",
       "  <th>Prob(Omnibus):</th> <td> 0.000</td>  <th>  Jarque-Bera (JB):  </th> <td> 751.622</td> \n",
       "</tr>\n",
       "<tr>\n",
       "  <th>Skew:</th>          <td> 1.598</td>  <th>  Prob(JB):          </th> <td>6.13e-164</td>\n",
       "</tr>\n",
       "<tr>\n",
       "  <th>Kurtosis:</th>      <td> 6.394</td>  <th>  Cond. No.          </th> <td>    5.56</td> \n",
       "</tr>\n",
       "</table><br/><br/>Warnings:<br/>[1] Standard Errors assume that the covariance matrix of the errors is correctly specified."
      ],
      "text/plain": [
       "<class 'statsmodels.iolib.summary.Summary'>\n",
       "\"\"\"\n",
       "                            OLS Regression Results                            \n",
       "==============================================================================\n",
       "Dep. Variable:               Quantity   R-squared:                       0.003\n",
       "Model:                            OLS   Adj. R-squared:                 -0.002\n",
       "Method:                 Least Squares   F-statistic:                    0.6741\n",
       "Date:                Fri, 08 Mar 2019   Prob (F-statistic):              0.610\n",
       "Time:                        18:38:12   Log-Likelihood:                -3691.7\n",
       "No. Observations:                 830   AIC:                             7393.\n",
       "Df Residuals:                     825   BIC:                             7417.\n",
       "Df Model:                           4                                         \n",
       "Covariance Type:            nonrobust                                         \n",
       "=======================================================================================\n",
       "                          coef    std err          t      P>|t|      [0.025      0.975]\n",
       "---------------------------------------------------------------------------------------\n",
       "Intercept              28.0108      1.525     18.372      0.000      25.018      31.003\n",
       "C(Discount)[T.0.1]     -2.7738      2.193     -1.265      0.206      -7.079       1.531\n",
       "C(Discount)[T.0.15]     0.3714      2.250      0.165      0.869      -4.045       4.788\n",
       "C(Discount)[T.0.2]     -0.9860      2.235     -0.441      0.659      -5.373       3.401\n",
       "C(Discount)[T.0.25]     0.2294      2.262      0.101      0.919      -4.211       4.669\n",
       "==============================================================================\n",
       "Omnibus:                      263.705   Durbin-Watson:                   1.667\n",
       "Prob(Omnibus):                  0.000   Jarque-Bera (JB):              751.622\n",
       "Skew:                           1.598   Prob(JB):                    6.13e-164\n",
       "Kurtosis:                       6.394   Cond. No.                         5.56\n",
       "==============================================================================\n",
       "\n",
       "Warnings:\n",
       "[1] Standard Errors assume that the covariance matrix of the errors is correctly specified.\n",
       "\"\"\""
      ]
     },
     "execution_count": 18,
     "metadata": {},
     "output_type": "execute_result"
    }
   ],
   "source": [
    "# Summary of the model and its coefficients\n",
    "lm.summary()"
   ]
  },
  {
   "cell_type": "markdown",
   "metadata": {},
   "source": [
    "The ANOVA table above reveals that the p-value is 0.610, which is much higher than the alpha value of 0.05. Therefore we cannot reject the null hypothesis that **there is no difference between the average number of items ordered between different discount levels**. The model summary table provides further evidence for this conclusion. The p-values for each pairwise comparison between the lowest level of discount (5%) and each other level of discount are all above the alpha value, indicating that no individual discount levels have a statistically significant effect. Additionally, the overall r/eta squared value for the model is negligible, confirming that **the different discount levels do not explain the differences in the numbers of items ordered in the different discount groups**."
   ]
  },
  {
   "cell_type": "markdown",
   "metadata": {},
   "source": [
    "### Conclusions"
   ]
  },
  {
   "cell_type": "markdown",
   "metadata": {},
   "source": [
    "**Business insights:** \n",
    " - There are statistically significant differences in the number of items ordered between products with no discounts and products with a discount.\n",
    " - The difference between the average number of items ordered for products with no discount (22) and those with a discount (27), i.e. a 26% increase.\n",
    " - However, there is no statistically significant effect from increasing the level of the discount.\n",
    " - A preliminary conclusion is that the impact of offering any discount at all (e.g. only 5%) on an order is greater than the impact of increasing the level of discount offered (a conclusion supported by the literature on behavioural economics).\n",
    " \n",
    "\n",
    "**Potential business actions and directions for future work:**\n",
    " - Offering more low-value discounts (e.g. 5%) and reducing the number of higher-level discounts may have a beneficial effect on increasing the number of items that customers order overall.\n",
    " - However, additional analysis would be needed in order to provide further evidence that the differences in the number of items per order was due primarily to discount level rather than other factors (e.g. by ruling out the impacts of other features, such as different orders containing different types of products)."
   ]
  },
  {
   "cell_type": "markdown",
   "metadata": {},
   "source": [
    "***"
   ]
  },
  {
   "cell_type": "markdown",
   "metadata": {},
   "source": [
    "## Question 2: Do discounts affect the amount that a customer spends on their order? If so, at what level(s) of discount, and does offering discounts make back more than they cost?"
   ]
  },
  {
   "cell_type": "markdown",
   "metadata": {},
   "source": [
    "The analysis above suggested that offering discounts encourages customers to buy more items. However, there is also a very tangible cost to giving customers discounts. Therefore it is also worth investigating whether offering discounts also increases the average cost per order (because people are buying additional discounted products that they wouldn't have bought otherwise), or decreases the average cost per order (because people are buying a greater number of cheaper discounted products, but because of the discounts there is no net benefit to the company's bottom line)."
   ]
  },
  {
   "cell_type": "markdown",
   "metadata": {},
   "source": [
    "### Obtaining and scrubbing the data"
   ]
  },
  {
   "cell_type": "markdown",
   "metadata": {},
   "source": [
    "In this query, we want to extract for each order the number of each product ordered, the unit price and the discount level (for calculating the actual price paid), from the OrderDetail table."
   ]
  },
  {
   "cell_type": "code",
   "execution_count": 255,
   "metadata": {
    "scrolled": true
   },
   "outputs": [
    {
     "name": "stdout",
     "output_type": "stream",
     "text": [
      "2019-03-08 22:22:13,659 INFO sqlalchemy.engine.base.Engine SELECT OrderId, Quantity, UnitPrice, Discount\n",
      "FROM OrderDetail\n",
      "2019-03-08 22:22:13,660 INFO sqlalchemy.engine.base.Engine ()\n"
     ]
    },
    {
     "data": {
      "text/html": [
       "<div>\n",
       "<style scoped>\n",
       "    .dataframe tbody tr th:only-of-type {\n",
       "        vertical-align: middle;\n",
       "    }\n",
       "\n",
       "    .dataframe tbody tr th {\n",
       "        vertical-align: top;\n",
       "    }\n",
       "\n",
       "    .dataframe thead th {\n",
       "        text-align: right;\n",
       "    }\n",
       "</style>\n",
       "<table border=\"1\" class=\"dataframe\">\n",
       "  <thead>\n",
       "    <tr style=\"text-align: right;\">\n",
       "      <th></th>\n",
       "      <th>OrderId</th>\n",
       "      <th>Quantity</th>\n",
       "      <th>UnitPrice</th>\n",
       "      <th>Discount</th>\n",
       "    </tr>\n",
       "  </thead>\n",
       "  <tbody>\n",
       "    <tr>\n",
       "      <th>0</th>\n",
       "      <td>10248</td>\n",
       "      <td>12</td>\n",
       "      <td>14.0</td>\n",
       "      <td>0.0</td>\n",
       "    </tr>\n",
       "    <tr>\n",
       "      <th>1</th>\n",
       "      <td>10248</td>\n",
       "      <td>10</td>\n",
       "      <td>9.8</td>\n",
       "      <td>0.0</td>\n",
       "    </tr>\n",
       "    <tr>\n",
       "      <th>2</th>\n",
       "      <td>10248</td>\n",
       "      <td>5</td>\n",
       "      <td>34.8</td>\n",
       "      <td>0.0</td>\n",
       "    </tr>\n",
       "    <tr>\n",
       "      <th>3</th>\n",
       "      <td>10249</td>\n",
       "      <td>9</td>\n",
       "      <td>18.6</td>\n",
       "      <td>0.0</td>\n",
       "    </tr>\n",
       "    <tr>\n",
       "      <th>4</th>\n",
       "      <td>10249</td>\n",
       "      <td>40</td>\n",
       "      <td>42.4</td>\n",
       "      <td>0.0</td>\n",
       "    </tr>\n",
       "  </tbody>\n",
       "</table>\n",
       "</div>"
      ],
      "text/plain": [
       "   OrderId  Quantity  UnitPrice  Discount\n",
       "0    10248        12       14.0       0.0\n",
       "1    10248        10        9.8       0.0\n",
       "2    10248         5       34.8       0.0\n",
       "3    10249         9       18.6       0.0\n",
       "4    10249        40       42.4       0.0"
      ]
     },
     "execution_count": 255,
     "metadata": {},
     "output_type": "execute_result"
    }
   ],
   "source": [
    "# Extracting the dataset for question 2 as a pandas dataframe\n",
    "df2 = pd.read_sql_query(\"\"\"SELECT OrderId, Quantity, UnitPrice, Discount\n",
    "FROM OrderDetail\"\"\", engine)\n",
    "df2.head()"
   ]
  },
  {
   "cell_type": "code",
   "execution_count": 256,
   "metadata": {
    "scrolled": false
   },
   "outputs": [
    {
     "data": {
      "text/plain": [
       "2155"
      ]
     },
     "execution_count": 256,
     "metadata": {},
     "output_type": "execute_result"
    }
   ],
   "source": [
    "# Total number of rows in the dataset\n",
    "len(df2)"
   ]
  },
  {
   "cell_type": "code",
   "execution_count": 257,
   "metadata": {},
   "outputs": [
    {
     "data": {
      "text/plain": [
       "0.00    1317\n",
       "0.05     185\n",
       "0.10     173\n",
       "0.20     161\n",
       "0.15     157\n",
       "0.25     154\n",
       "0.03       3\n",
       "0.02       2\n",
       "0.01       1\n",
       "0.04       1\n",
       "0.06       1\n",
       "Name: Discount, dtype: int64"
      ]
     },
     "execution_count": 257,
     "metadata": {},
     "output_type": "execute_result"
    }
   ],
   "source": [
    "df2.Discount.value_counts()"
   ]
  },
  {
   "cell_type": "markdown",
   "metadata": {},
   "source": [
    "As in question 1, it is necessary to drop the rows that have highly unusual discount values."
   ]
  },
  {
   "cell_type": "code",
   "execution_count": 258,
   "metadata": {},
   "outputs": [],
   "source": [
    "# Dropping all rows where the discount level is not 5%, 10%, 15%, 20% or 25%\n",
    "df2 = df2[df2.Discount.isin(['0.00', '0.05', '0.10', '0.15', '0.20', '0.25'])]"
   ]
  },
  {
   "cell_type": "code",
   "execution_count": 259,
   "metadata": {
    "scrolled": false
   },
   "outputs": [
    {
     "name": "stdout",
     "output_type": "stream",
     "text": [
      "<class 'pandas.core.frame.DataFrame'>\n",
      "Int64Index: 2147 entries, 0 to 2154\n",
      "Data columns (total 4 columns):\n",
      "OrderId      2147 non-null int64\n",
      "Quantity     2147 non-null int64\n",
      "UnitPrice    2147 non-null float64\n",
      "Discount     2147 non-null float64\n",
      "dtypes: float64(2), int64(2)\n",
      "memory usage: 83.9 KB\n"
     ]
    }
   ],
   "source": [
    "df2.info()"
   ]
  },
  {
   "cell_type": "markdown",
   "metadata": {},
   "source": [
    "There are no null values, so there is no need to replace any values."
   ]
  },
  {
   "cell_type": "markdown",
   "metadata": {},
   "source": [
    "The question refers to orders either with or without a discount. An additional column will be added to bin discount levels into orders where the discount is 0 (no discount) and orders with a discount greater than 0 (has a discount)."
   ]
  },
  {
   "cell_type": "code",
   "execution_count": 260,
   "metadata": {},
   "outputs": [],
   "source": [
    "# Binning discount levels into 1 (discount) and 0 (no discount)\n",
    "df2['Discount_bin'] = df2['Discount'].apply(lambda x: 1 if x > 0 else 0)"
   ]
  },
  {
   "cell_type": "markdown",
   "metadata": {},
   "source": [
    "An additional column will also be added to calculate the total price per order, by applying the discount to the product of the unit price and the unit quantity:"
   ]
  },
  {
   "cell_type": "code",
   "execution_count": 261,
   "metadata": {},
   "outputs": [],
   "source": [
    "# Calculating the price per sub-order\n",
    "df2['price_per_order'] = df2.Quantity * df2.UnitPrice * (1 - df2.Discount)"
   ]
  },
  {
   "cell_type": "code",
   "execution_count": 262,
   "metadata": {},
   "outputs": [],
   "source": [
    "# Dropping the columns for quantity and unit price now that the total price has been calculated\n",
    "df2.drop(['Quantity', 'UnitPrice'], axis=1, inplace=True)"
   ]
  },
  {
   "cell_type": "code",
   "execution_count": 263,
   "metadata": {
    "scrolled": true
   },
   "outputs": [],
   "source": [
    "# Grouping the data by order and discount, and summing the price for each order\n",
    "df2 = df2.groupby(['Discount_bin', 'Discount', 'OrderId'])['price_per_order'].sum().reset_index()"
   ]
  },
  {
   "cell_type": "code",
   "execution_count": 264,
   "metadata": {},
   "outputs": [
    {
     "data": {
      "text/plain": [
       "995"
      ]
     },
     "execution_count": 264,
     "metadata": {},
     "output_type": "execute_result"
    }
   ],
   "source": [
    "len(df2)"
   ]
  },
  {
   "cell_type": "code",
   "execution_count": 265,
   "metadata": {},
   "outputs": [
    {
     "data": {
      "text/plain": [
       "830"
      ]
     },
     "execution_count": 265,
     "metadata": {},
     "output_type": "execute_result"
    }
   ],
   "source": [
    "# Number of unique OrderIds in the dataset\n",
    "df2.OrderId.nunique()"
   ]
  },
  {
   "cell_type": "markdown",
   "metadata": {},
   "source": [
    "There are 1000 rows in the dataset, but only 830 unique orders. Because orders are grouped by discount as well as by order, this means that some orders contain products with different discounts applied. There are multiple ways of dealing with this, e.g. the discount applied to the majority of items could be used. However, because the purpose of this analysis is to later be able to conduct statistical tests between independent groups, it is preferable here to drop the rows that could confuse the analysis (e.g. because products are counted as being from separate orders when they were actually placed by the same person at the same time in the same order)."
   ]
  },
  {
   "cell_type": "code",
   "execution_count": 268,
   "metadata": {},
   "outputs": [],
   "source": [
    "# Dropping all rows containing duplicates of OrderId\n",
    "df2.drop_duplicates(subset=['OrderId'], keep=False, inplace=True)"
   ]
  },
  {
   "cell_type": "code",
   "execution_count": 269,
   "metadata": {
    "scrolled": false
   },
   "outputs": [
    {
     "name": "stdout",
     "output_type": "stream",
     "text": [
      "667\n",
      "True\n"
     ]
    }
   ],
   "source": [
    "# Checking the new length of the dataset and whether duplicates have been dropped\n",
    "print(len(df2))\n",
    "print(df2.OrderId.nunique() == len(df2))"
   ]
  },
  {
   "cell_type": "code",
   "execution_count": 270,
   "metadata": {},
   "outputs": [],
   "source": [
    "# Dropping the OrderId as it is no longer needed\n",
    "df2.drop('OrderId', axis=1, inplace=True)"
   ]
  },
  {
   "cell_type": "markdown",
   "metadata": {},
   "source": [
    "### Exploring the data and answering the question"
   ]
  },
  {
   "cell_type": "markdown",
   "metadata": {},
   "source": [
    "#### Do discounts affect the amount that a customer spends on their order? If so, at what level(s) of discount, and does offering discounts make back more than they cost?\n",
    "\n",
    "To answer the first part of this question, a null and alternate hypothesis first need to be created:\n",
    "\n",
    "**H<sub>0</sub>**: the average price per order is the same with and without a discount\n",
    "\n",
    "**H<sub>a</sub>**: the average price per order with a discount is either higher or lower than orders without a discount\n",
    "\n",
    "The alpha level (i.e. the probability of rejecting the null hypothesis when it is true) will be set at 0.05."
   ]
  },
  {
   "cell_type": "code",
   "execution_count": 274,
   "metadata": {
    "scrolled": true
   },
   "outputs": [
    {
     "data": {
      "text/html": [
       "<div>\n",
       "<style scoped>\n",
       "    .dataframe tbody tr th:only-of-type {\n",
       "        vertical-align: middle;\n",
       "    }\n",
       "\n",
       "    .dataframe tbody tr th {\n",
       "        vertical-align: top;\n",
       "    }\n",
       "\n",
       "    .dataframe thead th {\n",
       "        text-align: right;\n",
       "    }\n",
       "</style>\n",
       "<table border=\"1\" class=\"dataframe\">\n",
       "  <thead>\n",
       "    <tr style=\"text-align: right;\">\n",
       "      <th></th>\n",
       "      <th>Discount_bin</th>\n",
       "      <th>Discount</th>\n",
       "      <th>price_per_order</th>\n",
       "    </tr>\n",
       "  </thead>\n",
       "  <tbody>\n",
       "    <tr>\n",
       "      <th>count</th>\n",
       "      <td>667.000000</td>\n",
       "      <td>667.000000</td>\n",
       "      <td>667.000000</td>\n",
       "    </tr>\n",
       "    <tr>\n",
       "      <th>mean</th>\n",
       "      <td>0.325337</td>\n",
       "      <td>0.046027</td>\n",
       "      <td>1421.943615</td>\n",
       "    </tr>\n",
       "    <tr>\n",
       "      <th>std</th>\n",
       "      <td>0.468852</td>\n",
       "      <td>0.078193</td>\n",
       "      <td>1816.735811</td>\n",
       "    </tr>\n",
       "    <tr>\n",
       "      <th>min</th>\n",
       "      <td>0.000000</td>\n",
       "      <td>0.000000</td>\n",
       "      <td>12.500000</td>\n",
       "    </tr>\n",
       "    <tr>\n",
       "      <th>25%</th>\n",
       "      <td>0.000000</td>\n",
       "      <td>0.000000</td>\n",
       "      <td>401.600000</td>\n",
       "    </tr>\n",
       "    <tr>\n",
       "      <th>50%</th>\n",
       "      <td>0.000000</td>\n",
       "      <td>0.000000</td>\n",
       "      <td>848.000000</td>\n",
       "    </tr>\n",
       "    <tr>\n",
       "      <th>75%</th>\n",
       "      <td>1.000000</td>\n",
       "      <td>0.050000</td>\n",
       "      <td>1766.800000</td>\n",
       "    </tr>\n",
       "    <tr>\n",
       "      <th>max</th>\n",
       "      <td>1.000000</td>\n",
       "      <td>0.250000</td>\n",
       "      <td>16387.500000</td>\n",
       "    </tr>\n",
       "  </tbody>\n",
       "</table>\n",
       "</div>"
      ],
      "text/plain": [
       "       Discount_bin    Discount  price_per_order\n",
       "count    667.000000  667.000000       667.000000\n",
       "mean       0.325337    0.046027      1421.943615\n",
       "std        0.468852    0.078193      1816.735811\n",
       "min        0.000000    0.000000        12.500000\n",
       "25%        0.000000    0.000000       401.600000\n",
       "50%        0.000000    0.000000       848.000000\n",
       "75%        1.000000    0.050000      1766.800000\n",
       "max        1.000000    0.250000     16387.500000"
      ]
     },
     "execution_count": 274,
     "metadata": {},
     "output_type": "execute_result"
    }
   ],
   "source": [
    "# Inspecting the summary statistics\n",
    "df2.describe()"
   ]
  },
  {
   "cell_type": "markdown",
   "metadata": {},
   "source": [
    "The graphs below show that the average price per order is higher for orders with a discount than those without. However, the bottom graphs show that the average price per order is highest for orders with a 5% discount, but then drops off substantially for orders with a 10% discount, before rising again gradually up to 25%."
   ]
  },
  {
   "cell_type": "code",
   "execution_count": 275,
   "metadata": {},
   "outputs": [
    {
     "data": {
      "image/png": "[encoded data removed]",
      "text/plain": [
       "<Figure size 576x432 with 2 Axes>"
      ]
     },
     "metadata": {
      "needs_background": "light"
     },
     "output_type": "display_data"
    }
   ],
   "source": [
    "# Plotting the number of orders and average price per order for orders with and without discounts\n",
    "fig, (ax1, ax2) = plt.subplots(2, 1, figsize=(8,6))\n",
    "df2.groupby(['Discount_bin'])['price_per_order'].count().plot(kind='barh', ax=ax1, color=['indianred', 'seagreen'])\n",
    "df2.groupby(['Discount_bin'])['price_per_order'].mean().plot(kind='barh', ax=ax2, color=['indianred', 'seagreen'])\n",
    "ax1.set_title('Total number of orders')\n",
    "ax1.set_ylabel('')\n",
    "ax2.set_ylabel('')\n",
    "ax2.set_title('Average price per order')\n",
    "ax1.set_yticklabels(['No discount', 'Discount'])\n",
    "ax2.set_yticklabels(['No discount', 'Discount'])\n",
    "fig.subplots_adjust(hspace=0.6);"
   ]
  },
  {
   "cell_type": "code",
   "execution_count": 276,
   "metadata": {
    "scrolled": false
   },
   "outputs": [
    {
     "name": "stderr",
     "output_type": "stream",
     "text": [
      "C:\\Users\\Laura\\Anaconda3\\envs\\learn-env\\lib\\site-packages\\pandas\\plotting\\_core.py:194: UserWarning: 'colors' is being deprecated. Please use 'color'instead of 'colors'\n",
      "  warnings.warn((\"'colors' is being deprecated. Please use 'color'\"\n",
      "C:\\Users\\Laura\\Anaconda3\\envs\\learn-env\\lib\\site-packages\\pandas\\plotting\\_core.py:194: UserWarning: 'colors' is being deprecated. Please use 'color'instead of 'colors'\n",
      "  warnings.warn((\"'colors' is being deprecated. Please use 'color'\"\n"
     ]
    },
    {
     "data": {
      "image/png": "[encoded data removed]",
      "text/plain": [
       "<Figure size 576x432 with 2 Axes>"
      ]
     },
     "metadata": {
      "needs_background": "light"
     },
     "output_type": "display_data"
    }
   ],
   "source": [
    "# Plotting the number of orders and average price per order for orders with different levels of discount\n",
    "fig, (ax1, ax2) = plt.subplots(2, 1, figsize=(8,6))\n",
    "df2.groupby(['Discount'])['price_per_order'].count().plot(kind='barh', ax=ax1, colors=['indianred', '#A0CAB2', '#67AA84', '#2A7F50', '#1A4C30', '#0D2618'])\n",
    "df2.groupby(['Discount'])['price_per_order'].mean().plot(kind='barh', ax=ax2, colors=['indianred', '#A0CAB2', '#67AA84', '#2A7F50', '#1A4C30', '#0D2618'])\n",
    "ax1.set_title('Total number of orders')\n",
    "ax1.set_ylabel('Discount')\n",
    "ax2.set_ylabel('Discount')\n",
    "ax2.set_title('Average price per order')\n",
    "ax1.set_yticklabels(['None', '5%', '10%', '15%', '20%', '25%'])\n",
    "ax2.set_yticklabels(['None', '5%', '10%', '15%', '20%', '25%'])\n",
    "fig.subplots_adjust(hspace=0.4);"
   ]
  },
  {
   "cell_type": "code",
   "execution_count": 277,
   "metadata": {},
   "outputs": [
    {
     "data": {
      "text/plain": [
       "Discount\n",
       "0.00    1375.33\n",
       "0.05    1857.73\n",
       "0.10    1170.18\n",
       "0.15    1300.85\n",
       "0.20    1474.81\n",
       "0.25    1634.30\n",
       "Name: price_per_order, dtype: float64"
      ]
     },
     "execution_count": 277,
     "metadata": {},
     "output_type": "execute_result"
    }
   ],
   "source": [
    "# Average order prices for each discount level\n",
    "round(df2.groupby(['Discount'])['price_per_order'].mean(),2)"
   ]
  },
  {
   "cell_type": "markdown",
   "metadata": {},
   "source": [
    "In order to test whether there is a statistically significant difference between orders with and without a discount, a two-sample t-test will be used. This test assumes that the data is normally distributed, and that the samples have equal variances. This can be assessed with distribution plots:"
   ]
  },
  {
   "cell_type": "code",
   "execution_count": 278,
   "metadata": {},
   "outputs": [
    {
     "name": "stderr",
     "output_type": "stream",
     "text": [
      "C:\\Users\\Laura\\Anaconda3\\envs\\learn-env\\lib\\site-packages\\scipy\\stats\\stats.py:1713: FutureWarning: Using a non-tuple sequence for multidimensional indexing is deprecated; use `arr[tuple(seq)]` instead of `arr[seq]`. In the future this will be interpreted as an array index, `arr[np.array(seq)]`, which will result either in an error or a different result.\n",
      "  return np.add.reduce(sorted[indexer] * weights, axis=axis) / sumval\n"
     ]
    },
    {
     "data": {
      "image/png": "[encoded data removed]",
      "text/plain": [
       "<Figure size 864x288 with 2 Axes>"
      ]
     },
     "metadata": {
      "needs_background": "light"
     },
     "output_type": "display_data"
    }
   ],
   "source": [
    "# Separating the dataset into orders with and without discounts, and assessing their distributions\n",
    "discount = df2[df2['Discount_bin'] == 1]\n",
    "no_discount = df2[df2['Discount_bin'] == 0]\n",
    "\n",
    "fig, (ax1, ax2) = plt.subplots(1, 2, figsize=(12,4))\n",
    "sns.distplot(discount.price_per_order, color='seagreen', ax=ax1)\n",
    "sns.distplot(no_discount.price_per_order, color='indianred', ax=ax2)\n",
    "plt.title('Distribution plots of the average price per order')\n",
    "ax1.set_title('Orders with discount')\n",
    "ax2.set_title('Orders without discount')\n",
    "ax1.set_xlabel('Price per order ($)')\n",
    "ax2.set_xlabel('Price per order ($)');"
   ]
  },
  {
   "cell_type": "markdown",
   "metadata": {},
   "source": [
    "The distribution plots above show that the data is heavily positively skewed, with long tails. Log-transforming the data is likely to make it better fit the t-test assumptions."
   ]
  },
  {
   "cell_type": "code",
   "execution_count": 280,
   "metadata": {},
   "outputs": [],
   "source": [
    "# Copying the dataset and log-transforming price_per_order\n",
    "df2_log = df2.copy()\n",
    "df2_log['price_per_order'] = np.log(df2['price_per_order'])"
   ]
  },
  {
   "cell_type": "code",
   "execution_count": 289,
   "metadata": {},
   "outputs": [
    {
     "name": "stderr",
     "output_type": "stream",
     "text": [
      "C:\\Users\\Laura\\Anaconda3\\envs\\learn-env\\lib\\site-packages\\scipy\\stats\\stats.py:1713: FutureWarning: Using a non-tuple sequence for multidimensional indexing is deprecated; use `arr[tuple(seq)]` instead of `arr[seq]`. In the future this will be interpreted as an array index, `arr[np.array(seq)]`, which will result either in an error or a different result.\n",
      "  return np.add.reduce(sorted[indexer] * weights, axis=axis) / sumval\n"
     ]
    },
    {
     "data": {
      "image/png": "[encoded data removed]",
      "text/plain": [
       "<Figure size 864x288 with 2 Axes>"
      ]
     },
     "metadata": {
      "needs_background": "light"
     },
     "output_type": "display_data"
    }
   ],
   "source": [
    "# Re-plotting the distributions for the log-transformed data\n",
    "discount_log = df2_log[df2_log['Discount_bin'] == 1]\n",
    "no_discount_log = df2_log[df2_log['Discount_bin'] == 0]\n",
    "\n",
    "fig, (ax1, ax2) = plt.subplots(1, 2, figsize=(12,4))\n",
    "sns.distplot(discount_log.price_per_order, color='seagreen', ax=ax1)\n",
    "sns.distplot(no_discount_log.price_per_order, color='indianred', ax=ax2)\n",
    "plt.title('Distribution plots of the average price per order')\n",
    "ax1.set_title('Orders with discount')\n",
    "ax2.set_title('Orders without discount')\n",
    "ax1.set_xlabel('Price per order (log-transformed)')\n",
    "ax2.set_xlabel('Price per order (log-transformed)');"
   ]
  },
  {
   "cell_type": "markdown",
   "metadata": {},
   "source": [
    "The data is now more normally distributed."
   ]
  },
  {
   "cell_type": "code",
   "execution_count": 287,
   "metadata": {},
   "outputs": [
    {
     "data": {
      "text/plain": [
       "Ttest_indResult(statistic=2.025022744444036, pvalue=0.04326406148298754)"
      ]
     },
     "execution_count": 287,
     "metadata": {},
     "output_type": "execute_result"
    }
   ],
   "source": [
    "# Running a two-sided t-test to compare two independent samples\n",
    "stats.ttest_ind(discount_log.price_per_order, no_discount_log.price_per_order)"
   ]
  },
  {
   "cell_type": "code",
   "execution_count": 288,
   "metadata": {},
   "outputs": [
    {
     "name": "stdout",
     "output_type": "stream",
     "text": [
      "Average price per order for orders with no discounts:  1375.33\n",
      "Average price per order for orders with discounts:  1518.6\n",
      "Effect size:  143.27\n",
      "Relative effect size (increase from no discount to discount):  10.4\n"
     ]
    }
   ],
   "source": [
    "print(\"Average price per order for orders with no discounts: \", round(no_discount['price_per_order'].mean(),2))\n",
    "print(\"Average price per order for orders with discounts: \", round(discount['price_per_order'].mean(),2))\n",
    "print(\"Effect size: \", round(discount['price_per_order'].mean() - no_discount['price_per_order'].mean(),2))\n",
    "print(\"Relative effect size (increase from no discount to discount): \", round(((discount['price_per_order'].mean() - no_discount['price_per_order'].mean())/no_discount['price_per_order'].mean())*100,1))"
   ]
  },
  {
   "cell_type": "markdown",
   "metadata": {},
   "source": [
    "The p-value is 0.043, which is less than the alpha value of 0.05. Therefore we can reject the null hypothesis and accept the alternative hypothesis. We can conclude that there is a statistically significant difference between the average price per order for orders with and without discounts.\n",
    "\n",
    " - **The average cost per order with no discount is \\\\$1,375.33, and the average cost per order with a discount is \\\\$1,518.60.**\n",
    " - **On average, customers spend $143.27 more on orders with discounts than without discounts, which is a 10% increase.**\n",
    "\n",
    "**However, these correlations do not necessarily imply causation, and so it is not possible to categorically state that offering a discount will necessarily increase the amount that customers spend on an order by 10%.**"
   ]
  },
  {
   "cell_type": "markdown",
   "metadata": {},
   "source": [
    "The second part of the question asks at what level of discount the statistically significant effect occurs. To answer this part of this question, a new null and alternate hypothesis need to be created:\n",
    "\n",
    "**H<sub>0</sub>**: the average price per order is the same at different levels of discount\n",
    "\n",
    "**H<sub>a</sub>**: the average price per order is different between the different levels of discount\n",
    "\n",
    "The alpha level (i.e. the probability of rejecting the null hypothesis when it is true) will be set at 0.05.\n",
    "\n",
    "To answer this question, ANOVA will be used in order to assess the degree of variation between multiple samples, where each sample is a different level of discount."
   ]
  },
  {
   "cell_type": "code",
   "execution_count": 294,
   "metadata": {},
   "outputs": [
    {
     "data": {
      "text/html": [
       "<div>\n",
       "<style scoped>\n",
       "    .dataframe tbody tr th:only-of-type {\n",
       "        vertical-align: middle;\n",
       "    }\n",
       "\n",
       "    .dataframe tbody tr th {\n",
       "        vertical-align: top;\n",
       "    }\n",
       "\n",
       "    .dataframe thead th {\n",
       "        text-align: right;\n",
       "    }\n",
       "</style>\n",
       "<table border=\"1\" class=\"dataframe\">\n",
       "  <thead>\n",
       "    <tr style=\"text-align: right;\">\n",
       "      <th></th>\n",
       "      <th>sum_sq</th>\n",
       "      <th>df</th>\n",
       "      <th>F</th>\n",
       "      <th>PR(&gt;F)</th>\n",
       "    </tr>\n",
       "  </thead>\n",
       "  <tbody>\n",
       "    <tr>\n",
       "      <th>C(Discount)</th>\n",
       "      <td>5.109529</td>\n",
       "      <td>4.0</td>\n",
       "      <td>1.055928</td>\n",
       "      <td>0.379379</td>\n",
       "    </tr>\n",
       "    <tr>\n",
       "      <th>Residual</th>\n",
       "      <td>256.461656</td>\n",
       "      <td>212.0</td>\n",
       "      <td>NaN</td>\n",
       "      <td>NaN</td>\n",
       "    </tr>\n",
       "  </tbody>\n",
       "</table>\n",
       "</div>"
      ],
      "text/plain": [
       "                 sum_sq     df         F    PR(>F)\n",
       "C(Discount)    5.109529    4.0  1.055928  0.379379\n",
       "Residual     256.461656  212.0       NaN       NaN"
      ]
     },
     "execution_count": 294,
     "metadata": {},
     "output_type": "execute_result"
    }
   ],
   "source": [
    "# Fitting a model of price_per_order on Discount categories, and using statsmodels to compute an ANOVA table\n",
    "lm = ols('price_per_order ~ C(Discount)', discount_log).fit()\n",
    "sm.stats.anova_lm(lm, typ=2)"
   ]
  },
  {
   "cell_type": "code",
   "execution_count": 295,
   "metadata": {
    "scrolled": true
   },
   "outputs": [
    {
     "data": {
      "text/html": [
       "<table class=\"simpletable\">\n",
       "<caption>OLS Regression Results</caption>\n",
       "<tr>\n",
       "  <th>Dep. Variable:</th>     <td>price_per_order</td> <th>  R-squared:         </th> <td>   0.020</td>\n",
       "</tr>\n",
       "<tr>\n",
       "  <th>Model:</th>                   <td>OLS</td>       <th>  Adj. R-squared:    </th> <td>   0.001</td>\n",
       "</tr>\n",
       "<tr>\n",
       "  <th>Method:</th>             <td>Least Squares</td>  <th>  F-statistic:       </th> <td>   1.056</td>\n",
       "</tr>\n",
       "<tr>\n",
       "  <th>Date:</th>             <td>Fri, 08 Mar 2019</td> <th>  Prob (F-statistic):</th>  <td> 0.379</td> \n",
       "</tr>\n",
       "<tr>\n",
       "  <th>Time:</th>                 <td>22:28:04</td>     <th>  Log-Likelihood:    </th> <td> -326.04</td>\n",
       "</tr>\n",
       "<tr>\n",
       "  <th>No. Observations:</th>      <td>   217</td>      <th>  AIC:               </th> <td>   662.1</td>\n",
       "</tr>\n",
       "<tr>\n",
       "  <th>Df Residuals:</th>          <td>   212</td>      <th>  BIC:               </th> <td>   679.0</td>\n",
       "</tr>\n",
       "<tr>\n",
       "  <th>Df Model:</th>              <td>     4</td>      <th>                     </th>     <td> </td>   \n",
       "</tr>\n",
       "<tr>\n",
       "  <th>Covariance Type:</th>      <td>nonrobust</td>    <th>                     </th>     <td> </td>   \n",
       "</tr>\n",
       "</table>\n",
       "<table class=\"simpletable\">\n",
       "<tr>\n",
       "           <td></td>              <th>coef</th>     <th>std err</th>      <th>t</th>      <th>P>|t|</th>  <th>[0.025</th>    <th>0.975]</th>  \n",
       "</tr>\n",
       "<tr>\n",
       "  <th>Intercept</th>           <td>    7.0426</td> <td>    0.144</td> <td>   48.764</td> <td> 0.000</td> <td>    6.758</td> <td>    7.327</td>\n",
       "</tr>\n",
       "<tr>\n",
       "  <th>C(Discount)[T.0.1]</th>  <td>   -0.3656</td> <td>    0.226</td> <td>   -1.617</td> <td> 0.107</td> <td>   -0.811</td> <td>    0.080</td>\n",
       "</tr>\n",
       "<tr>\n",
       "  <th>C(Discount)[T.0.15]</th> <td>   -0.3598</td> <td>    0.233</td> <td>   -1.542</td> <td> 0.125</td> <td>   -0.820</td> <td>    0.100</td>\n",
       "</tr>\n",
       "<tr>\n",
       "  <th>C(Discount)[T.0.2]</th>  <td>   -0.3528</td> <td>    0.216</td> <td>   -1.635</td> <td> 0.104</td> <td>   -0.778</td> <td>    0.073</td>\n",
       "</tr>\n",
       "<tr>\n",
       "  <th>C(Discount)[T.0.25]</th> <td>   -0.2731</td> <td>    0.233</td> <td>   -1.170</td> <td> 0.243</td> <td>   -0.733</td> <td>    0.187</td>\n",
       "</tr>\n",
       "</table>\n",
       "<table class=\"simpletable\">\n",
       "<tr>\n",
       "  <th>Omnibus:</th>       <td> 8.926</td> <th>  Durbin-Watson:     </th> <td>   2.021</td>\n",
       "</tr>\n",
       "<tr>\n",
       "  <th>Prob(Omnibus):</th> <td> 0.012</td> <th>  Jarque-Bera (JB):  </th> <td>   8.931</td>\n",
       "</tr>\n",
       "<tr>\n",
       "  <th>Skew:</th>          <td>-0.437</td> <th>  Prob(JB):          </th> <td>  0.0115</td>\n",
       "</tr>\n",
       "<tr>\n",
       "  <th>Kurtosis:</th>      <td> 3.474</td> <th>  Cond. No.          </th> <td>    5.17</td>\n",
       "</tr>\n",
       "</table><br/><br/>Warnings:<br/>[1] Standard Errors assume that the covariance matrix of the errors is correctly specified."
      ],
      "text/plain": [
       "<class 'statsmodels.iolib.summary.Summary'>\n",
       "\"\"\"\n",
       "                            OLS Regression Results                            \n",
       "==============================================================================\n",
       "Dep. Variable:        price_per_order   R-squared:                       0.020\n",
       "Model:                            OLS   Adj. R-squared:                  0.001\n",
       "Method:                 Least Squares   F-statistic:                     1.056\n",
       "Date:                Fri, 08 Mar 2019   Prob (F-statistic):              0.379\n",
       "Time:                        22:28:04   Log-Likelihood:                -326.04\n",
       "No. Observations:                 217   AIC:                             662.1\n",
       "Df Residuals:                     212   BIC:                             679.0\n",
       "Df Model:                           4                                         \n",
       "Covariance Type:            nonrobust                                         \n",
       "=======================================================================================\n",
       "                          coef    std err          t      P>|t|      [0.025      0.975]\n",
       "---------------------------------------------------------------------------------------\n",
       "Intercept               7.0426      0.144     48.764      0.000       6.758       7.327\n",
       "C(Discount)[T.0.1]     -0.3656      0.226     -1.617      0.107      -0.811       0.080\n",
       "C(Discount)[T.0.15]    -0.3598      0.233     -1.542      0.125      -0.820       0.100\n",
       "C(Discount)[T.0.2]     -0.3528      0.216     -1.635      0.104      -0.778       0.073\n",
       "C(Discount)[T.0.25]    -0.2731      0.233     -1.170      0.243      -0.733       0.187\n",
       "==============================================================================\n",
       "Omnibus:                        8.926   Durbin-Watson:                   2.021\n",
       "Prob(Omnibus):                  0.012   Jarque-Bera (JB):                8.931\n",
       "Skew:                          -0.437   Prob(JB):                       0.0115\n",
       "Kurtosis:                       3.474   Cond. No.                         5.17\n",
       "==============================================================================\n",
       "\n",
       "Warnings:\n",
       "[1] Standard Errors assume that the covariance matrix of the errors is correctly specified.\n",
       "\"\"\""
      ]
     },
     "execution_count": 295,
     "metadata": {},
     "output_type": "execute_result"
    }
   ],
   "source": [
    "# Summary of the model and its coefficients\n",
    "lm.summary()"
   ]
  },
  {
   "cell_type": "code",
   "execution_count": 299,
   "metadata": {
    "scrolled": true
   },
   "outputs": [
    {
     "name": "stdout",
     "output_type": "stream",
     "text": [
      "Average price per order for no discount:  1375.33\n",
      "Average price per order for 5% discount:  1857.73\n",
      "Absolute difference from no discount to 5% discount:  482.4\n",
      "Proportional difference from no discount to 5% discount:  0.35\n",
      "Proportional difference from no discount to 10% discount:  -0.15\n",
      "Proportional difference from no discount to 15% discount:  -0.05\n",
      "Proportional difference from no discount to 20% discount:  0.07\n",
      "Proportional difference from no discount to 25% discount:  0.19\n"
     ]
    }
   ],
   "source": [
    "# Difference between the average price of orders with no discount and with different levels of discount\n",
    "print(\"Average price per order for no discount: \", round((df2.loc[df2.Discount == 0]).price_per_order.mean(),2))\n",
    "print(\"Average price per order for 5% discount: \", round((df2.loc[df2.Discount == 0.05]).price_per_order.mean(),2))\n",
    "print(\"Absolute difference from no discount to 5% discount: \", float(round((df2.loc[df2.Discount == 0.05]).price_per_order.mean() - (df2.loc[df2.Discount == 0]).price_per_order.mean(),2)))\n",
    "print(\"Proportional difference from no discount to 5% discount: \", float(round(((df2.loc[df2.Discount == 0.05]).price_per_order.mean() - (df2.loc[df2.Discount == 0]).price_per_order.mean()) / ((df2.loc[df2.Discount == 0]).price_per_order.mean()),2)))\n",
    "print(\"Proportional difference from no discount to 10% discount: \", float(round(((df2.loc[df2.Discount == 0.10]).price_per_order.mean() - (df2.loc[df2.Discount == 0]).price_per_order.mean()) / ((df2.loc[df2.Discount == 0]).price_per_order.mean()),2)))\n",
    "print(\"Proportional difference from no discount to 15% discount: \", float(round(((df2.loc[df2.Discount == 0.15]).price_per_order.mean() - (df2.loc[df2.Discount == 0]).price_per_order.mean()) / ((df2.loc[df2.Discount == 0]).price_per_order.mean()),2)))\n",
    "print(\"Proportional difference from no discount to 20% discount: \", float(round(((df2.loc[df2.Discount == 0.20]).price_per_order.mean() - (df2.loc[df2.Discount == 0]).price_per_order.mean()) / ((df2.loc[df2.Discount == 0]).price_per_order.mean()),2)))\n",
    "print(\"Proportional difference from no discount to 25% discount: \", float(round(((df2.loc[df2.Discount == 0.25]).price_per_order.mean() - (df2.loc[df2.Discount == 0]).price_per_order.mean()) / ((df2.loc[df2.Discount == 0]).price_per_order.mean()),2)))"
   ]
  },
  {
   "cell_type": "markdown",
   "metadata": {},
   "source": [
    "The ANOVA table above reveals that the p-value is 0.379, which is above the alpha value of 0.05. Therefore we cannot reject the null hypothesis that **there are no significant differences in average order value between different discount levels**. \n",
    "\n",
    "The model summary also shows that there is no statistically significant difference between a discount level of 5% (applied to the whole order) and discount levels of 10%, 15%, 20% and 25%. Additionally, the overall r/eta squared value for the model is very low, implying that discount level only explains a very small amount of the variation in price per order."
   ]
  },
  {
   "cell_type": "markdown",
   "metadata": {},
   "source": [
    "### Conclusions"
   ]
  },
  {
   "cell_type": "markdown",
   "metadata": {},
   "source": [
    "**Business insights:**\n",
    " - There are statistically significant differences in the average price per order for orders with and without discounts.\n",
    " - On average, customers spend $143.27 more on orders with discounts than without discounts, which is a 10% increase.\n",
    " - However, the differences in average price per order between different discount levels are not statistically significant.\n",
    " - Nevertheless, the discount level with the biggest effect size is 5%. The difference between the average price of orders with no discount (\\\\$1,375.33) and orders with a 5% discount (average price \\\\$1,857.73) is 35%. This is The only discount level that makes back more than it costs, i.e. results in an average price per order that is higher than the amount of the discount (when compared to the control group of no discount).\n",
    " - There are diminishing returns from offering higher levels of discount, although these differences are not statistically significant.\n",
    " - This analysis accords with the results of the answers to the previous question, that 5% is the optimum discount rate.\n",
    " \n",
    "**Potential business actions and directions for future work:**\n",
    "\n",
    " - To increase revenue, one option worth considering would be to offer more 5% discounts, and fewer discounts of higher value.\n",
    " - However, further analysis would be needed to confirm that this is the best option, e.g. analysis of the different types of products that make up the different orders, what the existing levels of discount are that are offered on different products, and investigating what other factors influence the average price of an order."
   ]
  },
  {
   "cell_type": "markdown",
   "metadata": {},
   "source": [
    "***"
   ]
  },
  {
   "cell_type": "markdown",
   "metadata": {},
   "source": [
    "## Question 3: Does the average amount spent per order vary between customers from different regions?"
   ]
  },
  {
   "cell_type": "markdown",
   "metadata": {},
   "source": [
    "### Obtaining and scrubbing the data"
   ]
  },
  {
   "cell_type": "markdown",
   "metadata": {},
   "source": [
    "In this query, we want to extract for each order the customer region, the total quantity of each product ordered, the unit price and the discount level (for calculating the actual price paid). To do this we need to join the Customer and OrderDetail tables using the Order table."
   ]
  },
  {
   "cell_type": "code",
   "execution_count": 124,
   "metadata": {
    "scrolled": false
   },
   "outputs": [
    {
     "name": "stdout",
     "output_type": "stream",
     "text": [
      "2019-03-08 20:02:52,863 INFO sqlalchemy.engine.base.Engine SELECT c.Region, od.OrderId, od.Quantity, od.UnitPrice, od.Discount\n",
      "    FROM Customer c\n",
      "    JOIN [Order] o ON c.Id = o.CustomerId\n",
      "    JOIN OrderDetail od ON od.OrderId = o.Id\n",
      "    \n",
      "2019-03-08 20:02:52,864 INFO sqlalchemy.engine.base.Engine ()\n"
     ]
    },
    {
     "data": {
      "text/html": [
       "<div>\n",
       "<style scoped>\n",
       "    .dataframe tbody tr th:only-of-type {\n",
       "        vertical-align: middle;\n",
       "    }\n",
       "\n",
       "    .dataframe tbody tr th {\n",
       "        vertical-align: top;\n",
       "    }\n",
       "\n",
       "    .dataframe thead th {\n",
       "        text-align: right;\n",
       "    }\n",
       "</style>\n",
       "<table border=\"1\" class=\"dataframe\">\n",
       "  <thead>\n",
       "    <tr style=\"text-align: right;\">\n",
       "      <th></th>\n",
       "      <th>Region</th>\n",
       "      <th>OrderId</th>\n",
       "      <th>Quantity</th>\n",
       "      <th>UnitPrice</th>\n",
       "      <th>Discount</th>\n",
       "    </tr>\n",
       "  </thead>\n",
       "  <tbody>\n",
       "    <tr>\n",
       "      <th>0</th>\n",
       "      <td>Western Europe</td>\n",
       "      <td>10248</td>\n",
       "      <td>12</td>\n",
       "      <td>14.0</td>\n",
       "      <td>0.0</td>\n",
       "    </tr>\n",
       "    <tr>\n",
       "      <th>1</th>\n",
       "      <td>Western Europe</td>\n",
       "      <td>10248</td>\n",
       "      <td>10</td>\n",
       "      <td>9.8</td>\n",
       "      <td>0.0</td>\n",
       "    </tr>\n",
       "    <tr>\n",
       "      <th>2</th>\n",
       "      <td>Western Europe</td>\n",
       "      <td>10248</td>\n",
       "      <td>5</td>\n",
       "      <td>34.8</td>\n",
       "      <td>0.0</td>\n",
       "    </tr>\n",
       "    <tr>\n",
       "      <th>3</th>\n",
       "      <td>Western Europe</td>\n",
       "      <td>10249</td>\n",
       "      <td>9</td>\n",
       "      <td>18.6</td>\n",
       "      <td>0.0</td>\n",
       "    </tr>\n",
       "    <tr>\n",
       "      <th>4</th>\n",
       "      <td>Western Europe</td>\n",
       "      <td>10249</td>\n",
       "      <td>40</td>\n",
       "      <td>42.4</td>\n",
       "      <td>0.0</td>\n",
       "    </tr>\n",
       "  </tbody>\n",
       "</table>\n",
       "</div>"
      ],
      "text/plain": [
       "           Region  OrderId  Quantity  UnitPrice  Discount\n",
       "0  Western Europe    10248        12       14.0       0.0\n",
       "1  Western Europe    10248        10        9.8       0.0\n",
       "2  Western Europe    10248         5       34.8       0.0\n",
       "3  Western Europe    10249         9       18.6       0.0\n",
       "4  Western Europe    10249        40       42.4       0.0"
      ]
     },
     "execution_count": 124,
     "metadata": {},
     "output_type": "execute_result"
    }
   ],
   "source": [
    "# Extracting the dataset for question 3 as a pandas dataframe\n",
    "df3 = pd.read_sql_query(\"\"\"SELECT c.Region, od.OrderId, od.Quantity, od.UnitPrice, od.Discount\n",
    "    FROM Customer c\n",
    "    JOIN [Order] o ON c.Id = o.CustomerId\n",
    "    JOIN OrderDetail od ON od.OrderId = o.Id\n",
    "    \"\"\", engine)\n",
    "df3.head()"
   ]
  },
  {
   "cell_type": "code",
   "execution_count": 125,
   "metadata": {
    "scrolled": true
   },
   "outputs": [
    {
     "data": {
      "text/plain": [
       "2078"
      ]
     },
     "execution_count": 125,
     "metadata": {},
     "output_type": "execute_result"
    }
   ],
   "source": [
    "len(df3)"
   ]
  },
  {
   "cell_type": "code",
   "execution_count": 126,
   "metadata": {
    "scrolled": false
   },
   "outputs": [
    {
     "name": "stdout",
     "output_type": "stream",
     "text": [
      "<class 'pandas.core.frame.DataFrame'>\n",
      "RangeIndex: 2078 entries, 0 to 2077\n",
      "Data columns (total 5 columns):\n",
      "Region       2078 non-null object\n",
      "OrderId      2078 non-null int64\n",
      "Quantity     2078 non-null int64\n",
      "UnitPrice    2078 non-null float64\n",
      "Discount     2078 non-null float64\n",
      "dtypes: float64(2), int64(2), object(1)\n",
      "memory usage: 81.2+ KB\n"
     ]
    }
   ],
   "source": [
    "df3.info()"
   ]
  },
  {
   "cell_type": "markdown",
   "metadata": {},
   "source": [
    "There are no null values, so no need to replace any values."
   ]
  },
  {
   "cell_type": "markdown",
   "metadata": {},
   "source": [
    "An additional column will be added to calculate the actual price per order, by applying the discount to the product of the unit price and the unit quantity:"
   ]
  },
  {
   "cell_type": "code",
   "execution_count": 127,
   "metadata": {},
   "outputs": [],
   "source": [
    "# Calculating the price per sub-order\n",
    "df3['price_per_order'] = df3.Quantity * df3.UnitPrice * (1 - df3.Discount)"
   ]
  },
  {
   "cell_type": "code",
   "execution_count": 128,
   "metadata": {
    "scrolled": true
   },
   "outputs": [],
   "source": [
    "# Dropping the columns for quantity, unit price and discount now that we have the total price\n",
    "df3.drop(['Quantity', 'UnitPrice', 'Discount'], axis=1, inplace=True)"
   ]
  },
  {
   "cell_type": "code",
   "execution_count": 129,
   "metadata": {
    "scrolled": true
   },
   "outputs": [],
   "source": [
    "# Grouping the data by order and summing the price for each order\n",
    "df3 = df3.groupby(['Region', 'OrderId'])['price_per_order'].sum().reset_index()\n",
    "# Dropping the OrderId as we no longer need this\n",
    "df3.drop('OrderId', axis=1, inplace=True)"
   ]
  },
  {
   "cell_type": "code",
   "execution_count": 130,
   "metadata": {},
   "outputs": [
    {
     "data": {
      "text/html": [
       "<div>\n",
       "<style scoped>\n",
       "    .dataframe tbody tr th:only-of-type {\n",
       "        vertical-align: middle;\n",
       "    }\n",
       "\n",
       "    .dataframe tbody tr th {\n",
       "        vertical-align: top;\n",
       "    }\n",
       "\n",
       "    .dataframe thead th {\n",
       "        text-align: right;\n",
       "    }\n",
       "</style>\n",
       "<table border=\"1\" class=\"dataframe\">\n",
       "  <thead>\n",
       "    <tr style=\"text-align: right;\">\n",
       "      <th></th>\n",
       "      <th>Region</th>\n",
       "      <th>price_per_order</th>\n",
       "    </tr>\n",
       "  </thead>\n",
       "  <tbody>\n",
       "    <tr>\n",
       "      <th>0</th>\n",
       "      <td>British Isles</td>\n",
       "      <td>479.4</td>\n",
       "    </tr>\n",
       "    <tr>\n",
       "      <th>1</th>\n",
       "      <td>British Isles</td>\n",
       "      <td>2645.0</td>\n",
       "    </tr>\n",
       "    <tr>\n",
       "      <th>2</th>\n",
       "      <td>British Isles</td>\n",
       "      <td>1762.0</td>\n",
       "    </tr>\n",
       "    <tr>\n",
       "      <th>3</th>\n",
       "      <td>British Isles</td>\n",
       "      <td>516.8</td>\n",
       "    </tr>\n",
       "    <tr>\n",
       "      <th>4</th>\n",
       "      <td>British Isles</td>\n",
       "      <td>240.4</td>\n",
       "    </tr>\n",
       "  </tbody>\n",
       "</table>\n",
       "</div>"
      ],
      "text/plain": [
       "          Region  price_per_order\n",
       "0  British Isles            479.4\n",
       "1  British Isles           2645.0\n",
       "2  British Isles           1762.0\n",
       "3  British Isles            516.8\n",
       "4  British Isles            240.4"
      ]
     },
     "execution_count": 130,
     "metadata": {},
     "output_type": "execute_result"
    }
   ],
   "source": [
    "df3.head()"
   ]
  },
  {
   "cell_type": "code",
   "execution_count": 131,
   "metadata": {},
   "outputs": [
    {
     "data": {
      "text/plain": [
       "801"
      ]
     },
     "execution_count": 131,
     "metadata": {},
     "output_type": "execute_result"
    }
   ],
   "source": [
    "len(df3)"
   ]
  },
  {
   "cell_type": "markdown",
   "metadata": {},
   "source": [
    "### Exploring the data and answering the question"
   ]
  },
  {
   "cell_type": "markdown",
   "metadata": {},
   "source": [
    "#### Does the average amount spent per order vary between customers from different regions?\n",
    "\n",
    "To answer this question, a null and alternate hypothesis first need to be created:\n",
    "\n",
    "**H<sub>0</sub>**: the average amount spent per order is the same between different customer regions\n",
    "\n",
    "**H<sub>a</sub>**: the average amount spent per order is different (either higher or lower) between different customer regions\n",
    "\n",
    "The alpha level (i.e. the probability of rejecting the null hypothesis when it is true) will be set at 0.05."
   ]
  },
  {
   "cell_type": "markdown",
   "metadata": {},
   "source": [
    "The table below shows the number of orders per region in the dataset:"
   ]
  },
  {
   "cell_type": "code",
   "execution_count": 132,
   "metadata": {},
   "outputs": [
    {
     "data": {
      "text/html": [
       "<div>\n",
       "<style scoped>\n",
       "    .dataframe tbody tr th:only-of-type {\n",
       "        vertical-align: middle;\n",
       "    }\n",
       "\n",
       "    .dataframe tbody tr th {\n",
       "        vertical-align: top;\n",
       "    }\n",
       "\n",
       "    .dataframe thead th {\n",
       "        text-align: right;\n",
       "    }\n",
       "</style>\n",
       "<table border=\"1\" class=\"dataframe\">\n",
       "  <thead>\n",
       "    <tr style=\"text-align: right;\">\n",
       "      <th></th>\n",
       "      <th>price_per_order</th>\n",
       "    </tr>\n",
       "    <tr>\n",
       "      <th>Region</th>\n",
       "      <th></th>\n",
       "    </tr>\n",
       "  </thead>\n",
       "  <tbody>\n",
       "    <tr>\n",
       "      <th>British Isles</th>\n",
       "      <td>75</td>\n",
       "    </tr>\n",
       "    <tr>\n",
       "      <th>Central America</th>\n",
       "      <td>21</td>\n",
       "    </tr>\n",
       "    <tr>\n",
       "      <th>Eastern Europe</th>\n",
       "      <td>7</td>\n",
       "    </tr>\n",
       "    <tr>\n",
       "      <th>North America</th>\n",
       "      <td>152</td>\n",
       "    </tr>\n",
       "    <tr>\n",
       "      <th>Northern Europe</th>\n",
       "      <td>55</td>\n",
       "    </tr>\n",
       "    <tr>\n",
       "      <th>Scandinavia</th>\n",
       "      <td>28</td>\n",
       "    </tr>\n",
       "    <tr>\n",
       "      <th>South America</th>\n",
       "      <td>127</td>\n",
       "    </tr>\n",
       "    <tr>\n",
       "      <th>Southern Europe</th>\n",
       "      <td>64</td>\n",
       "    </tr>\n",
       "    <tr>\n",
       "      <th>Western Europe</th>\n",
       "      <td>272</td>\n",
       "    </tr>\n",
       "  </tbody>\n",
       "</table>\n",
       "</div>"
      ],
      "text/plain": [
       "                 price_per_order\n",
       "Region                          \n",
       "British Isles                 75\n",
       "Central America               21\n",
       "Eastern Europe                 7\n",
       "North America                152\n",
       "Northern Europe               55\n",
       "Scandinavia                   28\n",
       "South America                127\n",
       "Southern Europe               64\n",
       "Western Europe               272"
      ]
     },
     "execution_count": 132,
     "metadata": {},
     "output_type": "execute_result"
    }
   ],
   "source": [
    "df3.groupby('Region').count()"
   ]
  },
  {
   "cell_type": "markdown",
   "metadata": {},
   "source": [
    "Some regions only have a small number of orders, so it is worth combining them with other groups so that the groups are not of extremely unequal sizes (and therefore potentially also variances, which is relevant for the statistical tests that will be conducted later). A minimum group size of 30 will be used, so that t-tests can be used robustly."
   ]
  },
  {
   "cell_type": "code",
   "execution_count": 133,
   "metadata": {},
   "outputs": [],
   "source": [
    "# Combining Eastern and Southern Europe\n",
    "df3.loc[(df3.Region == 'Eastern Europe') | (df3.Region == 'Southern Europe'),'Region'] = 'Southern and Eastern Europe'\n",
    "# Combining Scandinavia and Northern Europe\n",
    "df3.loc[(df3.Region == 'Scandinavia') | (df3.Region == 'Northern Europe'),'Region'] = 'Northern Europe and Scandinavia'\n",
    "# Combining Central and South America\n",
    "df3.loc[(df3.Region == 'Central America') | (df3.Region == 'South America'),'Region'] = 'South and Central America'"
   ]
  },
  {
   "cell_type": "code",
   "execution_count": 134,
   "metadata": {
    "scrolled": true
   },
   "outputs": [
    {
     "data": {
      "text/html": [
       "<div>\n",
       "<style scoped>\n",
       "    .dataframe tbody tr th:only-of-type {\n",
       "        vertical-align: middle;\n",
       "    }\n",
       "\n",
       "    .dataframe tbody tr th {\n",
       "        vertical-align: top;\n",
       "    }\n",
       "\n",
       "    .dataframe thead th {\n",
       "        text-align: right;\n",
       "    }\n",
       "</style>\n",
       "<table border=\"1\" class=\"dataframe\">\n",
       "  <thead>\n",
       "    <tr style=\"text-align: right;\">\n",
       "      <th></th>\n",
       "      <th>price_per_order</th>\n",
       "    </tr>\n",
       "    <tr>\n",
       "      <th>Region</th>\n",
       "      <th></th>\n",
       "    </tr>\n",
       "  </thead>\n",
       "  <tbody>\n",
       "    <tr>\n",
       "      <th>British Isles</th>\n",
       "      <td>75</td>\n",
       "    </tr>\n",
       "    <tr>\n",
       "      <th>North America</th>\n",
       "      <td>152</td>\n",
       "    </tr>\n",
       "    <tr>\n",
       "      <th>Northern Europe and Scandinavia</th>\n",
       "      <td>83</td>\n",
       "    </tr>\n",
       "    <tr>\n",
       "      <th>South and Central America</th>\n",
       "      <td>148</td>\n",
       "    </tr>\n",
       "    <tr>\n",
       "      <th>Southern and Eastern Europe</th>\n",
       "      <td>71</td>\n",
       "    </tr>\n",
       "    <tr>\n",
       "      <th>Western Europe</th>\n",
       "      <td>272</td>\n",
       "    </tr>\n",
       "  </tbody>\n",
       "</table>\n",
       "</div>"
      ],
      "text/plain": [
       "                                 price_per_order\n",
       "Region                                          \n",
       "British Isles                                 75\n",
       "North America                                152\n",
       "Northern Europe and Scandinavia               83\n",
       "South and Central America                    148\n",
       "Southern and Eastern Europe                   71\n",
       "Western Europe                               272"
      ]
     },
     "execution_count": 134,
     "metadata": {},
     "output_type": "execute_result"
    }
   ],
   "source": [
    "# Confirming no groups are smaller than 30\n",
    "df3.groupby('Region').count()"
   ]
  },
  {
   "cell_type": "code",
   "execution_count": 135,
   "metadata": {},
   "outputs": [
    {
     "data": {
      "text/html": [
       "<div>\n",
       "<style scoped>\n",
       "    .dataframe tbody tr th:only-of-type {\n",
       "        vertical-align: middle;\n",
       "    }\n",
       "\n",
       "    .dataframe tbody tr th {\n",
       "        vertical-align: top;\n",
       "    }\n",
       "\n",
       "    .dataframe thead th {\n",
       "        text-align: right;\n",
       "    }\n",
       "</style>\n",
       "<table border=\"1\" class=\"dataframe\">\n",
       "  <thead>\n",
       "    <tr style=\"text-align: right;\">\n",
       "      <th></th>\n",
       "      <th>price_per_order</th>\n",
       "    </tr>\n",
       "  </thead>\n",
       "  <tbody>\n",
       "    <tr>\n",
       "      <th>count</th>\n",
       "      <td>801.000000</td>\n",
       "    </tr>\n",
       "    <tr>\n",
       "      <th>mean</th>\n",
       "      <td>1533.053014</td>\n",
       "    </tr>\n",
       "    <tr>\n",
       "      <th>std</th>\n",
       "      <td>1851.077071</td>\n",
       "    </tr>\n",
       "    <tr>\n",
       "      <th>min</th>\n",
       "      <td>12.500000</td>\n",
       "    </tr>\n",
       "    <tr>\n",
       "      <th>25%</th>\n",
       "      <td>458.755000</td>\n",
       "    </tr>\n",
       "    <tr>\n",
       "      <th>50%</th>\n",
       "      <td>954.400000</td>\n",
       "    </tr>\n",
       "    <tr>\n",
       "      <th>75%</th>\n",
       "      <td>1885.000000</td>\n",
       "    </tr>\n",
       "    <tr>\n",
       "      <th>max</th>\n",
       "      <td>16387.500000</td>\n",
       "    </tr>\n",
       "  </tbody>\n",
       "</table>\n",
       "</div>"
      ],
      "text/plain": [
       "       price_per_order\n",
       "count       801.000000\n",
       "mean       1533.053014\n",
       "std        1851.077071\n",
       "min          12.500000\n",
       "25%         458.755000\n",
       "50%         954.400000\n",
       "75%        1885.000000\n",
       "max       16387.500000"
      ]
     },
     "execution_count": 135,
     "metadata": {},
     "output_type": "execute_result"
    }
   ],
   "source": [
    "# Inspecting the summary statistics\n",
    "df3.describe()"
   ]
  },
  {
   "cell_type": "code",
   "execution_count": 137,
   "metadata": {
    "scrolled": false
   },
   "outputs": [
    {
     "data": {
      "image/png": "[encoded data removed]",
      "text/plain": [
       "<Figure size 576x576 with 3 Axes>"
      ]
     },
     "metadata": {
      "needs_background": "light"
     },
     "output_type": "display_data"
    }
   ],
   "source": [
    "# Plotting the number of orders, total price per order and average price per order for each region\n",
    "fig, (ax1, ax2, ax3) = plt.subplots(3, 1, figsize=(8,8))\n",
    "df3.groupby(['Region'])['Region'].count().plot(kind='barh', ax=ax1)\n",
    "df3.groupby(['Region'])['price_per_order'].sum().plot(kind='barh', ax=ax2)\n",
    "df3.groupby(['Region'])['price_per_order'].mean().plot(kind='barh', ax=ax3)\n",
    "ax1.set_title('Total number of orders')\n",
    "ax1.set_ylabel('')\n",
    "ax2.set_title('Total price of orders ($)')\n",
    "ax2.set_ylabel('')\n",
    "ax3.set_ylabel('')\n",
    "ax3.set_title('Average price per order ($)')\n",
    "fig.subplots_adjust(hspace=0.4);"
   ]
  },
  {
   "cell_type": "code",
   "execution_count": 139,
   "metadata": {
    "scrolled": true
   },
   "outputs": [
    {
     "data": {
      "text/plain": [
       "Region\n",
       "British Isles                      108951.22\n",
       "North America                      295780.90\n",
       "Northern Europe and Scandinavia    111701.36\n",
       "South and Central America          159235.91\n",
       "Southern and Eastern Europe         48757.67\n",
       "Western Europe                     503548.41\n",
       "Name: price_per_order, dtype: float64"
      ]
     },
     "execution_count": 139,
     "metadata": {},
     "output_type": "execute_result"
    }
   ],
   "source": [
    "# Total price of orders\n",
    "round(df3.groupby(['Region'])['price_per_order'].sum(),2)"
   ]
  },
  {
   "cell_type": "code",
   "execution_count": 140,
   "metadata": {
    "scrolled": true
   },
   "outputs": [
    {
     "data": {
      "text/plain": [
       "Region\n",
       "British Isles                      1452.68\n",
       "North America                      1945.93\n",
       "Northern Europe and Scandinavia    1345.80\n",
       "South and Central America          1075.92\n",
       "Southern and Eastern Europe         686.73\n",
       "Western Europe                     1851.28\n",
       "Name: price_per_order, dtype: float64"
      ]
     },
     "execution_count": 140,
     "metadata": {},
     "output_type": "execute_result"
    }
   ],
   "source": [
    "# Average price of orders\n",
    "round(df3.groupby(['Region'])['price_per_order'].mean(),2)"
   ]
  },
  {
   "cell_type": "markdown",
   "metadata": {},
   "source": [
    "The graphs and tables above show that Western Europe is the region with the greatest number of orders, and also has the greatest total price of orders. However, North America has the most expensive order on average, followed by Western Europe. Southern and Eastern Europe has the lowest number of orders, lowest total price of orders, and cheapest order on average. The third graph lends support to the alternate hypothesis that there are significant differences in average order price between regions. This can be further investigated with statistical hypothesis testing.\n",
    "\n",
    "In this case, ANOVA will be used to test whether the differences between multiple samples (each region) are statistically significant.\n",
    "\n",
    "ANOVA assumes that the data is normally distributed, and that the samples have similar variances. This can be assessed with distribution plots:"
   ]
  },
  {
   "cell_type": "code",
   "execution_count": 141,
   "metadata": {
    "scrolled": true
   },
   "outputs": [
    {
     "name": "stderr",
     "output_type": "stream",
     "text": [
      "C:\\Users\\Laura\\Anaconda3\\envs\\learn-env\\lib\\site-packages\\scipy\\stats\\stats.py:1713: FutureWarning: Using a non-tuple sequence for multidimensional indexing is deprecated; use `arr[tuple(seq)]` instead of `arr[seq]`. In the future this will be interpreted as an array index, `arr[np.array(seq)]`, which will result either in an error or a different result.\n",
      "  return np.add.reduce(sorted[indexer] * weights, axis=axis) / sumval\n"
     ]
    },
    {
     "data": {
      "image/png": "[encoded data removed]",
      "text/plain": [
       "<Figure size 432x288 with 1 Axes>"
      ]
     },
     "metadata": {
      "needs_background": "light"
     },
     "output_type": "display_data"
    },
    {
     "data": {
      "image/png": "[encoded data removed]",
      "text/plain": [
       "<Figure size 432x288 with 1 Axes>"
      ]
     },
     "metadata": {
      "needs_background": "light"
     },
     "output_type": "display_data"
    },
    {
     "data": {
      "image/png": "[encoded data removed]",
      "text/plain": [
       "<Figure size 432x288 with 1 Axes>"
      ]
     },
     "metadata": {
      "needs_background": "light"
     },
     "output_type": "display_data"
    },
    {
     "data": {
      "image/png": "[encoded data removed]",
      "text/plain": [
       "<Figure size 432x288 with 1 Axes>"
      ]
     },
     "metadata": {
      "needs_background": "light"
     },
     "output_type": "display_data"
    },
    {
     "data": {
      "image/png": "[encoded data removed]",
      "text/plain": [
       "<Figure size 432x288 with 1 Axes>"
      ]
     },
     "metadata": {
      "needs_background": "light"
     },
     "output_type": "display_data"
    },
    {
     "data": {
      "image/png": "[encoded data removed]",
      "text/plain": [
       "<Figure size 432x288 with 1 Axes>"
      ]
     },
     "metadata": {
      "needs_background": "light"
     },
     "output_type": "display_data"
    }
   ],
   "source": [
    "# Separating the dataset into orders from different regions, and assessing their distributions\n",
    "for region in set(df3.Region):\n",
    "    region_group = df3.loc[df3['Region'] == region]\n",
    "    sns.distplot(region_group['price_per_order'])\n",
    "    plt.title(region)\n",
    "    plt.xlabel('Price per order ($)')\n",
    "    plt.show()"
   ]
  },
  {
   "cell_type": "markdown",
   "metadata": {},
   "source": [
    "The distribution plots above show that the data is heavily positively skewed, with very long tails (of different lengths for different regions). Although ANOVA is relatively robust to non-normal distributions, log-transforming the data is likely to make it better fit the ANOVA assumptions."
   ]
  },
  {
   "cell_type": "code",
   "execution_count": 142,
   "metadata": {},
   "outputs": [],
   "source": [
    "# Copying the dataset and log-transforming price_per_order\n",
    "df3_log = df3.copy()\n",
    "df3_log['price_per_order'] = np.log(df3['price_per_order'])"
   ]
  },
  {
   "cell_type": "code",
   "execution_count": 138,
   "metadata": {
    "scrolled": false
   },
   "outputs": [
    {
     "data": {
      "text/plain": [
       "Region\n",
       "British Isles                       75\n",
       "North America                      152\n",
       "Northern Europe and Scandinavia     83\n",
       "South and Central America          148\n",
       "Southern and Eastern Europe         71\n",
       "Western Europe                     272\n",
       "Name: Region, dtype: int64"
      ]
     },
     "execution_count": 138,
     "metadata": {},
     "output_type": "execute_result"
    }
   ],
   "source": [
    "# Total number of orders\n",
    "df3.groupby(['Region'])['Region'].count()"
   ]
  },
  {
   "cell_type": "code",
   "execution_count": 143,
   "metadata": {},
   "outputs": [
    {
     "name": "stderr",
     "output_type": "stream",
     "text": [
      "C:\\Users\\Laura\\Anaconda3\\envs\\learn-env\\lib\\site-packages\\scipy\\stats\\stats.py:1713: FutureWarning: Using a non-tuple sequence for multidimensional indexing is deprecated; use `arr[tuple(seq)]` instead of `arr[seq]`. In the future this will be interpreted as an array index, `arr[np.array(seq)]`, which will result either in an error or a different result.\n",
      "  return np.add.reduce(sorted[indexer] * weights, axis=axis) / sumval\n"
     ]
    },
    {
     "data": {
      "image/png": "[encoded data removed]",
      "text/plain": [
       "<Figure size 432x288 with 1 Axes>"
      ]
     },
     "metadata": {
      "needs_background": "light"
     },
     "output_type": "display_data"
    },
    {
     "data": {
      "image/png": "[encoded data removed]",
      "text/plain": [
       "<Figure size 432x288 with 1 Axes>"
      ]
     },
     "metadata": {
      "needs_background": "light"
     },
     "output_type": "display_data"
    },
    {
     "data": {
      "image/png": "[encoded data removed]",
      "text/plain": [
       "<Figure size 432x288 with 1 Axes>"
      ]
     },
     "metadata": {
      "needs_background": "light"
     },
     "output_type": "display_data"
    },
    {
     "data": {
      "image/png": "[encoded data removed]",
      "text/plain": [
       "<Figure size 432x288 with 1 Axes>"
      ]
     },
     "metadata": {
      "needs_background": "light"
     },
     "output_type": "display_data"
    },
    {
     "data": {
      "image/png": "[encoded data removed]",
      "text/plain": [
       "<Figure size 432x288 with 1 Axes>"
      ]
     },
     "metadata": {
      "needs_background": "light"
     },
     "output_type": "display_data"
    },
    {
     "data": {
      "image/png": "[encoded data removed]",
      "text/plain": [
       "<Figure size 432x288 with 1 Axes>"
      ]
     },
     "metadata": {
      "needs_background": "light"
     },
     "output_type": "display_data"
    }
   ],
   "source": [
    "# Re-plotting the distributions for the log-transformed data\n",
    "for region in set(df3_log.Region):\n",
    "    region_group = df3_log.loc[df3_log['Region'] == region]\n",
    "    sns.distplot(region_group['price_per_order'])\n",
    "    plt.title(region)\n",
    "    plt.xlabel('Price per order ($)')\n",
    "    plt.show()"
   ]
  },
  {
   "cell_type": "markdown",
   "metadata": {},
   "source": [
    "The data is now more normally distributed, and the variances from the mean are more similar. It is now possible to run an ANOVA test."
   ]
  },
  {
   "cell_type": "code",
   "execution_count": 144,
   "metadata": {},
   "outputs": [
    {
     "data": {
      "text/html": [
       "<div>\n",
       "<style scoped>\n",
       "    .dataframe tbody tr th:only-of-type {\n",
       "        vertical-align: middle;\n",
       "    }\n",
       "\n",
       "    .dataframe tbody tr th {\n",
       "        vertical-align: top;\n",
       "    }\n",
       "\n",
       "    .dataframe thead th {\n",
       "        text-align: right;\n",
       "    }\n",
       "</style>\n",
       "<table border=\"1\" class=\"dataframe\">\n",
       "  <thead>\n",
       "    <tr style=\"text-align: right;\">\n",
       "      <th></th>\n",
       "      <th>sum_sq</th>\n",
       "      <th>df</th>\n",
       "      <th>F</th>\n",
       "      <th>PR(&gt;F)</th>\n",
       "    </tr>\n",
       "  </thead>\n",
       "  <tbody>\n",
       "    <tr>\n",
       "      <th>C(Region)</th>\n",
       "      <td>77.999547</td>\n",
       "      <td>5.0</td>\n",
       "      <td>13.032374</td>\n",
       "      <td>3.285724e-12</td>\n",
       "    </tr>\n",
       "    <tr>\n",
       "      <th>Residual</th>\n",
       "      <td>951.624641</td>\n",
       "      <td>795.0</td>\n",
       "      <td>NaN</td>\n",
       "      <td>NaN</td>\n",
       "    </tr>\n",
       "  </tbody>\n",
       "</table>\n",
       "</div>"
      ],
      "text/plain": [
       "               sum_sq     df          F        PR(>F)\n",
       "C(Region)   77.999547    5.0  13.032374  3.285724e-12\n",
       "Residual   951.624641  795.0        NaN           NaN"
      ]
     },
     "execution_count": 144,
     "metadata": {},
     "output_type": "execute_result"
    }
   ],
   "source": [
    "# Fitting a model of price_per_order on Region categories, and using statsmodels to compute an ANOVA table\n",
    "lm = ols('price_per_order ~ C(Region)', df3_log).fit()\n",
    "sm.stats.anova_lm(lm, typ=2)"
   ]
  },
  {
   "cell_type": "code",
   "execution_count": 145,
   "metadata": {
    "scrolled": true
   },
   "outputs": [
    {
     "data": {
      "text/html": [
       "<table class=\"simpletable\">\n",
       "<caption>OLS Regression Results</caption>\n",
       "<tr>\n",
       "  <th>Dep. Variable:</th>     <td>price_per_order</td> <th>  R-squared:         </th> <td>   0.076</td>\n",
       "</tr>\n",
       "<tr>\n",
       "  <th>Model:</th>                   <td>OLS</td>       <th>  Adj. R-squared:    </th> <td>   0.070</td>\n",
       "</tr>\n",
       "<tr>\n",
       "  <th>Method:</th>             <td>Least Squares</td>  <th>  F-statistic:       </th> <td>   13.03</td>\n",
       "</tr>\n",
       "<tr>\n",
       "  <th>Date:</th>             <td>Fri, 08 Mar 2019</td> <th>  Prob (F-statistic):</th> <td>3.29e-12</td>\n",
       "</tr>\n",
       "<tr>\n",
       "  <th>Time:</th>                 <td>20:06:10</td>     <th>  Log-Likelihood:    </th> <td> -1205.6</td>\n",
       "</tr>\n",
       "<tr>\n",
       "  <th>No. Observations:</th>      <td>   801</td>      <th>  AIC:               </th> <td>   2423.</td>\n",
       "</tr>\n",
       "<tr>\n",
       "  <th>Df Residuals:</th>          <td>   795</td>      <th>  BIC:               </th> <td>   2451.</td>\n",
       "</tr>\n",
       "<tr>\n",
       "  <th>Df Model:</th>              <td>     5</td>      <th>                     </th>     <td> </td>   \n",
       "</tr>\n",
       "<tr>\n",
       "  <th>Covariance Type:</th>      <td>nonrobust</td>    <th>                     </th>     <td> </td>   \n",
       "</tr>\n",
       "</table>\n",
       "<table class=\"simpletable\">\n",
       "<tr>\n",
       "                        <td></td>                          <th>coef</th>     <th>std err</th>      <th>t</th>      <th>P>|t|</th>  <th>[0.025</th>    <th>0.975]</th>  \n",
       "</tr>\n",
       "<tr>\n",
       "  <th>Intercept</th>                                    <td>    6.7904</td> <td>    0.126</td> <td>   53.750</td> <td> 0.000</td> <td>    6.542</td> <td>    7.038</td>\n",
       "</tr>\n",
       "<tr>\n",
       "  <th>C(Region)[T.North America]</th>                   <td>    0.1968</td> <td>    0.154</td> <td>    1.274</td> <td> 0.203</td> <td>   -0.106</td> <td>    0.500</td>\n",
       "</tr>\n",
       "<tr>\n",
       "  <th>C(Region)[T.Northern Europe and Scandinavia]</th> <td>   -0.0461</td> <td>    0.174</td> <td>   -0.264</td> <td> 0.792</td> <td>   -0.388</td> <td>    0.296</td>\n",
       "</tr>\n",
       "<tr>\n",
       "  <th>C(Region)[T.South and Central America]</th>       <td>   -0.2610</td> <td>    0.155</td> <td>   -1.683</td> <td> 0.093</td> <td>   -0.565</td> <td>    0.043</td>\n",
       "</tr>\n",
       "<tr>\n",
       "  <th>C(Region)[T.Southern and Eastern Europe]</th>     <td>   -0.8159</td> <td>    0.181</td> <td>   -4.504</td> <td> 0.000</td> <td>   -1.171</td> <td>   -0.460</td>\n",
       "</tr>\n",
       "<tr>\n",
       "  <th>C(Region)[T.Western Europe]</th>                  <td>    0.2322</td> <td>    0.143</td> <td>    1.627</td> <td> 0.104</td> <td>   -0.048</td> <td>    0.512</td>\n",
       "</tr>\n",
       "</table>\n",
       "<table class=\"simpletable\">\n",
       "<tr>\n",
       "  <th>Omnibus:</th>       <td>37.987</td> <th>  Durbin-Watson:     </th> <td>   1.988</td>\n",
       "</tr>\n",
       "<tr>\n",
       "  <th>Prob(Omnibus):</th> <td> 0.000</td> <th>  Jarque-Bera (JB):  </th> <td>  42.797</td>\n",
       "</tr>\n",
       "<tr>\n",
       "  <th>Skew:</th>          <td>-0.520</td> <th>  Prob(JB):          </th> <td>5.09e-10</td>\n",
       "</tr>\n",
       "<tr>\n",
       "  <th>Kurtosis:</th>      <td> 3.449</td> <th>  Cond. No.          </th> <td>    9.23</td>\n",
       "</tr>\n",
       "</table><br/><br/>Warnings:<br/>[1] Standard Errors assume that the covariance matrix of the errors is correctly specified."
      ],
      "text/plain": [
       "<class 'statsmodels.iolib.summary.Summary'>\n",
       "\"\"\"\n",
       "                            OLS Regression Results                            \n",
       "==============================================================================\n",
       "Dep. Variable:        price_per_order   R-squared:                       0.076\n",
       "Model:                            OLS   Adj. R-squared:                  0.070\n",
       "Method:                 Least Squares   F-statistic:                     13.03\n",
       "Date:                Fri, 08 Mar 2019   Prob (F-statistic):           3.29e-12\n",
       "Time:                        20:06:10   Log-Likelihood:                -1205.6\n",
       "No. Observations:                 801   AIC:                             2423.\n",
       "Df Residuals:                     795   BIC:                             2451.\n",
       "Df Model:                           5                                         \n",
       "Covariance Type:            nonrobust                                         \n",
       "================================================================================================================\n",
       "                                                   coef    std err          t      P>|t|      [0.025      0.975]\n",
       "----------------------------------------------------------------------------------------------------------------\n",
       "Intercept                                        6.7904      0.126     53.750      0.000       6.542       7.038\n",
       "C(Region)[T.North America]                       0.1968      0.154      1.274      0.203      -0.106       0.500\n",
       "C(Region)[T.Northern Europe and Scandinavia]    -0.0461      0.174     -0.264      0.792      -0.388       0.296\n",
       "C(Region)[T.South and Central America]          -0.2610      0.155     -1.683      0.093      -0.565       0.043\n",
       "C(Region)[T.Southern and Eastern Europe]        -0.8159      0.181     -4.504      0.000      -1.171      -0.460\n",
       "C(Region)[T.Western Europe]                      0.2322      0.143      1.627      0.104      -0.048       0.512\n",
       "==============================================================================\n",
       "Omnibus:                       37.987   Durbin-Watson:                   1.988\n",
       "Prob(Omnibus):                  0.000   Jarque-Bera (JB):               42.797\n",
       "Skew:                          -0.520   Prob(JB):                     5.09e-10\n",
       "Kurtosis:                       3.449   Cond. No.                         9.23\n",
       "==============================================================================\n",
       "\n",
       "Warnings:\n",
       "[1] Standard Errors assume that the covariance matrix of the errors is correctly specified.\n",
       "\"\"\""
      ]
     },
     "execution_count": 145,
     "metadata": {},
     "output_type": "execute_result"
    }
   ],
   "source": [
    "lm.summary()"
   ]
  },
  {
   "cell_type": "code",
   "execution_count": 146,
   "metadata": {
    "scrolled": false
   },
   "outputs": [
    {
     "name": "stdout",
     "output_type": "stream",
     "text": [
      "Absolute difference:  1259.2\n",
      "Proportional difference:  2.83\n"
     ]
    }
   ],
   "source": [
    "# Difference between the average price of orders from Southern and Eastern European customers to those from North American customers\n",
    "print(\"Absolute difference: \", float(round((df3.loc[df3.Region == 'North America']).mean() - (df3.loc[df3.Region == 'Southern and Eastern Europe']).mean(),2)))\n",
    "print(\"Proportional difference: \", float(round(1 + ((df3.loc[df3.Region == 'North America']).mean() - (df3.loc[df3.Region == 'Southern and Eastern Europe']).mean()) / ((df3.loc[df3.Region == 'Southern and Eastern Europe']).mean()),2)))"
   ]
  },
  {
   "cell_type": "code",
   "execution_count": 147,
   "metadata": {},
   "outputs": [
    {
     "data": {
      "text/plain": [
       "price_per_order    1.80862\n",
       "dtype: float64"
      ]
     },
     "execution_count": 147,
     "metadata": {},
     "output_type": "execute_result"
    }
   ],
   "source": [
    "# Increase from the average price of orders from South and Central American customers to those from North American customers\n",
    "1 + ((df3.loc[df3.Region == 'North America']).mean() - (df3.loc[df3.Region == 'South and Central America']).mean()) / ((df3.loc[df3.Region == 'South and Central America']).mean())"
   ]
  },
  {
   "cell_type": "markdown",
   "metadata": {},
   "source": [
    "The ANOVA table above reveals that the p-value is  lower than the alpha value of 0.05. Therefore we can reject the null hypothesis and accept the alternate hypothesis. **We can conclude that there are significant differences in average order value between different regions, i.e. customers from different parts of the world spend different amounts of money on their orders, on average.**"
   ]
  },
  {
   "cell_type": "markdown",
   "metadata": {},
   "source": [
    "### Conclusions"
   ]
  },
  {
   "cell_type": "markdown",
   "metadata": {},
   "source": [
    "**Business insights:** \n",
    " - There are statistically significant differences in the average price per order from customers from different regions.\n",
    " - Western Eurpean customers place the most orders, and are the single biggest contributors to Northwind's bottom line. However, although North American customers have placed roughly half as many orders as those from Western Europe, they spend more per order, on average.\n",
    " - The difference between the region with the most expensive orders on average (North America, \\\\$1,945.93) and the region with the least expensive orders (Southern and Eastern Europe, \\\\$686.73) is \\\\$1,259.20, or 2.8 times more.\n",
    " - Southern and Eastern Europe has the smallest number of orders, the lowest total price of orders, and the lowest average price per order.\n",
    " - North American customers have placed a similar number of orders to those from South and Central America, but their average expenditure per order is 1.8 times higher.\n",
    "\n",
    "\n",
    "**Potential business actions and directions for future work:**\n",
    "\n",
    " - If Northwind was looking to focus on more profitable customers, a potential action would be to stop serving customers in Southern and Eastern Europe, and to focus more on customers in Western Europe and North America.\n",
    " \n",
    " - However, further analysis would be needed to confirm these findings (for example, it might be the case that some more expensive products are only available in certain regions)."
   ]
  },
  {
   "cell_type": "markdown",
   "metadata": {},
   "source": [
    "***"
   ]
  },
  {
   "cell_type": "markdown",
   "metadata": {},
   "source": [
    "## Question 4: Do customers order more products on particular days of the week?"
   ]
  },
  {
   "cell_type": "markdown",
   "metadata": {},
   "source": [
    "### Obtaining and scrubbing the data"
   ]
  },
  {
   "cell_type": "markdown",
   "metadata": {},
   "source": [
    "In this query, we want to extract the date that each order was placed on and the number of items ordered, from the Order and OrderDetail tables."
   ]
  },
  {
   "cell_type": "code",
   "execution_count": 150,
   "metadata": {
    "scrolled": true
   },
   "outputs": [
    {
     "data": {
      "text/plain": [
       "price_per_order    686.727711\n",
       "dtype: float64"
      ]
     },
     "execution_count": 150,
     "metadata": {},
     "output_type": "execute_result"
    }
   ],
   "source": [
    "df3.loc[df3.Region == 'Southern and Eastern Europe'].mean()"
   ]
  },
  {
   "cell_type": "code",
   "execution_count": 151,
   "metadata": {
    "scrolled": true
   },
   "outputs": [
    {
     "name": "stdout",
     "output_type": "stream",
     "text": [
      "2019-03-08 20:13:37,751 INFO sqlalchemy.engine.base.Engine SELECT o.OrderDate, od.Quantity\n",
      "    FROM [Order] o\n",
      "    JOIN OrderDetail od ON od.OrderId = o.Id\n",
      "    \n",
      "2019-03-08 20:13:37,752 INFO sqlalchemy.engine.base.Engine ()\n"
     ]
    },
    {
     "data": {
      "text/html": [
       "<div>\n",
       "<style scoped>\n",
       "    .dataframe tbody tr th:only-of-type {\n",
       "        vertical-align: middle;\n",
       "    }\n",
       "\n",
       "    .dataframe tbody tr th {\n",
       "        vertical-align: top;\n",
       "    }\n",
       "\n",
       "    .dataframe thead th {\n",
       "        text-align: right;\n",
       "    }\n",
       "</style>\n",
       "<table border=\"1\" class=\"dataframe\">\n",
       "  <thead>\n",
       "    <tr style=\"text-align: right;\">\n",
       "      <th></th>\n",
       "      <th>OrderDate</th>\n",
       "      <th>Quantity</th>\n",
       "    </tr>\n",
       "  </thead>\n",
       "  <tbody>\n",
       "    <tr>\n",
       "      <th>0</th>\n",
       "      <td>2012-07-04</td>\n",
       "      <td>12</td>\n",
       "    </tr>\n",
       "    <tr>\n",
       "      <th>1</th>\n",
       "      <td>2012-07-04</td>\n",
       "      <td>10</td>\n",
       "    </tr>\n",
       "    <tr>\n",
       "      <th>2</th>\n",
       "      <td>2012-07-04</td>\n",
       "      <td>5</td>\n",
       "    </tr>\n",
       "    <tr>\n",
       "      <th>3</th>\n",
       "      <td>2012-07-05</td>\n",
       "      <td>9</td>\n",
       "    </tr>\n",
       "    <tr>\n",
       "      <th>4</th>\n",
       "      <td>2012-07-05</td>\n",
       "      <td>40</td>\n",
       "    </tr>\n",
       "  </tbody>\n",
       "</table>\n",
       "</div>"
      ],
      "text/plain": [
       "    OrderDate  Quantity\n",
       "0  2012-07-04        12\n",
       "1  2012-07-04        10\n",
       "2  2012-07-04         5\n",
       "3  2012-07-05         9\n",
       "4  2012-07-05        40"
      ]
     },
     "execution_count": 151,
     "metadata": {},
     "output_type": "execute_result"
    }
   ],
   "source": [
    "# Extracting the dataset for question 4 as a pandas dataframe\n",
    "df4 = pd.read_sql_query(\"\"\"SELECT o.OrderDate, od.Quantity\n",
    "    FROM [Order] o\n",
    "    JOIN OrderDetail od ON od.OrderId = o.Id\n",
    "    \"\"\", engine)\n",
    "df4.head()"
   ]
  },
  {
   "cell_type": "code",
   "execution_count": 154,
   "metadata": {
    "scrolled": true
   },
   "outputs": [
    {
     "data": {
      "text/plain": [
       "2155"
      ]
     },
     "execution_count": 154,
     "metadata": {},
     "output_type": "execute_result"
    }
   ],
   "source": [
    "len(df4)"
   ]
  },
  {
   "cell_type": "code",
   "execution_count": 155,
   "metadata": {},
   "outputs": [
    {
     "name": "stdout",
     "output_type": "stream",
     "text": [
      "<class 'pandas.core.frame.DataFrame'>\n",
      "RangeIndex: 2155 entries, 0 to 2154\n",
      "Data columns (total 2 columns):\n",
      "OrderDate    2155 non-null object\n",
      "Quantity     2155 non-null int64\n",
      "dtypes: int64(1), object(1)\n",
      "memory usage: 33.8+ KB\n"
     ]
    }
   ],
   "source": [
    "# Checking for null values - none found\n",
    "df4.info()"
   ]
  },
  {
   "cell_type": "markdown",
   "metadata": {},
   "source": [
    "OrderDate now needs to be converted from a full date to the day of the week."
   ]
  },
  {
   "cell_type": "code",
   "execution_count": 156,
   "metadata": {
    "scrolled": true
   },
   "outputs": [],
   "source": [
    "# Converting to datetime\n",
    "df4['OrderDate'] = pd.to_datetime(df4['OrderDate'])\n",
    "# Adding a column for the day of the week\n",
    "df4['day_of_week'] = df4['OrderDate'].dt.weekday_name\n",
    "# Adding a column for the number of the day of the week (to help with visualising in the correct order)\n",
    "df4['int_day_of_week'] = df4['OrderDate'].dt.dayofweek"
   ]
  },
  {
   "cell_type": "code",
   "execution_count": 157,
   "metadata": {},
   "outputs": [
    {
     "data": {
      "text/html": [
       "<div>\n",
       "<style scoped>\n",
       "    .dataframe tbody tr th:only-of-type {\n",
       "        vertical-align: middle;\n",
       "    }\n",
       "\n",
       "    .dataframe tbody tr th {\n",
       "        vertical-align: top;\n",
       "    }\n",
       "\n",
       "    .dataframe thead th {\n",
       "        text-align: right;\n",
       "    }\n",
       "</style>\n",
       "<table border=\"1\" class=\"dataframe\">\n",
       "  <thead>\n",
       "    <tr style=\"text-align: right;\">\n",
       "      <th></th>\n",
       "      <th>OrderDate</th>\n",
       "      <th>Quantity</th>\n",
       "      <th>day_of_week</th>\n",
       "      <th>int_day_of_week</th>\n",
       "    </tr>\n",
       "  </thead>\n",
       "  <tbody>\n",
       "    <tr>\n",
       "      <th>0</th>\n",
       "      <td>2012-07-04</td>\n",
       "      <td>12</td>\n",
       "      <td>Wednesday</td>\n",
       "      <td>2</td>\n",
       "    </tr>\n",
       "    <tr>\n",
       "      <th>1</th>\n",
       "      <td>2012-07-04</td>\n",
       "      <td>10</td>\n",
       "      <td>Wednesday</td>\n",
       "      <td>2</td>\n",
       "    </tr>\n",
       "    <tr>\n",
       "      <th>2</th>\n",
       "      <td>2012-07-04</td>\n",
       "      <td>5</td>\n",
       "      <td>Wednesday</td>\n",
       "      <td>2</td>\n",
       "    </tr>\n",
       "    <tr>\n",
       "      <th>3</th>\n",
       "      <td>2012-07-05</td>\n",
       "      <td>9</td>\n",
       "      <td>Thursday</td>\n",
       "      <td>3</td>\n",
       "    </tr>\n",
       "    <tr>\n",
       "      <th>4</th>\n",
       "      <td>2012-07-05</td>\n",
       "      <td>40</td>\n",
       "      <td>Thursday</td>\n",
       "      <td>3</td>\n",
       "    </tr>\n",
       "  </tbody>\n",
       "</table>\n",
       "</div>"
      ],
      "text/plain": [
       "   OrderDate  Quantity day_of_week  int_day_of_week\n",
       "0 2012-07-04        12   Wednesday                2\n",
       "1 2012-07-04        10   Wednesday                2\n",
       "2 2012-07-04         5   Wednesday                2\n",
       "3 2012-07-05         9    Thursday                3\n",
       "4 2012-07-05        40    Thursday                3"
      ]
     },
     "execution_count": 157,
     "metadata": {},
     "output_type": "execute_result"
    }
   ],
   "source": [
    "df4.head()"
   ]
  },
  {
   "cell_type": "markdown",
   "metadata": {},
   "source": [
    "### Exploring the data and answering the question"
   ]
  },
  {
   "cell_type": "markdown",
   "metadata": {},
   "source": [
    "#### Do customers order more products on particular days of the week?\n",
    "\n",
    "To answer this question, a null and alternate hypothesis first need to be created:\n",
    "\n",
    "**H<sub>0</sub>**: the average number of products ordered on each day of the week is the same for each day\n",
    "\n",
    "**H<sub>a</sub>**: the average number of products ordered on each day of the week is different (either higher or lower) for each day\n",
    "\n",
    "The alpha level (i.e. the probability of rejecting the null hypothesis when it is true) will be set at 0.05."
   ]
  },
  {
   "cell_type": "code",
   "execution_count": 158,
   "metadata": {
    "scrolled": true
   },
   "outputs": [
    {
     "name": "stdout",
     "output_type": "stream",
     "text": [
      "The dates range from 2012-07-04 to 2014-05-06\n"
     ]
    }
   ],
   "source": [
    "# Investigating date range\n",
    "print(f\"The dates range from {df4.OrderDate.min().date()} to {df4.OrderDate.max().date()}\")"
   ]
  },
  {
   "cell_type": "markdown",
   "metadata": {},
   "source": [
    "The graph below plots the number of orders in each dataset over the period that the graph covers. It shows a general upwards trend with the number of orders increasing over time, particularly in 2014."
   ]
  },
  {
   "cell_type": "code",
   "execution_count": 159,
   "metadata": {},
   "outputs": [
    {
     "data": {
      "image/png": "[encoded data removed]",
      "text/plain": [
       "<Figure size 1080x360 with 1 Axes>"
      ]
     },
     "metadata": {
      "needs_background": "light"
     },
     "output_type": "display_data"
    }
   ],
   "source": [
    "# Plotting the number of orders per month\n",
    "per_month = df4.set_index('OrderDate').groupby(pd.Grouper(freq='M'))['Quantity'].sum()\n",
    "\n",
    "fig, ax = plt.subplots(figsize=(15,5))\n",
    "ax.plot(per_month.index, per_month.values, marker='x', color='seagreen')\n",
    "ax.set_title('Number of orders per month', size=16)\n",
    "ax.set_xlabel('Month', size=12)\n",
    "ax.set_ylabel('Number of orders', size=12)\n",
    "ax.grid(linestyle='--')\n",
    "ax.xaxis.set_major_formatter(DateFormatter(\"%b %Y\"))\n",
    "ax.xaxis.set_major_locator(mdates.MonthLocator())\n",
    "ax.set_xlim(left='2012-08-01', right='2014-05-01') # Removing the incomplete months at the beginning and end\n",
    "fig.autofmt_xdate();"
   ]
  },
  {
   "cell_type": "markdown",
   "metadata": {},
   "source": [
    "Orders are only placed on Sundays to Thursdays. The graphs below show that there are similar numbers of orders placed on each day of the week, and similar numbers of items ordered. Whether or not the differences that do exist are statistically signicant will be tested below, using ANOVA."
   ]
  },
  {
   "cell_type": "code",
   "execution_count": 160,
   "metadata": {
    "scrolled": false
   },
   "outputs": [
    {
     "data": {
      "image/png": "[encoded data removed]",
      "text/plain": [
       "<Figure size 576x432 with 2 Axes>"
      ]
     },
     "metadata": {
      "needs_background": "light"
     },
     "output_type": "display_data"
    }
   ],
   "source": [
    "# Plotting the number of items ordered by the day of the week\n",
    "fig, (ax1, ax2) = plt.subplots(2, 1, figsize=(8,6))\n",
    "df4.sort_values(['int_day_of_week'], ascending=False).groupby(['day_of_week'], sort=False)['day_of_week'].count().plot(kind='barh', ax=ax1)\n",
    "df4.sort_values(['int_day_of_week'], ascending=False).groupby(['day_of_week'], sort=False)['Quantity'].mean().plot(kind='barh', ax=ax2)\n",
    "ax1.set_title('Total number of orders')\n",
    "ax1.set_ylabel('')\n",
    "ax2.set_title('Average number of items ordered')\n",
    "ax2.set_ylabel('')\n",
    "fig.subplots_adjust(hspace=0.4);"
   ]
  },
  {
   "cell_type": "markdown",
   "metadata": {},
   "source": [
    "ANOVA assumes that the data is normally distributed, and that the samples have similar variances. This can be assessed with distribution plots:"
   ]
  },
  {
   "cell_type": "code",
   "execution_count": 161,
   "metadata": {
    "scrolled": true
   },
   "outputs": [
    {
     "name": "stderr",
     "output_type": "stream",
     "text": [
      "C:\\Users\\Laura\\Anaconda3\\envs\\learn-env\\lib\\site-packages\\scipy\\stats\\stats.py:1713: FutureWarning: Using a non-tuple sequence for multidimensional indexing is deprecated; use `arr[tuple(seq)]` instead of `arr[seq]`. In the future this will be interpreted as an array index, `arr[np.array(seq)]`, which will result either in an error or a different result.\n",
      "  return np.add.reduce(sorted[indexer] * weights, axis=axis) / sumval\n"
     ]
    },
    {
     "data": {
      "image/png": "[encoded data removed]",
      "text/plain": [
       "<Figure size 432x288 with 1 Axes>"
      ]
     },
     "metadata": {
      "needs_background": "light"
     },
     "output_type": "display_data"
    },
    {
     "data": {
      "image/png": "[encoded data removed]",
      "text/plain": [
       "<Figure size 432x288 with 1 Axes>"
      ]
     },
     "metadata": {
      "needs_background": "light"
     },
     "output_type": "display_data"
    },
    {
     "data": {
      "image/png": "[encoded data removed]",
      "text/plain": [
       "<Figure size 432x288 with 1 Axes>"
      ]
     },
     "metadata": {
      "needs_background": "light"
     },
     "output_type": "display_data"
    },
    {
     "data": {
      "image/png": "[encoded data removed]",
      "text/plain": [
       "<Figure size 432x288 with 1 Axes>"
      ]
     },
     "metadata": {
      "needs_background": "light"
     },
     "output_type": "display_data"
    },
    {
     "data": {
      "image/png": "[encoded data removed]",
      "text/plain": [
       "<Figure size 432x288 with 1 Axes>"
      ]
     },
     "metadata": {
      "needs_background": "light"
     },
     "output_type": "display_data"
    }
   ],
   "source": [
    "# Separating the dataset into orders from different days of the week, and assessing their distributions\n",
    "for day in set(df4['day_of_week']):\n",
    "    day_group = df4.loc[df4['day_of_week'] == day]\n",
    "    sns.distplot(day_group['Quantity'])\n",
    "    plt.title(day)\n",
    "    plt.show()"
   ]
  },
  {
   "cell_type": "markdown",
   "metadata": {},
   "source": [
    "Although the data is positively skewed, the distributions are similar enough to each other and to a normal distribution to allow an ANOVA test to be conducted."
   ]
  },
  {
   "cell_type": "code",
   "execution_count": 162,
   "metadata": {},
   "outputs": [
    {
     "data": {
      "text/html": [
       "<div>\n",
       "<style scoped>\n",
       "    .dataframe tbody tr th:only-of-type {\n",
       "        vertical-align: middle;\n",
       "    }\n",
       "\n",
       "    .dataframe tbody tr th {\n",
       "        vertical-align: top;\n",
       "    }\n",
       "\n",
       "    .dataframe thead th {\n",
       "        text-align: right;\n",
       "    }\n",
       "</style>\n",
       "<table border=\"1\" class=\"dataframe\">\n",
       "  <thead>\n",
       "    <tr style=\"text-align: right;\">\n",
       "      <th></th>\n",
       "      <th>sum_sq</th>\n",
       "      <th>df</th>\n",
       "      <th>F</th>\n",
       "      <th>PR(&gt;F)</th>\n",
       "    </tr>\n",
       "  </thead>\n",
       "  <tbody>\n",
       "    <tr>\n",
       "      <th>C(day_of_week)</th>\n",
       "      <td>662.192111</td>\n",
       "      <td>4.0</td>\n",
       "      <td>0.457058</td>\n",
       "      <td>0.7673</td>\n",
       "    </tr>\n",
       "    <tr>\n",
       "      <th>Residual</th>\n",
       "      <td>778737.444084</td>\n",
       "      <td>2150.0</td>\n",
       "      <td>NaN</td>\n",
       "      <td>NaN</td>\n",
       "    </tr>\n",
       "  </tbody>\n",
       "</table>\n",
       "</div>"
      ],
      "text/plain": [
       "                       sum_sq      df         F  PR(>F)\n",
       "C(day_of_week)     662.192111     4.0  0.457058  0.7673\n",
       "Residual        778737.444084  2150.0       NaN     NaN"
      ]
     },
     "execution_count": 162,
     "metadata": {},
     "output_type": "execute_result"
    }
   ],
   "source": [
    "# Fitting a model of price_per_order on Region categories, and using statsmodels to compute an ANOVA table\n",
    "lm = ols('Quantity ~ C(day_of_week)', df4).fit()\n",
    "sm.stats.anova_lm(lm, typ=2)"
   ]
  },
  {
   "cell_type": "code",
   "execution_count": 163,
   "metadata": {
    "scrolled": true
   },
   "outputs": [
    {
     "data": {
      "text/html": [
       "<table class=\"simpletable\">\n",
       "<caption>OLS Regression Results</caption>\n",
       "<tr>\n",
       "  <th>Dep. Variable:</th>        <td>Quantity</td>     <th>  R-squared:         </th> <td>   0.001</td> \n",
       "</tr>\n",
       "<tr>\n",
       "  <th>Model:</th>                   <td>OLS</td>       <th>  Adj. R-squared:    </th> <td>  -0.001</td> \n",
       "</tr>\n",
       "<tr>\n",
       "  <th>Method:</th>             <td>Least Squares</td>  <th>  F-statistic:       </th> <td>  0.4571</td> \n",
       "</tr>\n",
       "<tr>\n",
       "  <th>Date:</th>             <td>Fri, 08 Mar 2019</td> <th>  Prob (F-statistic):</th>  <td> 0.767</td>  \n",
       "</tr>\n",
       "<tr>\n",
       "  <th>Time:</th>                 <td>20:15:33</td>     <th>  Log-Likelihood:    </th> <td> -9404.2</td> \n",
       "</tr>\n",
       "<tr>\n",
       "  <th>No. Observations:</th>      <td>  2155</td>      <th>  AIC:               </th> <td>1.882e+04</td>\n",
       "</tr>\n",
       "<tr>\n",
       "  <th>Df Residuals:</th>          <td>  2150</td>      <th>  BIC:               </th> <td>1.885e+04</td>\n",
       "</tr>\n",
       "<tr>\n",
       "  <th>Df Model:</th>              <td>     4</td>      <th>                     </th>     <td> </td>    \n",
       "</tr>\n",
       "<tr>\n",
       "  <th>Covariance Type:</th>      <td>nonrobust</td>    <th>                     </th>     <td> </td>    \n",
       "</tr>\n",
       "</table>\n",
       "<table class=\"simpletable\">\n",
       "<tr>\n",
       "               <td></td>                  <th>coef</th>     <th>std err</th>      <th>t</th>      <th>P>|t|</th>  <th>[0.025</th>    <th>0.975]</th>  \n",
       "</tr>\n",
       "<tr>\n",
       "  <th>Intercept</th>                   <td>   23.7553</td> <td>    0.923</td> <td>   25.732</td> <td> 0.000</td> <td>   21.945</td> <td>   25.566</td>\n",
       "</tr>\n",
       "<tr>\n",
       "  <th>C(day_of_week)[T.Sunday]</th>    <td>    0.0768</td> <td>    1.312</td> <td>    0.059</td> <td> 0.953</td> <td>   -2.496</td> <td>    2.649</td>\n",
       "</tr>\n",
       "<tr>\n",
       "  <th>C(day_of_week)[T.Thursday]</th>  <td>    0.8732</td> <td>    1.303</td> <td>    0.670</td> <td> 0.503</td> <td>   -1.683</td> <td>    3.429</td>\n",
       "</tr>\n",
       "<tr>\n",
       "  <th>C(day_of_week)[T.Tuesday]</th>   <td>    0.2068</td> <td>    1.288</td> <td>    0.161</td> <td> 0.872</td> <td>   -2.319</td> <td>    2.733</td>\n",
       "</tr>\n",
       "<tr>\n",
       "  <th>C(day_of_week)[T.Wednesday]</th> <td>   -0.8585</td> <td>    1.297</td> <td>   -0.662</td> <td> 0.508</td> <td>   -3.403</td> <td>    1.686</td>\n",
       "</tr>\n",
       "</table>\n",
       "<table class=\"simpletable\">\n",
       "<tr>\n",
       "  <th>Omnibus:</th>       <td>790.296</td> <th>  Durbin-Watson:     </th> <td>   1.617</td>\n",
       "</tr>\n",
       "<tr>\n",
       "  <th>Prob(Omnibus):</th> <td> 0.000</td>  <th>  Jarque-Bera (JB):  </th> <td>3047.217</td>\n",
       "</tr>\n",
       "<tr>\n",
       "  <th>Skew:</th>          <td> 1.784</td>  <th>  Prob(JB):          </th> <td>    0.00</td>\n",
       "</tr>\n",
       "<tr>\n",
       "  <th>Kurtosis:</th>      <td> 7.606</td>  <th>  Cond. No.          </th> <td>    5.87</td>\n",
       "</tr>\n",
       "</table><br/><br/>Warnings:<br/>[1] Standard Errors assume that the covariance matrix of the errors is correctly specified."
      ],
      "text/plain": [
       "<class 'statsmodels.iolib.summary.Summary'>\n",
       "\"\"\"\n",
       "                            OLS Regression Results                            \n",
       "==============================================================================\n",
       "Dep. Variable:               Quantity   R-squared:                       0.001\n",
       "Model:                            OLS   Adj. R-squared:                 -0.001\n",
       "Method:                 Least Squares   F-statistic:                    0.4571\n",
       "Date:                Fri, 08 Mar 2019   Prob (F-statistic):              0.767\n",
       "Time:                        20:15:33   Log-Likelihood:                -9404.2\n",
       "No. Observations:                2155   AIC:                         1.882e+04\n",
       "Df Residuals:                    2150   BIC:                         1.885e+04\n",
       "Df Model:                           4                                         \n",
       "Covariance Type:            nonrobust                                         \n",
       "===============================================================================================\n",
       "                                  coef    std err          t      P>|t|      [0.025      0.975]\n",
       "-----------------------------------------------------------------------------------------------\n",
       "Intercept                      23.7553      0.923     25.732      0.000      21.945      25.566\n",
       "C(day_of_week)[T.Sunday]        0.0768      1.312      0.059      0.953      -2.496       2.649\n",
       "C(day_of_week)[T.Thursday]      0.8732      1.303      0.670      0.503      -1.683       3.429\n",
       "C(day_of_week)[T.Tuesday]       0.2068      1.288      0.161      0.872      -2.319       2.733\n",
       "C(day_of_week)[T.Wednesday]    -0.8585      1.297     -0.662      0.508      -3.403       1.686\n",
       "==============================================================================\n",
       "Omnibus:                      790.296   Durbin-Watson:                   1.617\n",
       "Prob(Omnibus):                  0.000   Jarque-Bera (JB):             3047.217\n",
       "Skew:                           1.784   Prob(JB):                         0.00\n",
       "Kurtosis:                       7.606   Cond. No.                         5.87\n",
       "==============================================================================\n",
       "\n",
       "Warnings:\n",
       "[1] Standard Errors assume that the covariance matrix of the errors is correctly specified.\n",
       "\"\"\""
      ]
     },
     "execution_count": 163,
     "metadata": {},
     "output_type": "execute_result"
    }
   ],
   "source": [
    "lm.summary()"
   ]
  },
  {
   "cell_type": "markdown",
   "metadata": {},
   "source": [
    "The ANOVA table above reveals that the p-value is 0.767, which is much higher than the alpha value of 0.05. Therefore we cannot reject the null hypothesis that there is no difference between the average number of items ordered on each day of the week. The model summary table provides further evidence for this conclusion. The p-values for each pairwise comparison between Monday and every other day are all above the alpha value, indicating that no individual days have a statistically significant difference. Additionally, the overall r/eta squared value for the model is negligible, confirming that the day on which an order was placed does not explain the differences in the numbers of items ordered."
   ]
  },
  {
   "cell_type": "markdown",
   "metadata": {},
   "source": [
    "### Conclusions"
   ]
  },
  {
   "cell_type": "markdown",
   "metadata": {},
   "source": [
    "**Business insights:**\n",
    " - There are no statistically significant differences in the number of items ordered on different days of the week\n",
    "\n",
    "**Potential business actions and directions for future work:**\n",
    " - If customers are ordering similar numbers of items on each day of the week, it suggests that there is no need to staff different days with different numbers of sales representatives or make other adjustments. However, further work could be conducted to investigate other potential differences between days, e.g. more or less expensive items ordered on different days of the week."
   ]
  },
  {
   "cell_type": "markdown",
   "metadata": {},
   "source": [
    "***"
   ]
  },
  {
   "cell_type": "markdown",
   "metadata": {},
   "source": [
    "## Summary"
   ]
  },
  {
   "cell_type": "markdown",
   "metadata": {},
   "source": [
    "Four questions were addressed over the course of this project:\n",
    "\n",
    "1. *Do discounts have a statistically significant effect on the number of products customers order? If so, at what level(s) of discount?*\n",
    " - **Yes**. The presence of a discount has a statistically significant effect on the number of products customers order, with a **26% increase** in the number of items ordered for products with a discount offered compared to those with no discount. However, there are no statistically significant differences between different levels of discount. Results therefore suggest that the optimum level of discount is 5% (the lowest offered).\n",
    "\n",
    "\n",
    "2. *Do discounts affect the amount that a customer spends on their order? If so, at what level(s) of discount, and does offering discounts make back more than they cost?*\n",
    " - **Yes**. The presence of a discount has a statistically significant effect on the amount that customers spend per order, with a **10% increase** in the average price per order for orders with a discount offered, compared to those with no discount. However, there are no statistically significant differences between different levels of discount. Results therefore suggest that the optimum level of discount is 5% (the only discoutn level that makes back more than it costs).\n",
    " \n",
    "3. *Does the average amount spent per order vary between customers from different regions?*\n",
    " - **Yes**. There are statistically significant differences in the average price per order from customers from different regions. Western Eurpean customers place the most orders, and are the single biggest contributors to Northwind's bottom line, but North American customers places the most expensive orders on average. Southern and Eastern Europe has the smallest number of orders, the lowest total price of orders, and the lowest average price per order. North American customers spend **2.8 times more** per order than Southern and Eastern European customers.\n",
    "\n",
    "\n",
    "4. *Do customers order more products on particular days of the week?*\n",
    " - **No**. There are no statistically significant differences between the number of products ordered on different days of the week."
   ]
  }
 ],
 "metadata": {
  "kernelspec": {
   "display_name": "learn-env",
   "language": "python",
   "name": "learn-env"
  },
  "language_info": {
   "codemirror_mode": {
    "name": "ipython",
    "version": 3
   },
   "file_extension": ".py",
   "mimetype": "text/x-python",
   "name": "python",
   "nbconvert_exporter": "python",
   "pygments_lexer": "ipython3",
   "version": "3.6.6"
  }
 },
 "nbformat": 4,
 "nbformat_minor": 2
}
